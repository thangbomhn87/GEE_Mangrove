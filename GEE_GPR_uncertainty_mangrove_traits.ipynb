{
  "nbformat": 4,
  "nbformat_minor": 0,
  "metadata": {
    "colab": {
      "provenance": []
    },
    "kernelspec": {
      "name": "python3",
      "display_name": "Python 3"
    },
    "language_info": {
      "name": "python"
    }
  },
  "cells": [
    {
      "cell_type": "markdown",
      "source": [
        "# GEE relative uncertainty retrieval S2 TOA"
      ],
      "metadata": {
        "id": "hhUW_Huk3JJz"
      }
    },
    {
      "cell_type": "markdown",
      "source": [
        "## Environment setup"
      ],
      "metadata": {
        "id": "XKiWyVza5LwG"
      }
    },
    {
      "cell_type": "code",
      "source": [
        "!pip install geemap"
      ],
      "metadata": {
        "id": "2WNDwDiK3XgJ"
      },
      "execution_count": null,
      "outputs": []
    },
    {
      "cell_type": "code",
      "source": [
        "import geemap\n",
        "import ee"
      ],
      "metadata": {
        "id": "flyHUVLpVrMD"
      },
      "execution_count": null,
      "outputs": []
    },
    {
      "cell_type": "code",
      "metadata": {
        "id": "wcnFEOKIvwba",
        "colab": {
          "base_uri": "https://localhost:8080/"
        },
        "outputId": "606508f3-7976-4aa5-a36f-263005ab533d"
      },
      "source": [
        "# Trigger the authentication flow.\n",
        "ee.Authenticate()\n",
        "# Initialize the library.\n",
        "ee.Initialize()"
      ],
      "execution_count": null,
      "outputs": [
        {
          "output_type": "stream",
          "name": "stdout",
          "text": [
            "To authorize access needed by Earth Engine, open the following URL in a web browser and follow the instructions. If the web browser does not start automatically, please manually browse the URL below.\n",
            "\n",
            "    https://code.earthengine.google.com/client-auth?scopes=https%3A//www.googleapis.com/auth/earthengine%20https%3A//www.googleapis.com/auth/devstorage.full_control&request_id=ykAijDUvbkTu0KUhKvwoncgJlgdHr5zSPknctSK24mI&tc=_f4FznZwUniBjL7sLFo_4Oq1Ii-wsyhw08xgXqjxP7U&cc=hRJ91qwABImI4nFmTvhtZZmdGI-03kJgH-6iJfn-PM0\n",
            "\n",
            "The authorization workflow will generate a code, which you should paste in the box below.\n",
            "Enter verification code: 4/1Adeu5BXDD52p693YaVjtnwcBup75-pFchKg4wm4ITt0dUN-o6ZzjmHY5oiM\n",
            "\n",
            "Successfully saved authorization token.\n"
          ]
        }
      ]
    },
    {
      "cell_type": "code",
      "source": [
        "from google.colab import drive\n",
        "drive.mount('/content/drive')"
      ],
      "metadata": {
        "colab": {
          "base_uri": "https://localhost:8080/"
        },
        "id": "cIzDf8tX5ZMR",
        "outputId": "b40e80ce-ffea-4268-c305-bc09ff2f18d7"
      },
      "execution_count": null,
      "outputs": [
        {
          "output_type": "stream",
          "name": "stdout",
          "text": [
            "Mounted at /content/drive\n"
          ]
        }
      ]
    },
    {
      "cell_type": "markdown",
      "metadata": {
        "id": "l6mVy3PnWhZj"
      },
      "source": [
        "## Model import"
      ]
    },
    {
      "cell_type": "code",
      "metadata": {
        "id": "Qz0jIQ8jwX9i"
      },
      "source": [
        "# Copy TOA models with uncertainty related hyperparameters contained in TOAModelsUnc.py into the local Colab working directory from Google Drive\n",
        "# (modify the following path with the Google Drive Path where TOAModelsUnc.py is)\n",
        "!cp /content/drive/MyDrive/geePythonModels/overall_model_gee_Cm.py .\n",
        "# Import the models\n",
        "import overall_model_gee_Cm"
      ],
      "execution_count": null,
      "outputs": []
    },
    {
      "cell_type": "code",
      "metadata": {
        "id": "9_enhfcmUmlE"
      },
      "source": [
        "# Possible values: 'Cab', 'Cm', 'Cw', 'FVC', 'LAI', 'laiCab', 'laiCw', 'laiCm'\n",
        "cropTrait = 'Cm'\n",
        "uncModel = overall_model_gee_Cm.models[cropTrait]"
      ],
      "execution_count": null,
      "outputs": []
    },
    {
      "cell_type": "markdown",
      "metadata": {
        "id": "jD9Tvb0BiLrM"
      },
      "source": [
        "## Functions"
      ]
    },
    {
      "cell_type": "code",
      "metadata": {
        "id": "6Cf1rQb6iEN9"
      },
      "source": [
        "# Function to mask the clouds in S2\n",
        "def maskS2cloud_and_water(image):\n",
        "  not_cloud_shadows = image.select('SCL').neq(3);\n",
        "  not_water = image.select('SCL').neq(6);\n",
        "  not_cloud_low = image.select('SCL').neq(7);\n",
        "  not_cloud_medium = image.select('SCL').neq(8);\n",
        "  not_cloud_high = image.select('SCL').neq(9);\n",
        "  not_cirrus = image.select('SCL').neq(10);\n",
        "  not_ice = image.select('SCL').neq(11);\n",
        "\n",
        "  qa = image.select('QA60');\n",
        "  cloudBitMask = 1 << 10;\n",
        "  cirrusBitMask = 1 << 11;\n",
        "  mask = (qa.bitwiseAnd(cloudBitMask).eq(0).And(qa.bitwiseAnd(cirrusBitMask).eq(0)).And(not_cloud_shadows)\n",
        "    .And(not_water).And(not_cloud_low).And(not_cloud_medium).And(not_cloud_high).And(not_cirrus).And(not_ice))\n",
        "  return image.updateMask(mask).divide(10000).copyProperties(qa).set('system:time_start', qa.get('system:time_start'))\n",
        "\n",
        "# Auxiliar function for mapping : (1..n) -> (B1..Bn)\n",
        "def band_names(element):\n",
        "  bandName = ee.String('B').cat(ee.Number(element).int().format())\n",
        "  return bandName\n",
        "\n",
        "# Crop trait GPR mean prediction\n",
        "def veg_index_GPR(image_orig):\n",
        "  # Create List of Bands of Dimension n (Xtrain[n,n])\n",
        "  XTrain_dim = uncModel['X_train'].length().get([0]).getInfo();\n",
        "  band_sequence   = (ee.List.sequence(1, XTrain_dim).map(band_names));\n",
        "  # Create a list of band names for flattening operation\n",
        "  im_norm_ell2D_hypell = image_orig.subtract(ee.Image(uncModel['mx'])).divide(ee.Image(uncModel['sx'])).multiply(ee.Image(uncModel['hyp_ell'])).toArray().toArray(1);\n",
        "  im_norm_ell2D = image_orig.subtract(ee.Image(uncModel['mx'])).divide(ee.Image(uncModel['sx'])).toArray().toArray(1);\n",
        "  PtTPt  = im_norm_ell2D_hypell.matrixTranspose().matrixMultiply(im_norm_ell2D).arrayProject([0]).multiply(-0.5);\n",
        "  PtTDX  = ee.Image(uncModel['X_train']).matrixMultiply(im_norm_ell2D_hypell).arrayProject([0]).arrayFlatten([band_sequence]);\n",
        "  arg1   = PtTPt.exp().multiply(uncModel['hyp_sig']);\n",
        "  k_star = PtTDX.subtract(ee.Image(uncModel['XDX_pre_calc']).multiply(0.5)).exp().toArray();\n",
        "  mean_pred = k_star.arrayDotProduct(ee.Image(uncModel['alpha_coefficients']).toArray()).multiply(arg1);\n",
        "  mean_pred = mean_pred.toArray(1).arrayProject([0]).arrayFlatten([[uncModel['veg_index']]]);\n",
        "  mean_pred = mean_pred.add(uncModel['mean_model']);\n",
        "  image_orig = image_orig.addBands(mean_pred)\n",
        "  return image_orig.select(uncModel['veg_index'])\n",
        "\n",
        "# Uncertainty retrieval\n",
        "def get_GPR_uncertainty(image_orig):\n",
        "  # Create List of Bands of Dimension n (Xtrain[n,n])\n",
        "  XTrain_dim = uncModel['X_train'].length().get([0]).getInfo()\n",
        "  band_sequence   = (ee.List.sequence(1, XTrain_dim).map(band_names))\n",
        "  # Create a list of band names for flattening operation\n",
        "  im_norm_ell2D_hypell = image_orig.subtract(ee.Image(uncModel['mx'])).divide(ee.Image(uncModel['sx'])).multiply(ee.Image(uncModel['hyp_ell'])).toArray().toArray(1)\n",
        "  im_norm_ell2D = image_orig.subtract(ee.Image(uncModel['mx'])).divide(ee.Image(uncModel['sx'])).toArray().toArray(1)\n",
        "  PtTPt  = im_norm_ell2D_hypell.matrixTranspose().matrixMultiply(im_norm_ell2D).arrayProject([0]).multiply(-0.5)\n",
        "  PtTDX  = ee.Image(uncModel['X_train']).matrixMultiply(im_norm_ell2D_hypell).arrayProject([0]).arrayFlatten([band_sequence])\n",
        "  arg1   = PtTPt.exp().multiply(uncModel['hyp_sig']);\n",
        "  k_star = PtTDX.subtract(ee.Image(uncModel['XDX_pre_calc']).multiply(0.5)).exp().multiply(arg1).toArray()\n",
        "\n",
        "  variance_vector = ee.Image(uncModel['Linv_pre_calc']).matrixMultiply(k_star.toArray(0).toArray(1)).arrayProject([0])\n",
        "  variance = ee.Image(uncModel['hyp_sig_unc']).toArray().subtract(variance_vector.arrayDotProduct(variance_vector))\n",
        "  variance = variance.toArray(1).arrayProject([0]).arrayFlatten([[uncModel['veg_index']+'_unc']])\n",
        "  image_orig = image_orig.addBands(variance)\n",
        "  return image_orig.select(uncModel['veg_index']+'_unc').abs().sqrt()"
      ],
      "execution_count": null,
      "outputs": []
    },
    {
      "cell_type": "markdown",
      "source": [
        "## Area of interest parameters"
      ],
      "metadata": {
        "id": "D3Vwedss7iDj"
      }
    },
    {
      "cell_type": "code",
      "source": [
        "polygon = ee.Geometry.Polygon(\n",
        "  [[[104.94710610605645,8.605965246171419],\n",
        "    [104.94710610605645,8.669099010946878],\n",
        "    [104.76445840097833,8.669099010946878],\n",
        "    [104.76445840097833,8.605965246171419]]])\n",
        "\n",
        "studyArea = ee.FeatureCollection('projects/ee-ngabinh1987/assets/DiaPhan_VQG_DatMui')"
      ],
      "metadata": {
        "id": "yDOhZz1y7sPP"
      },
      "execution_count": null,
      "outputs": []
    },
    {
      "cell_type": "markdown",
      "metadata": {
        "id": "AkfoJP1odvT5"
      },
      "source": [
        "## Mangrove Vegetation Index (MVI)"
      ]
    },
    {
      "cell_type": "code",
      "source": [
        "annual_collection  = (ee.ImageCollection('COPERNICUS/S2_SR_HARMONIZED')\n",
        "  .filterBounds(polygon)\n",
        "  .filterDate('2019-01-01', '2022-12-31')\n",
        "  .map(maskS2cloud_and_water)\n",
        "  .select(['B3', 'B8', 'B11']))\n",
        "\n",
        "mean_annual_image = annual_collection.median().clip(studyArea);\n",
        "\n",
        "MVI = mean_annual_image.expression('(b(\"B8\") - b(\"B3\"))/(b(\"B11\") - b(\"B3\"))');\n",
        "\n",
        "def classify_mangrove(img):\n",
        "  band = img.select('B8')\n",
        "  mangrove = band.gt(4.5).rename('mangrove')\n",
        "  mangrove = mangrove.updateMask(mangrove)\n",
        "  return img.addBands(mangrove)\n",
        "\n",
        "MVI_classify = classify_mangrove(MVI);\n",
        "\n",
        "def clip_StudyArea(image):return image.clip(studyArea)\n",
        "def clip_MVI(image):return image.updateMask(MVI_classify.select('mangrove'))"
      ],
      "metadata": {
        "id": "jYs6a51kKBts"
      },
      "execution_count": null,
      "outputs": []
    },
    {
      "cell_type": "markdown",
      "source": [
        "## Traits, Uncertainty, Relative Uncertainty"
      ],
      "metadata": {
        "id": "Hk4LHhSWVPWq"
      }
    },
    {
      "cell_type": "code",
      "metadata": {
        "id": "FIYid7EWdv1q",
        "colab": {
          "base_uri": "https://localhost:8080/",
          "height": 67
        },
        "outputId": "2e646ffb-b292-480a-8e83-18bebf3cbab7"
      },
      "source": [
        "# Image Collection\n",
        "img_col = (ee.ImageCollection('COPERNICUS/S2_SR_HARMONIZED')\n",
        "  .filterBounds(polygon)\n",
        "  .filterDate('2023-06-01', '2023-06-30')\n",
        "  .map(maskS2cloud_and_water)\n",
        "  .select(['B2', 'B3', 'B4', 'B5', 'B6', 'B7', 'B8', 'B8A', 'B11', 'B12'])\n",
        "  .map(clip_StudyArea)\n",
        "  .map(clip_MVI));\n",
        "\n",
        "# Predicted mean trait\n",
        "trait = img_col.map(veg_index_GPR).mean().copyProperties(\n",
        "  source = img_col.first(),\n",
        "  properties = ['system:time_start']\n",
        "  );\n",
        "\n",
        "# Absolute uncertainty retrieval (SD)\n",
        "SD = img_col.map(get_GPR_uncertainty).mean().copyProperties(\n",
        "  source = img_col.first(),\n",
        "  properties = ['system:time_start']\n",
        "  );\n",
        "\n",
        "# Convert to image (mặc dù các kết quả tính ra đã là image nhưng nếu ko covert lại một lần nữa vẫn bị lỗi)\n",
        "imageTrait = ee.Image(trait)\n",
        "imageSD = ee.Image(SD)\n",
        "\n",
        "# Relative uncertainty retrieval (CV)\n",
        "imageCV = imageSD.divide(imageTrait).multiply(100).rename([cropTrait+'_CV'])\n",
        "\n",
        "imageSD"
      ],
      "execution_count": null,
      "outputs": [
        {
          "output_type": "execute_result",
          "data": {
            "text/plain": [
              "<ee.image.Image at 0x791ef29621d0>"
            ],
            "text/html": [
              "<div><style>:root {\n",
              "  --font-color-primary: var(--jp-content-font-color0, rgba(0, 0, 0, 1));\n",
              "  --font-color-secondary: var(--jp-content-font-color2, rgba(0, 0, 0, 0.6));\n",
              "  --font-color-accent: rgba(123, 31, 162, 1);\n",
              "  --border-color: var(--jp-border-color2, #e0e0e0);\n",
              "  --background-color: var(--jp-layout-color0, white);\n",
              "  --background-color-row-even: var(--jp-layout-color1, white);\n",
              "  --background-color-row-odd: var(--jp-layout-color2, #eeeeee);\n",
              "}\n",
              "\n",
              "html[theme=\"dark\"],\n",
              "body[data-theme=\"dark\"],\n",
              "body.vscode-dark {\n",
              "  --font-color-primary: rgba(255, 255, 255, 1);\n",
              "  --font-color-secondary: rgba(255, 255, 255, 0.6);\n",
              "  --font-color-accent: rgb(173, 132, 190);\n",
              "  --border-color: #2e2e2e;\n",
              "  --background-color: #111111;\n",
              "  --background-color-row-even: #111111;\n",
              "  --background-color-row-odd: #313131;\n",
              "}\n",
              "\n",
              ".ee {\n",
              "  padding: 1em;\n",
              "  line-height: 1.5em;\n",
              "  min-width: 300px;\n",
              "  max-width: 1200px;\n",
              "  overflow-y: scroll;\n",
              "  max-height: 600px;\n",
              "  border: 1px solid var(--border-color);\n",
              "  font-family: monospace;\n",
              "}\n",
              "\n",
              ".ee li {\n",
              "  list-style-type: none;\n",
              "}\n",
              "\n",
              ".ee ul {\n",
              "  padding-left: 1.5em !important;\n",
              "  margin: 0;\n",
              "}\n",
              "\n",
              ".ee > ul {\n",
              "  padding-left: 0 !important;\n",
              "}\n",
              "\n",
              ".ee-open,\n",
              ".ee-shut {\n",
              "  color: var(--font-color-secondary);\n",
              "  cursor: pointer;\n",
              "  margin: 0;\n",
              "}\n",
              "\n",
              ".ee-open:hover,\n",
              ".ee-shut:hover {\n",
              "  color: var(--font-color-primary);\n",
              "}\n",
              "\n",
              ".ee-k {\n",
              "  color: var(--font-color-accent);\n",
              "  margin-right: 6px;\n",
              "}\n",
              "\n",
              ".ee-v {\n",
              "  color: var(--font-color-primary);\n",
              "}\n",
              "\n",
              ".ee-toggle {\n",
              "  display: none;\n",
              "}\n",
              "\n",
              ".ee-shut + ul {\n",
              "  display: none;\n",
              "}\n",
              "\n",
              ".ee-open + ul {\n",
              "  display: block;\n",
              "}\n",
              "\n",
              ".ee-shut::before {\n",
              "  display: inline-block;\n",
              "  content: \"▼\";\n",
              "  margin-right: 6px;\n",
              "  transform: rotate(-90deg);\n",
              "  transition: transform 0.2s;\n",
              "}\n",
              "\n",
              ".ee-open::before {\n",
              "  transform: rotate(0deg);\n",
              "  display: inline-block;\n",
              "  content: \"▼\";\n",
              "  margin-right: 6px;\n",
              "  transition: transform 0.2s;\n",
              "}\n",
              "</style><div class='ee'><ul><li><label class='ee-shut'>Image (1 band)<input type='checkbox' class='ee-toggle'></label><ul><li><span class='ee-k'>type:</span><span class='ee-v'>Image</span></li><li><label class='ee-shut'>bands: List (1 element)<input type='checkbox' class='ee-toggle'></label><ul><li><label class='ee-shut'>0: \"cm_unc\", double, EPSG:4326<input type='checkbox' class='ee-toggle'></label><ul><li><span class='ee-k'>id:</span><span class='ee-v'>cm_unc</span></li><li><span class='ee-k'>crs:</span><span class='ee-v'>EPSG:4326</span></li><li><label class='ee-shut'>crs_transform: [1, 0, 0, 0, 1, 0]<input type='checkbox' class='ee-toggle'></label><ul><li><span class='ee-k'>0:</span><span class='ee-v'>1</span></li><li><span class='ee-k'>1:</span><span class='ee-v'>0</span></li><li><span class='ee-k'>2:</span><span class='ee-v'>0</span></li><li><span class='ee-k'>3:</span><span class='ee-v'>0</span></li><li><span class='ee-k'>4:</span><span class='ee-v'>1</span></li><li><span class='ee-k'>5:</span><span class='ee-v'>0</span></li></ul></li><li><label class='ee-shut'>data_type: double<input type='checkbox' class='ee-toggle'></label><ul><li><span class='ee-k'>type:</span><span class='ee-v'>PixelType</span></li><li><span class='ee-k'>precision:</span><span class='ee-v'>double</span></li></ul></li></ul></li></ul></li><li><label class='ee-shut'>properties: Object (1 property)<input type='checkbox' class='ee-toggle'></label><ul><li><span class='ee-k'>system:time_start:</span><span class='ee-v'>1685849752056</span></li></ul></li></ul></li></ul></div><script>function toggleHeader() {\n",
              "    const parent = this.parentElement;\n",
              "    parent.className = parent.className === \"ee-open\" ? \"ee-shut\" : \"ee-open\";\n",
              "}\n",
              "\n",
              "for (let c of document.getElementsByClassName(\"ee-toggle\")) {\n",
              "    c.onclick = toggleHeader;\n",
              "}</script></div>"
            ]
          },
          "metadata": {},
          "execution_count": 330
        }
      ]
    },
    {
      "cell_type": "markdown",
      "source": [
        "## Image export as an asset."
      ],
      "metadata": {
        "id": "MeSWk7Ur9gBb"
      }
    },
    {
      "cell_type": "code",
      "source": [
        "# In order to visualize the image in this notebook avoiding memory problems,\n",
        "# the image has to be exported to the asset section.\n",
        "\n",
        "# GEE user name\n",
        "geeUser = 'ngabinh1987/Cm_unc_monthly_each_year'\n",
        "# Asset name\n",
        "assetName = 'Cm_SD_2023_06'\n",
        "\n",
        "assetId = 'users/' + geeUser + '/' + assetName\n",
        "\n",
        "task_config = {\n",
        "    'image': imageSD,\n",
        "    'description': 'Cm_SD_2023_06',\n",
        "    'assetId': assetId,\n",
        "    'region': studyArea.geometry(),\n",
        "    'scale': 10,\n",
        "    'crs' : 'EPSG:4326'\n",
        "}\n",
        "\n",
        "task = ee.batch.Export.image.toAsset(**task_config)\n",
        "task.start()"
      ],
      "metadata": {
        "id": "ek_h0Eze_z3h"
      },
      "execution_count": null,
      "outputs": []
    },
    {
      "cell_type": "markdown",
      "source": [
        "### Check the status of the export task"
      ],
      "metadata": {
        "id": "EhtdC1wLCM4r"
      }
    },
    {
      "cell_type": "code",
      "source": [
        "# To visualize the image, the status must be \"COMPLETED\"\n",
        "desc = task.status()['description']\n",
        "state = task.status()['state']\n",
        "\n",
        "print('The status of the task {} is: {}'.format(desc,state))"
      ],
      "metadata": {
        "colab": {
          "base_uri": "https://localhost:8080/"
        },
        "id": "o3manky8CXBU",
        "outputId": "ac963696-8ed9-4f7b-bed7-101c5b721340"
      },
      "execution_count": null,
      "outputs": [
        {
          "output_type": "stream",
          "name": "stdout",
          "text": [
            "The status of the task Cab_SD_2020_05 is: READY\n"
          ]
        }
      ]
    },
    {
      "cell_type": "markdown",
      "source": [
        "## Visualization"
      ],
      "metadata": {
        "id": "6JmvVLQl83mZ"
      }
    },
    {
      "cell_type": "markdown",
      "source": [
        "### Visualization parameters"
      ],
      "metadata": {
        "id": "KoUX8nqH9Cby"
      }
    },
    {
      "cell_type": "code",
      "source": [
        "CV_palette = ['000083','000087','00008B','00008F','000093','000097','00009B','00009F','0000A3','0000A7','0000AB','0000AF','0000B3','0000B7','0000BB','0000BF','0000C3',\n",
        "              '0000C7','0000CB','0000CF','0000D3','0000D7','0000DB','0000DF','0000E3','0000E7','0000EB','0000EF','0000F3','0000F7','0000FB','0000FF','0003FF','0007FF',\n",
        "              '000BFF','000FFF','0013FF','0017FF','001BFF','001FFF','0023FF','0027FF','002BFF','002FFF','0033FF','0037FF','003BFF','003FFF','0043FF','0047FF','004BFF',\n",
        "              '004FFF','0053FF','0057FF','005BFF','005FFF','0063FF','0067FF','006BFF','006FFF','0073FF','0077FF','007BFF','007FFF','0083FF','0087FF','008BFF','008FFF',\n",
        "              '0093FF','0097FF','009BFF','009FFF','00A3FF','00A7FF','00ABFF','00AFFF','00B3FF','00B7FF','00BBFF','00BFFF','00C3FF','00C7FF','00CBFF','00CFFF','00D3FF',\n",
        "              '00D7FF','00DBFF','00DFFF','00E3FF','00E7FF','00EBFF','00EFFF','00F3FF','00F7FF','00FBFF','00FFFF','03FFFB','07FFF7','0BFFF3','0FFFEF','13FFEB','17FFE7',\n",
        "              '1BFFE3','1FFFDF','23FFDB','27FFD7','2BFFD3','2FFFCF','33FFCB','37FFC7','3BFFC3','3FFFBF','43FFBB','47FFB7','4BFFB3','4FFFAF','53FFAB','57FFA7','5BFFA3',\n",
        "              '5FFF9F','63FF9B','67FF97','6BFF93','6FFF8F','73FF8B','77FF87','7BFF83','7FFF7F','83FF7B','87FF77','8BFF73','8FFF6F','93FF6B','97FF67','9BFF63','9FFF5F',\n",
        "              'A3FF5B','A7FF57','ABFF53','AFFF4F','B3FF4B','B7FF47','BBFF43','BFFF3F','C3FF3B','C7FF37','CBFF33','CFFF2F','D3FF2B','D7FF27','DBFF23','DFFF1F','E3FF1B',\n",
        "              'E7FF17','EBFF13','EFFF0F','F3FF0B','F7FF07','FBFF03','FFFF00','FFFB00','FFF700','FFF300','FFEF00','FFEB00','FFE700','FFE300','FFDF00','FFDB00','FFD700',\n",
        "              'FFD300','FFCF00','FFCB00','FFC700','FFC300','FFBF00','FFBB00','FFB700','FFB300','FFAF00','FFAB00','FFA700','FFA300','FF9F00','FF9B00','FF9700','FF9300',\n",
        "              'FF8F00','FF8B00','FF8700','FF8300','FF7F00','FF7B00','FF7700','FF7300','FF6F00','FF6B00','FF6700','FF6300','FF5F00','FF5B00','FF5700','FF5300','FF4F00',\n",
        "              'FF4B00','FF4700','FF4300','FF3F00','FF3B00','FF3700','FF3300','FF2F00','FF2B00','FF2700','FF2300','FF1F00','FF1B00','FF1700','FF1300','FF0F00','FF0B00',\n",
        "              'FF0700','FF0300','FF0000','FB0000','F70000','F30000','EF0000','EB0000','E70000','E30000','DF0000','DB0000','D70000','D30000','CF0000','CB0000','C70000',\n",
        "              'C30000','BF0000','BB0000','B70000','B30000','AF0000','AB0000','A70000','A30000','9F0000','9B0000','970000','930000','8F0000','8B0000','870000','830000',\n",
        "              '7F0000']\n",
        "\n",
        "vis_params = {\n",
        "    'min': 0.0,\n",
        "    'max': 100.0,\n",
        "    'palette': CV_palette\n",
        "}"
      ],
      "metadata": {
        "id": "IyVcKIEC87n8"
      },
      "execution_count": null,
      "outputs": []
    },
    {
      "cell_type": "markdown",
      "source": [
        "### Visualization through geemap"
      ],
      "metadata": {
        "id": "wp_mS4FV9JiS"
      }
    },
    {
      "cell_type": "code",
      "source": [
        "image = ee.Image(currentImage)\n",
        "\n",
        "Map = geemap.Map()\n",
        "Map.add_basemap('SATELLITE')\n",
        "Map.addLayer(image, vis_params, 'CVV uncertainty')\n",
        "Map.add_colorbar(vis_params, label = 'CVV', layer_name = 'CVV', position = 'topright')\n",
        "Map.centerObject(studyArea)\n",
        "Map"
      ],
      "metadata": {
        "id": "Js_lBTDb7kyb",
        "colab": {
          "base_uri": "https://localhost:8080/",
          "height": 246
        },
        "outputId": "4634682c-cab6-4876-c968-f6622d83926c"
      },
      "execution_count": null,
      "outputs": [
        {
          "output_type": "error",
          "ename": "NameError",
          "evalue": "ignored",
          "traceback": [
            "\u001b[0;31m---------------------------------------------------------------------------\u001b[0m",
            "\u001b[0;31mNameError\u001b[0m                                 Traceback (most recent call last)",
            "\u001b[0;32m<ipython-input-14-377e7f0dd672>\u001b[0m in \u001b[0;36m<cell line: 1>\u001b[0;34m()\u001b[0m\n\u001b[0;32m----> 1\u001b[0;31m \u001b[0mimage\u001b[0m \u001b[0;34m=\u001b[0m \u001b[0mee\u001b[0m\u001b[0;34m.\u001b[0m\u001b[0mImage\u001b[0m\u001b[0;34m(\u001b[0m\u001b[0mcurrentImage\u001b[0m\u001b[0;34m)\u001b[0m\u001b[0;34m\u001b[0m\u001b[0;34m\u001b[0m\u001b[0m\n\u001b[0m\u001b[1;32m      2\u001b[0m \u001b[0;34m\u001b[0m\u001b[0m\n\u001b[1;32m      3\u001b[0m \u001b[0mMap\u001b[0m \u001b[0;34m=\u001b[0m \u001b[0mgeemap\u001b[0m\u001b[0;34m.\u001b[0m\u001b[0mMap\u001b[0m\u001b[0;34m(\u001b[0m\u001b[0;34m)\u001b[0m\u001b[0;34m\u001b[0m\u001b[0;34m\u001b[0m\u001b[0m\n\u001b[1;32m      4\u001b[0m \u001b[0mMap\u001b[0m\u001b[0;34m.\u001b[0m\u001b[0madd_basemap\u001b[0m\u001b[0;34m(\u001b[0m\u001b[0;34m'SATELLITE'\u001b[0m\u001b[0;34m)\u001b[0m\u001b[0;34m\u001b[0m\u001b[0;34m\u001b[0m\u001b[0m\n\u001b[1;32m      5\u001b[0m \u001b[0mMap\u001b[0m\u001b[0;34m.\u001b[0m\u001b[0maddLayer\u001b[0m\u001b[0;34m(\u001b[0m\u001b[0mimage\u001b[0m\u001b[0;34m,\u001b[0m \u001b[0mvis_params\u001b[0m\u001b[0;34m,\u001b[0m \u001b[0;34m'CVV uncertainty'\u001b[0m\u001b[0;34m)\u001b[0m\u001b[0;34m\u001b[0m\u001b[0;34m\u001b[0m\u001b[0m\n",
            "\u001b[0;31mNameError\u001b[0m: name 'currentImage' is not defined"
          ]
        }
      ]
    },
    {
      "cell_type": "markdown",
      "source": [
        "## References"
      ],
      "metadata": {
        "id": "7_jHpUP9HY5r"
      }
    },
    {
      "cell_type": "markdown",
      "source": [
        "Wu, Q., (2020). geemap: A Python package for interactive mapping with Google Earth Engine. The Journal of Open Source Software, 5(51), 2305. https://doi.org/10.21105/joss.02305"
      ],
      "metadata": {
        "id": "ZKgq9hf1Hl9K"
      }
    }
  ]
}