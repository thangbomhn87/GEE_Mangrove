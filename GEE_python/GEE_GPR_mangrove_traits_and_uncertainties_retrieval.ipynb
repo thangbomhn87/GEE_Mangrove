{
  "nbformat": 4,
  "nbformat_minor": 0,
  "metadata": {
    "colab": {
      "provenance": []
    },
    "kernelspec": {
      "name": "python3",
      "display_name": "Python 3"
    },
    "language_info": {
      "name": "python"
    },
    "widgets": {
      "application/vnd.jupyter.widget-state+json": {
        "b92bd24420b84dc6b87b9bd7efb977d9": {
          "model_module": "jupyter-leaflet",
          "model_name": "LeafletMapModel",
          "model_module_version": "^0.17",
          "state": {
            "_dom_classes": [],
            "_model_module": "jupyter-leaflet",
            "_model_module_version": "^0.17",
            "_model_name": "LeafletMapModel",
            "_view_count": null,
            "_view_module": "jupyter-leaflet",
            "_view_module_version": "^0.17",
            "_view_name": "LeafletMapView",
            "bottom": 31432,
            "bounce_at_zoom_limits": true,
            "box_zoom": true,
            "center": [
              8.950192825865791,
              107.60494038077668
            ],
            "close_popup_on_click": true,
            "controls": [
              "IPY_MODEL_73d8a3d9510245fa8465e0abf50dfa4e",
              "IPY_MODEL_377cb88956a441ee8cbfbc15c50971f1",
              "IPY_MODEL_c7d4764eab0e4c7c93e0986ab8941549",
              "IPY_MODEL_1f43b0b628ca4694926a8538b32ccf7d",
              "IPY_MODEL_f8ab027050bb46a090f6e1ee91213623",
              "IPY_MODEL_e77d2c4640804fd0a249939f630d4216",
              "IPY_MODEL_99022c81416c4f4b8666bb6ae64847ef",
              "IPY_MODEL_92fc177ada654495a2048bef1361bcfc",
              "IPY_MODEL_33eaab9a29a34569bd1f299fa4e9236d"
            ],
            "crs": {
              "name": "EPSG3857",
              "custom": false
            },
            "default_style": "IPY_MODEL_7829b53ec21445198a18f4ed170ca991",
            "double_click_zoom": true,
            "dragging": true,
            "dragging_style": "IPY_MODEL_56abf36cc32245a09930e0ca22437bfb",
            "east": 110.77449604483918,
            "fullscreen": false,
            "inertia": true,
            "inertia_deceleration": 3000,
            "inertia_max_speed": 1500,
            "interpolation": "bilinear",
            "keyboard": true,
            "keyboard_pan_offset": 80,
            "keyboard_zoom_offset": 1,
            "layers": [
              "IPY_MODEL_6b63cc0ae6b944029b65fe94e49e82c5",
              "IPY_MODEL_211ba0c5ab5846bb85a37c26184571cb",
              "IPY_MODEL_903848094852417c9b1683c1cf9a6605"
            ],
            "layout": "IPY_MODEL_8946fc9bc15741c68156f5df941af3a6",
            "left": 51779.881591096055,
            "max_zoom": 24,
            "min_zoom": null,
            "modisdate": "2023-09-19",
            "north": 10.574222078332806,
            "options": [
              "bounce_at_zoom_limits",
              "box_zoom",
              "center",
              "close_popup_on_click",
              "double_click_zoom",
              "dragging",
              "fullscreen",
              "inertia",
              "inertia_deceleration",
              "inertia_max_speed",
              "interpolation",
              "keyboard",
              "keyboard_pan_offset",
              "keyboard_zoom_offset",
              "max_zoom",
              "min_zoom",
              "prefer_canvas",
              "scroll_wheel_zoom",
              "tap",
              "tap_tolerance",
              "touch_zoom",
              "world_copy_jump",
              "zoom",
              "zoom_animation_threshold",
              "zoom_delta",
              "zoom_snap"
            ],
            "panes": {},
            "prefer_canvas": false,
            "right": 52933.881591096055,
            "scroll_wheel_zoom": true,
            "south": 7.318881730366756,
            "style": "IPY_MODEL_7829b53ec21445198a18f4ed170ca991",
            "tap": true,
            "tap_tolerance": 15,
            "top": 30832,
            "touch_zoom": true,
            "west": 104.43538471671418,
            "window_url": "https://9vnqyl1mpun-496ff2e9c6d22116-0-colab.googleusercontent.com/outputframe.html?vrz=colab_20230918-060115_RC00_566262452",
            "world_copy_jump": false,
            "zoom": 8,
            "zoom_animation_threshold": 4,
            "zoom_delta": 1,
            "zoom_snap": 1
          }
        },
        "73d8a3d9510245fa8465e0abf50dfa4e": {
          "model_module": "jupyter-leaflet",
          "model_name": "LeafletWidgetControlModel",
          "model_module_version": "^0.17",
          "state": {
            "_model_module": "jupyter-leaflet",
            "_model_module_version": "^0.17",
            "_model_name": "LeafletWidgetControlModel",
            "_view_count": null,
            "_view_module": "jupyter-leaflet",
            "_view_module_version": "^0.17",
            "_view_name": "LeafletWidgetControlView",
            "max_height": null,
            "max_width": null,
            "min_height": null,
            "min_width": null,
            "options": [
              "position",
              "transparent_bg"
            ],
            "position": "topleft",
            "transparent_bg": false,
            "widget": "IPY_MODEL_b90c539b0f59495da156a26be310e3f4"
          }
        },
        "377cb88956a441ee8cbfbc15c50971f1": {
          "model_module": "jupyter-leaflet",
          "model_name": "LeafletZoomControlModel",
          "model_module_version": "^0.17",
          "state": {
            "_model_module": "jupyter-leaflet",
            "_model_module_version": "^0.17",
            "_model_name": "LeafletZoomControlModel",
            "_view_count": null,
            "_view_module": "jupyter-leaflet",
            "_view_module_version": "^0.17",
            "_view_name": "LeafletZoomControlView",
            "options": [
              "position",
              "zoom_in_text",
              "zoom_in_title",
              "zoom_out_text",
              "zoom_out_title"
            ],
            "position": "topleft",
            "zoom_in_text": "+",
            "zoom_in_title": "Zoom in",
            "zoom_out_text": "-",
            "zoom_out_title": "Zoom out"
          }
        },
        "c7d4764eab0e4c7c93e0986ab8941549": {
          "model_module": "jupyter-leaflet",
          "model_name": "LeafletFullScreenControlModel",
          "model_module_version": "^0.17",
          "state": {
            "_model_module": "jupyter-leaflet",
            "_model_module_version": "^0.17",
            "_model_name": "LeafletFullScreenControlModel",
            "_view_count": null,
            "_view_module": "jupyter-leaflet",
            "_view_module_version": "^0.17",
            "_view_name": "LeafletFullScreenControlView",
            "options": [
              "position"
            ],
            "position": "topleft"
          }
        },
        "1f43b0b628ca4694926a8538b32ccf7d": {
          "model_module": "jupyter-leaflet",
          "model_name": "LeafletDrawControlModel",
          "model_module_version": "^0.17",
          "state": {
            "_model_module": "jupyter-leaflet",
            "_model_module_version": "^0.17",
            "_model_name": "LeafletDrawControlModel",
            "_view_count": null,
            "_view_module": "jupyter-leaflet",
            "_view_module_version": "^0.17",
            "_view_name": "LeafletDrawControlView",
            "circle": {},
            "circlemarker": {},
            "data": [],
            "edit": true,
            "marker": {
              "shapeOptions": {
                "color": "#3388ff"
              }
            },
            "options": [
              "position"
            ],
            "polygon": {
              "shapeOptions": {}
            },
            "polyline": {
              "shapeOptions": {}
            },
            "position": "topleft",
            "rectangle": {
              "shapeOptions": {
                "color": "#3388ff"
              }
            },
            "remove": true
          }
        },
        "f8ab027050bb46a090f6e1ee91213623": {
          "model_module": "jupyter-leaflet",
          "model_name": "LeafletScaleControlModel",
          "model_module_version": "^0.17",
          "state": {
            "_model_module": "jupyter-leaflet",
            "_model_module_version": "^0.17",
            "_model_name": "LeafletScaleControlModel",
            "_view_count": null,
            "_view_module": "jupyter-leaflet",
            "_view_module_version": "^0.17",
            "_view_name": "LeafletScaleControlView",
            "imperial": true,
            "max_width": 100,
            "metric": true,
            "options": [
              "imperial",
              "max_width",
              "metric",
              "position",
              "update_when_idle"
            ],
            "position": "bottomleft",
            "update_when_idle": false
          }
        },
        "e77d2c4640804fd0a249939f630d4216": {
          "model_module": "jupyter-leaflet",
          "model_name": "LeafletMeasureControlModel",
          "model_module_version": "^0.17",
          "state": {
            "_custom_units": {},
            "_model_module": "jupyter-leaflet",
            "_model_module_version": "^0.17",
            "_model_name": "LeafletMeasureControlModel",
            "_view_count": null,
            "_view_module": "jupyter-leaflet",
            "_view_module_version": "^0.17",
            "_view_name": "LeafletMeasureControlView",
            "active_color": "orange",
            "capture_z_index": 10000,
            "completed_color": "#C8F2BE",
            "options": [
              "active_color",
              "capture_z_index",
              "completed_color",
              "popup_options",
              "position",
              "primary_area_unit",
              "primary_length_unit",
              "secondary_area_unit",
              "secondary_length_unit"
            ],
            "popup_options": {
              "className": "leaflet-measure-resultpopup",
              "autoPanPadding": [
                10,
                10
              ]
            },
            "position": "bottomleft",
            "primary_area_unit": "acres",
            "primary_length_unit": "kilometers",
            "secondary_area_unit": null,
            "secondary_length_unit": null
          }
        },
        "99022c81416c4f4b8666bb6ae64847ef": {
          "model_module": "jupyter-leaflet",
          "model_name": "LeafletWidgetControlModel",
          "model_module_version": "^0.17",
          "state": {
            "_model_module": "jupyter-leaflet",
            "_model_module_version": "^0.17",
            "_model_name": "LeafletWidgetControlModel",
            "_view_count": null,
            "_view_module": "jupyter-leaflet",
            "_view_module_version": "^0.17",
            "_view_name": "LeafletWidgetControlView",
            "max_height": null,
            "max_width": null,
            "min_height": null,
            "min_width": null,
            "options": [
              "position",
              "transparent_bg"
            ],
            "position": "topright",
            "transparent_bg": false,
            "widget": "IPY_MODEL_a7f90ad8f97f4d7faea5fa64b10210c1"
          }
        },
        "92fc177ada654495a2048bef1361bcfc": {
          "model_module": "jupyter-leaflet",
          "model_name": "LeafletAttributionControlModel",
          "model_module_version": "^0.17",
          "state": {
            "_model_module": "jupyter-leaflet",
            "_model_module_version": "^0.17",
            "_model_name": "LeafletAttributionControlModel",
            "_view_count": null,
            "_view_module": "jupyter-leaflet",
            "_view_module_version": "^0.17",
            "_view_name": "LeafletAttributionControlView",
            "options": [
              "position",
              "prefix"
            ],
            "position": "bottomright",
            "prefix": "ipyleaflet"
          }
        },
        "33eaab9a29a34569bd1f299fa4e9236d": {
          "model_module": "jupyter-leaflet",
          "model_name": "LeafletWidgetControlModel",
          "model_module_version": "^0.17",
          "state": {
            "_model_module": "jupyter-leaflet",
            "_model_module_version": "^0.17",
            "_model_name": "LeafletWidgetControlModel",
            "_view_count": null,
            "_view_module": "jupyter-leaflet",
            "_view_module_version": "^0.17",
            "_view_name": "LeafletWidgetControlView",
            "max_height": null,
            "max_width": null,
            "min_height": null,
            "min_width": null,
            "options": [
              "position",
              "transparent_bg"
            ],
            "position": "topright",
            "transparent_bg": false,
            "widget": "IPY_MODEL_f9809cc02e344cd9ade07449581903f5"
          }
        },
        "7829b53ec21445198a18f4ed170ca991": {
          "model_module": "jupyter-leaflet",
          "model_name": "LeafletMapStyleModel",
          "model_module_version": "^0.17",
          "state": {
            "_model_module": "jupyter-leaflet",
            "_model_module_version": "^0.17",
            "_model_name": "LeafletMapStyleModel",
            "_view_count": null,
            "_view_module": "@jupyter-widgets/base",
            "_view_module_version": "1.2.0",
            "_view_name": "StyleView",
            "cursor": "grab"
          }
        },
        "56abf36cc32245a09930e0ca22437bfb": {
          "model_module": "jupyter-leaflet",
          "model_name": "LeafletMapStyleModel",
          "model_module_version": "^0.17",
          "state": {
            "_model_module": "jupyter-leaflet",
            "_model_module_version": "^0.17",
            "_model_name": "LeafletMapStyleModel",
            "_view_count": null,
            "_view_module": "@jupyter-widgets/base",
            "_view_module_version": "1.2.0",
            "_view_name": "StyleView",
            "cursor": "move"
          }
        },
        "6b63cc0ae6b944029b65fe94e49e82c5": {
          "model_module": "jupyter-leaflet",
          "model_name": "LeafletTileLayerModel",
          "model_module_version": "^0.17",
          "state": {
            "_model_module": "jupyter-leaflet",
            "_model_module_version": "^0.17",
            "_model_name": "LeafletTileLayerModel",
            "_view_count": null,
            "_view_module": "jupyter-leaflet",
            "_view_module_version": "^0.17",
            "_view_name": "LeafletTileLayerView",
            "attribution": "&copy; <a href=\"https://www.openstreetmap.org/copyright\">OpenStreetMap</a> contributors",
            "base": true,
            "bottom": true,
            "bounds": null,
            "detect_retina": false,
            "loading": false,
            "max_native_zoom": null,
            "max_zoom": 19,
            "min_native_zoom": null,
            "min_zoom": 1,
            "name": "OpenStreetMap.Mapnik",
            "no_wrap": false,
            "opacity": 1,
            "options": [
              "attribution",
              "bounds",
              "detect_retina",
              "max_native_zoom",
              "max_zoom",
              "min_native_zoom",
              "min_zoom",
              "no_wrap",
              "tile_size",
              "tms",
              "zoom_offset"
            ],
            "pane": "",
            "popup": null,
            "popup_max_height": null,
            "popup_max_width": 300,
            "popup_min_width": 50,
            "show_loading": false,
            "subitems": [],
            "tile_size": 256,
            "tms": false,
            "url": "https://tile.openstreetmap.org/{z}/{x}/{y}.png",
            "visible": true,
            "zoom_offset": 0
          }
        },
        "211ba0c5ab5846bb85a37c26184571cb": {
          "model_module": "jupyter-leaflet",
          "model_name": "LeafletTileLayerModel",
          "model_module_version": "^0.17",
          "state": {
            "_model_module": "jupyter-leaflet",
            "_model_module_version": "^0.17",
            "_model_name": "LeafletTileLayerModel",
            "_view_count": null,
            "_view_module": "jupyter-leaflet",
            "_view_module_version": "^0.17",
            "_view_name": "LeafletTileLayerView",
            "attribution": "Esri",
            "base": false,
            "bottom": true,
            "bounds": null,
            "detect_retina": false,
            "loading": false,
            "max_native_zoom": null,
            "max_zoom": 24,
            "min_native_zoom": null,
            "min_zoom": 0,
            "name": "Esri.WorldImagery",
            "no_wrap": false,
            "opacity": 1,
            "options": [
              "attribution",
              "bounds",
              "detect_retina",
              "max_native_zoom",
              "max_zoom",
              "min_native_zoom",
              "min_zoom",
              "no_wrap",
              "tile_size",
              "tms",
              "zoom_offset"
            ],
            "pane": "",
            "popup": null,
            "popup_max_height": null,
            "popup_max_width": 300,
            "popup_min_width": 50,
            "show_loading": false,
            "subitems": [],
            "tile_size": 256,
            "tms": false,
            "url": "https://server.arcgisonline.com/ArcGIS/rest/services/World_Imagery/MapServer/tile/{z}/{y}/{x}",
            "visible": true,
            "zoom_offset": 0
          }
        },
        "903848094852417c9b1683c1cf9a6605": {
          "model_module": "jupyter-leaflet",
          "model_name": "LeafletTileLayerModel",
          "model_module_version": "^0.17",
          "state": {
            "_model_module": "jupyter-leaflet",
            "_model_module_version": "^0.17",
            "_model_name": "LeafletTileLayerModel",
            "_view_count": null,
            "_view_module": "jupyter-leaflet",
            "_view_module_version": "^0.17",
            "_view_name": "LeafletTileLayerView",
            "attribution": "Google Earth Engine",
            "base": false,
            "bottom": true,
            "bounds": null,
            "detect_retina": false,
            "loading": false,
            "max_native_zoom": null,
            "max_zoom": 24,
            "min_native_zoom": null,
            "min_zoom": 0,
            "name": "Trait",
            "no_wrap": false,
            "opacity": 1,
            "options": [
              "attribution",
              "bounds",
              "detect_retina",
              "max_native_zoom",
              "max_zoom",
              "min_native_zoom",
              "min_zoom",
              "no_wrap",
              "tile_size",
              "tms",
              "zoom_offset"
            ],
            "pane": "",
            "popup": null,
            "popup_max_height": null,
            "popup_max_width": 300,
            "popup_min_width": 50,
            "show_loading": false,
            "subitems": [],
            "tile_size": 256,
            "tms": false,
            "url": "https://earthengine.googleapis.com/v1/projects/earthengine-legacy/maps/88f05941d1654699c72945b29aee0c8c-0a00b761d39864e95eb8020ee4c35f76/tiles/{z}/{x}/{y}",
            "visible": true,
            "zoom_offset": 0
          }
        },
        "8946fc9bc15741c68156f5df941af3a6": {
          "model_module": "@jupyter-widgets/base",
          "model_name": "LayoutModel",
          "model_module_version": "1.2.0",
          "state": {
            "_model_module": "@jupyter-widgets/base",
            "_model_module_version": "1.2.0",
            "_model_name": "LayoutModel",
            "_view_count": null,
            "_view_module": "@jupyter-widgets/base",
            "_view_module_version": "1.2.0",
            "_view_name": "LayoutView",
            "align_content": null,
            "align_items": null,
            "align_self": null,
            "border": null,
            "bottom": null,
            "display": null,
            "flex": null,
            "flex_flow": null,
            "grid_area": null,
            "grid_auto_columns": null,
            "grid_auto_flow": null,
            "grid_auto_rows": null,
            "grid_column": null,
            "grid_gap": null,
            "grid_row": null,
            "grid_template_areas": null,
            "grid_template_columns": null,
            "grid_template_rows": null,
            "height": "600px",
            "justify_content": null,
            "justify_items": null,
            "left": null,
            "margin": null,
            "max_height": null,
            "max_width": null,
            "min_height": null,
            "min_width": null,
            "object_fit": null,
            "object_position": null,
            "order": null,
            "overflow": null,
            "overflow_x": null,
            "overflow_y": null,
            "padding": null,
            "right": null,
            "top": null,
            "visibility": null,
            "width": null
          }
        },
        "fc28eb8e87da4f6db10c36697b4eac4a": {
          "model_module": "jupyter-leaflet",
          "model_name": "LeafletMapStyleModel",
          "model_module_version": "^0.17",
          "state": {
            "_model_module": "jupyter-leaflet",
            "_model_module_version": "^0.17",
            "_model_name": "LeafletMapStyleModel",
            "_view_count": null,
            "_view_module": "@jupyter-widgets/base",
            "_view_module_version": "1.2.0",
            "_view_name": "StyleView",
            "cursor": "grab"
          }
        },
        "b90c539b0f59495da156a26be310e3f4": {
          "model_module": "@jupyter-widgets/controls",
          "model_name": "HBoxModel",
          "model_module_version": "1.5.0",
          "state": {
            "_dom_classes": [],
            "_model_module": "@jupyter-widgets/controls",
            "_model_module_version": "1.5.0",
            "_model_name": "HBoxModel",
            "_view_count": null,
            "_view_module": "@jupyter-widgets/controls",
            "_view_module_version": "1.5.0",
            "_view_name": "HBoxView",
            "box_style": "",
            "children": [
              "IPY_MODEL_3ed6b2d02f034ca5b02efd5b3a861379"
            ],
            "layout": "IPY_MODEL_fe2a1f5df3cd4ea294395560cfd7d30f"
          }
        },
        "a7f90ad8f97f4d7faea5fa64b10210c1": {
          "model_module": "@jupyter-widgets/controls",
          "model_name": "VBoxModel",
          "model_module_version": "1.5.0",
          "state": {
            "_dom_classes": [],
            "_model_module": "@jupyter-widgets/controls",
            "_model_module_version": "1.5.0",
            "_model_name": "VBoxModel",
            "_view_count": null,
            "_view_module": "@jupyter-widgets/controls",
            "_view_module_version": "1.5.0",
            "_view_name": "VBoxView",
            "box_style": "",
            "children": [
              "IPY_MODEL_73f575d1e4344c0ea679b0a947b27a7a"
            ],
            "layout": "IPY_MODEL_43438bafaccc4dda964e62446761d848"
          }
        },
        "f9809cc02e344cd9ade07449581903f5": {
          "model_module": "@jupyter-widgets/output",
          "model_name": "OutputModel",
          "model_module_version": "1.0.0",
          "state": {
            "_dom_classes": [],
            "_model_module": "@jupyter-widgets/output",
            "_model_module_version": "1.0.0",
            "_model_name": "OutputModel",
            "_view_count": null,
            "_view_module": "@jupyter-widgets/output",
            "_view_module_version": "1.0.0",
            "_view_name": "OutputView",
            "layout": "IPY_MODEL_8f8f33df33154424bf0487e5d7a1326c",
            "msg_id": "",
            "outputs": [
              {
                "output_type": "display_data",
                "data": {
                  "text/plain": "<Figure size 300x30 with 1 Axes>",
                  "image/png": "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\n"
                },
                "metadata": {}
              }
            ]
          }
        },
        "3ed6b2d02f034ca5b02efd5b3a861379": {
          "model_module": "@jupyter-widgets/controls",
          "model_name": "ToggleButtonModel",
          "model_module_version": "1.5.0",
          "state": {
            "_dom_classes": [],
            "_model_module": "@jupyter-widgets/controls",
            "_model_module_version": "1.5.0",
            "_model_name": "ToggleButtonModel",
            "_view_count": null,
            "_view_module": "@jupyter-widgets/controls",
            "_view_module_version": "1.5.0",
            "_view_name": "ToggleButtonView",
            "button_style": "",
            "description": "",
            "description_tooltip": null,
            "disabled": false,
            "icon": "globe",
            "layout": "IPY_MODEL_a061d33fed2e40fc864a41f23a12ed3e",
            "style": "IPY_MODEL_d5b28a394ebf478aae2c50aa6cf9c04d",
            "tooltip": "Search location/data",
            "value": false
          }
        },
        "fe2a1f5df3cd4ea294395560cfd7d30f": {
          "model_module": "@jupyter-widgets/base",
          "model_name": "LayoutModel",
          "model_module_version": "1.2.0",
          "state": {
            "_model_module": "@jupyter-widgets/base",
            "_model_module_version": "1.2.0",
            "_model_name": "LayoutModel",
            "_view_count": null,
            "_view_module": "@jupyter-widgets/base",
            "_view_module_version": "1.2.0",
            "_view_name": "LayoutView",
            "align_content": null,
            "align_items": null,
            "align_self": null,
            "border": null,
            "bottom": null,
            "display": null,
            "flex": null,
            "flex_flow": null,
            "grid_area": null,
            "grid_auto_columns": null,
            "grid_auto_flow": null,
            "grid_auto_rows": null,
            "grid_column": null,
            "grid_gap": null,
            "grid_row": null,
            "grid_template_areas": null,
            "grid_template_columns": null,
            "grid_template_rows": null,
            "height": null,
            "justify_content": null,
            "justify_items": null,
            "left": null,
            "margin": null,
            "max_height": null,
            "max_width": null,
            "min_height": null,
            "min_width": null,
            "object_fit": null,
            "object_position": null,
            "order": null,
            "overflow": null,
            "overflow_x": null,
            "overflow_y": null,
            "padding": null,
            "right": null,
            "top": null,
            "visibility": null,
            "width": null
          }
        },
        "73f575d1e4344c0ea679b0a947b27a7a": {
          "model_module": "@jupyter-widgets/controls",
          "model_name": "ToggleButtonModel",
          "model_module_version": "1.5.0",
          "state": {
            "_dom_classes": [],
            "_model_module": "@jupyter-widgets/controls",
            "_model_module_version": "1.5.0",
            "_model_name": "ToggleButtonModel",
            "_view_count": null,
            "_view_module": "@jupyter-widgets/controls",
            "_view_module_version": "1.5.0",
            "_view_name": "ToggleButtonView",
            "button_style": "",
            "description": "",
            "description_tooltip": null,
            "disabled": false,
            "icon": "wrench",
            "layout": "IPY_MODEL_a6add1d8f5a04450a366ad84a3b52f2c",
            "style": "IPY_MODEL_c3e5fad377a74495a5039510a51463e8",
            "tooltip": "Toolbar",
            "value": false
          }
        },
        "43438bafaccc4dda964e62446761d848": {
          "model_module": "@jupyter-widgets/base",
          "model_name": "LayoutModel",
          "model_module_version": "1.2.0",
          "state": {
            "_model_module": "@jupyter-widgets/base",
            "_model_module_version": "1.2.0",
            "_model_name": "LayoutModel",
            "_view_count": null,
            "_view_module": "@jupyter-widgets/base",
            "_view_module_version": "1.2.0",
            "_view_name": "LayoutView",
            "align_content": null,
            "align_items": null,
            "align_self": null,
            "border": null,
            "bottom": null,
            "display": null,
            "flex": null,
            "flex_flow": null,
            "grid_area": null,
            "grid_auto_columns": null,
            "grid_auto_flow": null,
            "grid_auto_rows": null,
            "grid_column": null,
            "grid_gap": null,
            "grid_row": null,
            "grid_template_areas": null,
            "grid_template_columns": null,
            "grid_template_rows": null,
            "height": null,
            "justify_content": null,
            "justify_items": null,
            "left": null,
            "margin": null,
            "max_height": null,
            "max_width": null,
            "min_height": null,
            "min_width": null,
            "object_fit": null,
            "object_position": null,
            "order": null,
            "overflow": null,
            "overflow_x": null,
            "overflow_y": null,
            "padding": null,
            "right": null,
            "top": null,
            "visibility": null,
            "width": null
          }
        },
        "8f8f33df33154424bf0487e5d7a1326c": {
          "model_module": "@jupyter-widgets/base",
          "model_name": "LayoutModel",
          "model_module_version": "1.2.0",
          "state": {
            "_model_module": "@jupyter-widgets/base",
            "_model_module_version": "1.2.0",
            "_model_name": "LayoutModel",
            "_view_count": null,
            "_view_module": "@jupyter-widgets/base",
            "_view_module_version": "1.2.0",
            "_view_name": "LayoutView",
            "align_content": null,
            "align_items": null,
            "align_self": null,
            "border": null,
            "bottom": null,
            "display": null,
            "flex": null,
            "flex_flow": null,
            "grid_area": null,
            "grid_auto_columns": null,
            "grid_auto_flow": null,
            "grid_auto_rows": null,
            "grid_column": null,
            "grid_gap": null,
            "grid_row": null,
            "grid_template_areas": null,
            "grid_template_columns": null,
            "grid_template_rows": null,
            "height": null,
            "justify_content": null,
            "justify_items": null,
            "left": null,
            "margin": null,
            "max_height": null,
            "max_width": null,
            "min_height": null,
            "min_width": null,
            "object_fit": null,
            "object_position": null,
            "order": null,
            "overflow": null,
            "overflow_x": null,
            "overflow_y": null,
            "padding": null,
            "right": null,
            "top": null,
            "visibility": null,
            "width": "270px"
          }
        },
        "a061d33fed2e40fc864a41f23a12ed3e": {
          "model_module": "@jupyter-widgets/base",
          "model_name": "LayoutModel",
          "model_module_version": "1.2.0",
          "state": {
            "_model_module": "@jupyter-widgets/base",
            "_model_module_version": "1.2.0",
            "_model_name": "LayoutModel",
            "_view_count": null,
            "_view_module": "@jupyter-widgets/base",
            "_view_module_version": "1.2.0",
            "_view_name": "LayoutView",
            "align_content": null,
            "align_items": null,
            "align_self": null,
            "border": null,
            "bottom": null,
            "display": null,
            "flex": null,
            "flex_flow": null,
            "grid_area": null,
            "grid_auto_columns": null,
            "grid_auto_flow": null,
            "grid_auto_rows": null,
            "grid_column": null,
            "grid_gap": null,
            "grid_row": null,
            "grid_template_areas": null,
            "grid_template_columns": null,
            "grid_template_rows": null,
            "height": "28px",
            "justify_content": null,
            "justify_items": null,
            "left": null,
            "margin": null,
            "max_height": null,
            "max_width": null,
            "min_height": null,
            "min_width": null,
            "object_fit": null,
            "object_position": null,
            "order": null,
            "overflow": null,
            "overflow_x": null,
            "overflow_y": null,
            "padding": "0px 0px 0px 4px",
            "right": null,
            "top": null,
            "visibility": null,
            "width": "28px"
          }
        },
        "d5b28a394ebf478aae2c50aa6cf9c04d": {
          "model_module": "@jupyter-widgets/controls",
          "model_name": "DescriptionStyleModel",
          "model_module_version": "1.5.0",
          "state": {
            "_model_module": "@jupyter-widgets/controls",
            "_model_module_version": "1.5.0",
            "_model_name": "DescriptionStyleModel",
            "_view_count": null,
            "_view_module": "@jupyter-widgets/base",
            "_view_module_version": "1.2.0",
            "_view_name": "StyleView",
            "description_width": ""
          }
        },
        "a6add1d8f5a04450a366ad84a3b52f2c": {
          "model_module": "@jupyter-widgets/base",
          "model_name": "LayoutModel",
          "model_module_version": "1.2.0",
          "state": {
            "_model_module": "@jupyter-widgets/base",
            "_model_module_version": "1.2.0",
            "_model_name": "LayoutModel",
            "_view_count": null,
            "_view_module": "@jupyter-widgets/base",
            "_view_module_version": "1.2.0",
            "_view_name": "LayoutView",
            "align_content": null,
            "align_items": null,
            "align_self": null,
            "border": null,
            "bottom": null,
            "display": null,
            "flex": null,
            "flex_flow": null,
            "grid_area": null,
            "grid_auto_columns": null,
            "grid_auto_flow": null,
            "grid_auto_rows": null,
            "grid_column": null,
            "grid_gap": null,
            "grid_row": null,
            "grid_template_areas": null,
            "grid_template_columns": null,
            "grid_template_rows": null,
            "height": "28px",
            "justify_content": null,
            "justify_items": null,
            "left": null,
            "margin": null,
            "max_height": null,
            "max_width": null,
            "min_height": null,
            "min_width": null,
            "object_fit": null,
            "object_position": null,
            "order": null,
            "overflow": null,
            "overflow_x": null,
            "overflow_y": null,
            "padding": "0px 0px 0px 4px",
            "right": null,
            "top": null,
            "visibility": null,
            "width": "28px"
          }
        },
        "c3e5fad377a74495a5039510a51463e8": {
          "model_module": "@jupyter-widgets/controls",
          "model_name": "DescriptionStyleModel",
          "model_module_version": "1.5.0",
          "state": {
            "_model_module": "@jupyter-widgets/controls",
            "_model_module_version": "1.5.0",
            "_model_name": "DescriptionStyleModel",
            "_view_count": null,
            "_view_module": "@jupyter-widgets/base",
            "_view_module_version": "1.2.0",
            "_view_name": "StyleView",
            "description_width": ""
          }
        },
        "bd62785e9efc467b98ae3ffe5c11401f": {
          "model_module": "jupyter-leaflet",
          "model_name": "LeafletMapModel",
          "model_module_version": "^0.17",
          "state": {
            "_dom_classes": [],
            "_model_module": "jupyter-leaflet",
            "_model_module_version": "^0.17",
            "_model_name": "LeafletMapModel",
            "_view_count": null,
            "_view_module": "jupyter-leaflet",
            "_view_module_version": "^0.17",
            "_view_name": "LeafletMapView",
            "bottom": 249876,
            "bounce_at_zoom_limits": true,
            "box_zoom": true,
            "center": [
              8.597315884206026,
              104.77044896937154
            ],
            "close_popup_on_click": true,
            "controls": [
              "IPY_MODEL_462ef1c1de8a421b803399e5e693f379",
              "IPY_MODEL_64435ea9cae64966adc6141827619936",
              "IPY_MODEL_531ee789a7ee487f9bb37e308d7da1bb",
              "IPY_MODEL_191bc0af4f4043ff8acc217c1697af7a",
              "IPY_MODEL_efa805c30f204822bc4822c360976181",
              "IPY_MODEL_710ba808bd2f4865a763951b2ee5a8cd",
              "IPY_MODEL_98d59182f86b4138b3ad15fe37c157ce",
              "IPY_MODEL_8ac7be7f0f3a4c219fad3e3ebf4af05a",
              "IPY_MODEL_c51383444bee4025baefaa011b561d03"
            ],
            "crs": {
              "name": "EPSG3857",
              "custom": false
            },
            "default_style": "IPY_MODEL_b0b7bd1c654a4e19ade2ecd0748b9307",
            "double_click_zoom": true,
            "dragging": true,
            "dragging_style": "IPY_MODEL_ae8ce1fecaec4c959c42150004de84cd",
            "east": 105.16664342737934,
            "fullscreen": false,
            "inertia": true,
            "inertia_deceleration": 3000,
            "inertia_max_speed": 1500,
            "interpolation": "bilinear",
            "keyboard": true,
            "keyboard_pan_offset": 80,
            "keyboard_zoom_offset": 1,
            "layers": [
              "IPY_MODEL_00d883c015f941a1bdffc8f0e20b7219",
              "IPY_MODEL_4741115627954db5bbf780ae98ad66c7",
              "IPY_MODEL_8395cecf42d84400821d86311765124c"
            ],
            "layout": "IPY_MODEL_17b72f19b5284d7abe7b3c33565b4f9b",
            "left": 414150.02541459404,
            "max_zoom": 24,
            "min_zoom": null,
            "modisdate": "2023-09-19",
            "north": 8.800939712392442,
            "options": [
              "bounce_at_zoom_limits",
              "box_zoom",
              "center",
              "close_popup_on_click",
              "double_click_zoom",
              "dragging",
              "fullscreen",
              "inertia",
              "inertia_deceleration",
              "inertia_max_speed",
              "interpolation",
              "keyboard",
              "keyboard_pan_offset",
              "keyboard_zoom_offset",
              "max_zoom",
              "min_zoom",
              "prefer_canvas",
              "scroll_wheel_zoom",
              "tap",
              "tap_tolerance",
              "touch_zoom",
              "world_copy_jump",
              "zoom",
              "zoom_animation_threshold",
              "zoom_delta",
              "zoom_snap"
            ],
            "panes": {},
            "prefer_canvas": false,
            "right": 415304.02541459404,
            "scroll_wheel_zoom": true,
            "south": 8.3935825887093,
            "style": "IPY_MODEL_b0b7bd1c654a4e19ade2ecd0748b9307",
            "tap": true,
            "tap_tolerance": 15,
            "top": 249276,
            "touch_zoom": true,
            "west": 104.37425451136372,
            "window_url": "https://faqni3juah-496ff2e9c6d22116-0-colab.googleusercontent.com/outputframe.html?vrz=colab_20230918-060115_RC00_566262452",
            "world_copy_jump": false,
            "zoom": 11,
            "zoom_animation_threshold": 4,
            "zoom_delta": 1,
            "zoom_snap": 1
          }
        },
        "462ef1c1de8a421b803399e5e693f379": {
          "model_module": "jupyter-leaflet",
          "model_name": "LeafletWidgetControlModel",
          "model_module_version": "^0.17",
          "state": {
            "_model_module": "jupyter-leaflet",
            "_model_module_version": "^0.17",
            "_model_name": "LeafletWidgetControlModel",
            "_view_count": null,
            "_view_module": "jupyter-leaflet",
            "_view_module_version": "^0.17",
            "_view_name": "LeafletWidgetControlView",
            "max_height": null,
            "max_width": null,
            "min_height": null,
            "min_width": null,
            "options": [
              "position",
              "transparent_bg"
            ],
            "position": "topleft",
            "transparent_bg": false,
            "widget": "IPY_MODEL_d6fc02c09c224e019e3a18e6f4ac84b9"
          }
        },
        "64435ea9cae64966adc6141827619936": {
          "model_module": "jupyter-leaflet",
          "model_name": "LeafletZoomControlModel",
          "model_module_version": "^0.17",
          "state": {
            "_model_module": "jupyter-leaflet",
            "_model_module_version": "^0.17",
            "_model_name": "LeafletZoomControlModel",
            "_view_count": null,
            "_view_module": "jupyter-leaflet",
            "_view_module_version": "^0.17",
            "_view_name": "LeafletZoomControlView",
            "options": [
              "position",
              "zoom_in_text",
              "zoom_in_title",
              "zoom_out_text",
              "zoom_out_title"
            ],
            "position": "topleft",
            "zoom_in_text": "+",
            "zoom_in_title": "Zoom in",
            "zoom_out_text": "-",
            "zoom_out_title": "Zoom out"
          }
        },
        "531ee789a7ee487f9bb37e308d7da1bb": {
          "model_module": "jupyter-leaflet",
          "model_name": "LeafletFullScreenControlModel",
          "model_module_version": "^0.17",
          "state": {
            "_model_module": "jupyter-leaflet",
            "_model_module_version": "^0.17",
            "_model_name": "LeafletFullScreenControlModel",
            "_view_count": null,
            "_view_module": "jupyter-leaflet",
            "_view_module_version": "^0.17",
            "_view_name": "LeafletFullScreenControlView",
            "options": [
              "position"
            ],
            "position": "topleft"
          }
        },
        "191bc0af4f4043ff8acc217c1697af7a": {
          "model_module": "jupyter-leaflet",
          "model_name": "LeafletDrawControlModel",
          "model_module_version": "^0.17",
          "state": {
            "_model_module": "jupyter-leaflet",
            "_model_module_version": "^0.17",
            "_model_name": "LeafletDrawControlModel",
            "_view_count": null,
            "_view_module": "jupyter-leaflet",
            "_view_module_version": "^0.17",
            "_view_name": "LeafletDrawControlView",
            "circle": {},
            "circlemarker": {},
            "data": [],
            "edit": true,
            "marker": {
              "shapeOptions": {
                "color": "#3388ff"
              }
            },
            "options": [
              "position"
            ],
            "polygon": {
              "shapeOptions": {}
            },
            "polyline": {
              "shapeOptions": {}
            },
            "position": "topleft",
            "rectangle": {
              "shapeOptions": {
                "color": "#3388ff"
              }
            },
            "remove": true
          }
        },
        "efa805c30f204822bc4822c360976181": {
          "model_module": "jupyter-leaflet",
          "model_name": "LeafletScaleControlModel",
          "model_module_version": "^0.17",
          "state": {
            "_model_module": "jupyter-leaflet",
            "_model_module_version": "^0.17",
            "_model_name": "LeafletScaleControlModel",
            "_view_count": null,
            "_view_module": "jupyter-leaflet",
            "_view_module_version": "^0.17",
            "_view_name": "LeafletScaleControlView",
            "imperial": true,
            "max_width": 100,
            "metric": true,
            "options": [
              "imperial",
              "max_width",
              "metric",
              "position",
              "update_when_idle"
            ],
            "position": "bottomleft",
            "update_when_idle": false
          }
        },
        "710ba808bd2f4865a763951b2ee5a8cd": {
          "model_module": "jupyter-leaflet",
          "model_name": "LeafletMeasureControlModel",
          "model_module_version": "^0.17",
          "state": {
            "_custom_units": {},
            "_model_module": "jupyter-leaflet",
            "_model_module_version": "^0.17",
            "_model_name": "LeafletMeasureControlModel",
            "_view_count": null,
            "_view_module": "jupyter-leaflet",
            "_view_module_version": "^0.17",
            "_view_name": "LeafletMeasureControlView",
            "active_color": "orange",
            "capture_z_index": 10000,
            "completed_color": "#C8F2BE",
            "options": [
              "active_color",
              "capture_z_index",
              "completed_color",
              "popup_options",
              "position",
              "primary_area_unit",
              "primary_length_unit",
              "secondary_area_unit",
              "secondary_length_unit"
            ],
            "popup_options": {
              "className": "leaflet-measure-resultpopup",
              "autoPanPadding": [
                10,
                10
              ]
            },
            "position": "bottomleft",
            "primary_area_unit": "acres",
            "primary_length_unit": "kilometers",
            "secondary_area_unit": null,
            "secondary_length_unit": null
          }
        },
        "98d59182f86b4138b3ad15fe37c157ce": {
          "model_module": "jupyter-leaflet",
          "model_name": "LeafletWidgetControlModel",
          "model_module_version": "^0.17",
          "state": {
            "_model_module": "jupyter-leaflet",
            "_model_module_version": "^0.17",
            "_model_name": "LeafletWidgetControlModel",
            "_view_count": null,
            "_view_module": "jupyter-leaflet",
            "_view_module_version": "^0.17",
            "_view_name": "LeafletWidgetControlView",
            "max_height": null,
            "max_width": null,
            "min_height": null,
            "min_width": null,
            "options": [
              "position",
              "transparent_bg"
            ],
            "position": "topright",
            "transparent_bg": false,
            "widget": "IPY_MODEL_47ab3d702d614c86acfb1abaa996c819"
          }
        },
        "8ac7be7f0f3a4c219fad3e3ebf4af05a": {
          "model_module": "jupyter-leaflet",
          "model_name": "LeafletAttributionControlModel",
          "model_module_version": "^0.17",
          "state": {
            "_model_module": "jupyter-leaflet",
            "_model_module_version": "^0.17",
            "_model_name": "LeafletAttributionControlModel",
            "_view_count": null,
            "_view_module": "jupyter-leaflet",
            "_view_module_version": "^0.17",
            "_view_name": "LeafletAttributionControlView",
            "options": [
              "position",
              "prefix"
            ],
            "position": "bottomright",
            "prefix": "ipyleaflet"
          }
        },
        "c51383444bee4025baefaa011b561d03": {
          "model_module": "jupyter-leaflet",
          "model_name": "LeafletWidgetControlModel",
          "model_module_version": "^0.17",
          "state": {
            "_model_module": "jupyter-leaflet",
            "_model_module_version": "^0.17",
            "_model_name": "LeafletWidgetControlModel",
            "_view_count": null,
            "_view_module": "jupyter-leaflet",
            "_view_module_version": "^0.17",
            "_view_name": "LeafletWidgetControlView",
            "max_height": null,
            "max_width": null,
            "min_height": null,
            "min_width": null,
            "options": [
              "position",
              "transparent_bg"
            ],
            "position": "topright",
            "transparent_bg": false,
            "widget": "IPY_MODEL_8b0c3209c6cd43d58b960f0118df86b3"
          }
        },
        "b0b7bd1c654a4e19ade2ecd0748b9307": {
          "model_module": "jupyter-leaflet",
          "model_name": "LeafletMapStyleModel",
          "model_module_version": "^0.17",
          "state": {
            "_model_module": "jupyter-leaflet",
            "_model_module_version": "^0.17",
            "_model_name": "LeafletMapStyleModel",
            "_view_count": null,
            "_view_module": "@jupyter-widgets/base",
            "_view_module_version": "1.2.0",
            "_view_name": "StyleView",
            "cursor": "grab"
          }
        },
        "ae8ce1fecaec4c959c42150004de84cd": {
          "model_module": "jupyter-leaflet",
          "model_name": "LeafletMapStyleModel",
          "model_module_version": "^0.17",
          "state": {
            "_model_module": "jupyter-leaflet",
            "_model_module_version": "^0.17",
            "_model_name": "LeafletMapStyleModel",
            "_view_count": null,
            "_view_module": "@jupyter-widgets/base",
            "_view_module_version": "1.2.0",
            "_view_name": "StyleView",
            "cursor": "move"
          }
        },
        "00d883c015f941a1bdffc8f0e20b7219": {
          "model_module": "jupyter-leaflet",
          "model_name": "LeafletTileLayerModel",
          "model_module_version": "^0.17",
          "state": {
            "_model_module": "jupyter-leaflet",
            "_model_module_version": "^0.17",
            "_model_name": "LeafletTileLayerModel",
            "_view_count": null,
            "_view_module": "jupyter-leaflet",
            "_view_module_version": "^0.17",
            "_view_name": "LeafletTileLayerView",
            "attribution": "&copy; <a href=\"https://www.openstreetmap.org/copyright\">OpenStreetMap</a> contributors",
            "base": true,
            "bottom": true,
            "bounds": null,
            "detect_retina": false,
            "loading": false,
            "max_native_zoom": null,
            "max_zoom": 19,
            "min_native_zoom": null,
            "min_zoom": 1,
            "name": "OpenStreetMap.Mapnik",
            "no_wrap": false,
            "opacity": 1,
            "options": [
              "attribution",
              "bounds",
              "detect_retina",
              "max_native_zoom",
              "max_zoom",
              "min_native_zoom",
              "min_zoom",
              "no_wrap",
              "tile_size",
              "tms",
              "zoom_offset"
            ],
            "pane": "",
            "popup": null,
            "popup_max_height": null,
            "popup_max_width": 300,
            "popup_min_width": 50,
            "show_loading": false,
            "subitems": [],
            "tile_size": 256,
            "tms": false,
            "url": "https://tile.openstreetmap.org/{z}/{x}/{y}.png",
            "visible": true,
            "zoom_offset": 0
          }
        },
        "4741115627954db5bbf780ae98ad66c7": {
          "model_module": "jupyter-leaflet",
          "model_name": "LeafletTileLayerModel",
          "model_module_version": "^0.17",
          "state": {
            "_model_module": "jupyter-leaflet",
            "_model_module_version": "^0.17",
            "_model_name": "LeafletTileLayerModel",
            "_view_count": null,
            "_view_module": "jupyter-leaflet",
            "_view_module_version": "^0.17",
            "_view_name": "LeafletTileLayerView",
            "attribution": "Esri",
            "base": false,
            "bottom": true,
            "bounds": null,
            "detect_retina": false,
            "loading": false,
            "max_native_zoom": null,
            "max_zoom": 24,
            "min_native_zoom": null,
            "min_zoom": 0,
            "name": "Esri.WorldImagery",
            "no_wrap": false,
            "opacity": 1,
            "options": [
              "attribution",
              "bounds",
              "detect_retina",
              "max_native_zoom",
              "max_zoom",
              "min_native_zoom",
              "min_zoom",
              "no_wrap",
              "tile_size",
              "tms",
              "zoom_offset"
            ],
            "pane": "",
            "popup": null,
            "popup_max_height": null,
            "popup_max_width": 300,
            "popup_min_width": 50,
            "show_loading": false,
            "subitems": [],
            "tile_size": 256,
            "tms": false,
            "url": "https://server.arcgisonline.com/ArcGIS/rest/services/World_Imagery/MapServer/tile/{z}/{y}/{x}",
            "visible": true,
            "zoom_offset": 0
          }
        },
        "8395cecf42d84400821d86311765124c": {
          "model_module": "jupyter-leaflet",
          "model_name": "LeafletTileLayerModel",
          "model_module_version": "^0.17",
          "state": {
            "_model_module": "jupyter-leaflet",
            "_model_module_version": "^0.17",
            "_model_name": "LeafletTileLayerModel",
            "_view_count": null,
            "_view_module": "jupyter-leaflet",
            "_view_module_version": "^0.17",
            "_view_name": "LeafletTileLayerView",
            "attribution": "Google Earth Engine",
            "base": false,
            "bottom": true,
            "bounds": null,
            "detect_retina": false,
            "loading": false,
            "max_native_zoom": null,
            "max_zoom": 24,
            "min_native_zoom": null,
            "min_zoom": 0,
            "name": "uncertainty",
            "no_wrap": false,
            "opacity": 1,
            "options": [
              "attribution",
              "bounds",
              "detect_retina",
              "max_native_zoom",
              "max_zoom",
              "min_native_zoom",
              "min_zoom",
              "no_wrap",
              "tile_size",
              "tms",
              "zoom_offset"
            ],
            "pane": "",
            "popup": null,
            "popup_max_height": null,
            "popup_max_width": 300,
            "popup_min_width": 50,
            "show_loading": false,
            "subitems": [],
            "tile_size": 256,
            "tms": false,
            "url": "https://earthengine.googleapis.com/v1/projects/earthengine-legacy/maps/7fb92849eb741fa026f429b3ff8fcd6a-2b6563adf983633f47b2757d43027fe5/tiles/{z}/{x}/{y}",
            "visible": true,
            "zoom_offset": 0
          }
        },
        "17b72f19b5284d7abe7b3c33565b4f9b": {
          "model_module": "@jupyter-widgets/base",
          "model_name": "LayoutModel",
          "model_module_version": "1.2.0",
          "state": {
            "_model_module": "@jupyter-widgets/base",
            "_model_module_version": "1.2.0",
            "_model_name": "LayoutModel",
            "_view_count": null,
            "_view_module": "@jupyter-widgets/base",
            "_view_module_version": "1.2.0",
            "_view_name": "LayoutView",
            "align_content": null,
            "align_items": null,
            "align_self": null,
            "border": null,
            "bottom": null,
            "display": null,
            "flex": null,
            "flex_flow": null,
            "grid_area": null,
            "grid_auto_columns": null,
            "grid_auto_flow": null,
            "grid_auto_rows": null,
            "grid_column": null,
            "grid_gap": null,
            "grid_row": null,
            "grid_template_areas": null,
            "grid_template_columns": null,
            "grid_template_rows": null,
            "height": "600px",
            "justify_content": null,
            "justify_items": null,
            "left": null,
            "margin": null,
            "max_height": null,
            "max_width": null,
            "min_height": null,
            "min_width": null,
            "object_fit": null,
            "object_position": null,
            "order": null,
            "overflow": null,
            "overflow_x": null,
            "overflow_y": null,
            "padding": null,
            "right": null,
            "top": null,
            "visibility": null,
            "width": null
          }
        },
        "b974c384468642a688a01572d9911cae": {
          "model_module": "jupyter-leaflet",
          "model_name": "LeafletMapStyleModel",
          "model_module_version": "^0.17",
          "state": {
            "_model_module": "jupyter-leaflet",
            "_model_module_version": "^0.17",
            "_model_name": "LeafletMapStyleModel",
            "_view_count": null,
            "_view_module": "@jupyter-widgets/base",
            "_view_module_version": "1.2.0",
            "_view_name": "StyleView",
            "cursor": "grab"
          }
        },
        "d6fc02c09c224e019e3a18e6f4ac84b9": {
          "model_module": "@jupyter-widgets/controls",
          "model_name": "HBoxModel",
          "model_module_version": "1.5.0",
          "state": {
            "_dom_classes": [],
            "_model_module": "@jupyter-widgets/controls",
            "_model_module_version": "1.5.0",
            "_model_name": "HBoxModel",
            "_view_count": null,
            "_view_module": "@jupyter-widgets/controls",
            "_view_module_version": "1.5.0",
            "_view_name": "HBoxView",
            "box_style": "",
            "children": [
              "IPY_MODEL_bd7736998ab540dcbdd96b8ad3d63d19"
            ],
            "layout": "IPY_MODEL_f919ff79e0064a8eaf31bc93b4690968"
          }
        },
        "47ab3d702d614c86acfb1abaa996c819": {
          "model_module": "@jupyter-widgets/controls",
          "model_name": "VBoxModel",
          "model_module_version": "1.5.0",
          "state": {
            "_dom_classes": [],
            "_model_module": "@jupyter-widgets/controls",
            "_model_module_version": "1.5.0",
            "_model_name": "VBoxModel",
            "_view_count": null,
            "_view_module": "@jupyter-widgets/controls",
            "_view_module_version": "1.5.0",
            "_view_name": "VBoxView",
            "box_style": "",
            "children": [
              "IPY_MODEL_a6c7aa7f1b074de78bd9bf9f13609168"
            ],
            "layout": "IPY_MODEL_b86c07e240c24b12a19887f69f0ee333"
          }
        },
        "8b0c3209c6cd43d58b960f0118df86b3": {
          "model_module": "@jupyter-widgets/output",
          "model_name": "OutputModel",
          "model_module_version": "1.0.0",
          "state": {
            "_dom_classes": [],
            "_model_module": "@jupyter-widgets/output",
            "_model_module_version": "1.0.0",
            "_model_name": "OutputModel",
            "_view_count": null,
            "_view_module": "@jupyter-widgets/output",
            "_view_module_version": "1.0.0",
            "_view_name": "OutputView",
            "layout": "IPY_MODEL_634590f81646411f92ed4538ba91cd8e",
            "msg_id": "",
            "outputs": [
              {
                "output_type": "display_data",
                "data": {
                  "text/plain": "<Figure size 300x30 with 1 Axes>",
                  "image/png": "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\n"
                },
                "metadata": {}
              }
            ]
          }
        },
        "bd7736998ab540dcbdd96b8ad3d63d19": {
          "model_module": "@jupyter-widgets/controls",
          "model_name": "ToggleButtonModel",
          "model_module_version": "1.5.0",
          "state": {
            "_dom_classes": [],
            "_model_module": "@jupyter-widgets/controls",
            "_model_module_version": "1.5.0",
            "_model_name": "ToggleButtonModel",
            "_view_count": null,
            "_view_module": "@jupyter-widgets/controls",
            "_view_module_version": "1.5.0",
            "_view_name": "ToggleButtonView",
            "button_style": "",
            "description": "",
            "description_tooltip": null,
            "disabled": false,
            "icon": "globe",
            "layout": "IPY_MODEL_7f3985a6308f4b1eaf9e55ecdf316775",
            "style": "IPY_MODEL_fb3e0bad39ce4678af614c28c0ea19ae",
            "tooltip": "Search location/data",
            "value": false
          }
        },
        "f919ff79e0064a8eaf31bc93b4690968": {
          "model_module": "@jupyter-widgets/base",
          "model_name": "LayoutModel",
          "model_module_version": "1.2.0",
          "state": {
            "_model_module": "@jupyter-widgets/base",
            "_model_module_version": "1.2.0",
            "_model_name": "LayoutModel",
            "_view_count": null,
            "_view_module": "@jupyter-widgets/base",
            "_view_module_version": "1.2.0",
            "_view_name": "LayoutView",
            "align_content": null,
            "align_items": null,
            "align_self": null,
            "border": null,
            "bottom": null,
            "display": null,
            "flex": null,
            "flex_flow": null,
            "grid_area": null,
            "grid_auto_columns": null,
            "grid_auto_flow": null,
            "grid_auto_rows": null,
            "grid_column": null,
            "grid_gap": null,
            "grid_row": null,
            "grid_template_areas": null,
            "grid_template_columns": null,
            "grid_template_rows": null,
            "height": null,
            "justify_content": null,
            "justify_items": null,
            "left": null,
            "margin": null,
            "max_height": null,
            "max_width": null,
            "min_height": null,
            "min_width": null,
            "object_fit": null,
            "object_position": null,
            "order": null,
            "overflow": null,
            "overflow_x": null,
            "overflow_y": null,
            "padding": null,
            "right": null,
            "top": null,
            "visibility": null,
            "width": null
          }
        },
        "a6c7aa7f1b074de78bd9bf9f13609168": {
          "model_module": "@jupyter-widgets/controls",
          "model_name": "ToggleButtonModel",
          "model_module_version": "1.5.0",
          "state": {
            "_dom_classes": [],
            "_model_module": "@jupyter-widgets/controls",
            "_model_module_version": "1.5.0",
            "_model_name": "ToggleButtonModel",
            "_view_count": null,
            "_view_module": "@jupyter-widgets/controls",
            "_view_module_version": "1.5.0",
            "_view_name": "ToggleButtonView",
            "button_style": "",
            "description": "",
            "description_tooltip": null,
            "disabled": false,
            "icon": "wrench",
            "layout": "IPY_MODEL_4959dad473ef4452941f495c10e0f7fb",
            "style": "IPY_MODEL_a3520c2d2a204d7a93fd51509cc218ea",
            "tooltip": "Toolbar",
            "value": false
          }
        },
        "b86c07e240c24b12a19887f69f0ee333": {
          "model_module": "@jupyter-widgets/base",
          "model_name": "LayoutModel",
          "model_module_version": "1.2.0",
          "state": {
            "_model_module": "@jupyter-widgets/base",
            "_model_module_version": "1.2.0",
            "_model_name": "LayoutModel",
            "_view_count": null,
            "_view_module": "@jupyter-widgets/base",
            "_view_module_version": "1.2.0",
            "_view_name": "LayoutView",
            "align_content": null,
            "align_items": null,
            "align_self": null,
            "border": null,
            "bottom": null,
            "display": null,
            "flex": null,
            "flex_flow": null,
            "grid_area": null,
            "grid_auto_columns": null,
            "grid_auto_flow": null,
            "grid_auto_rows": null,
            "grid_column": null,
            "grid_gap": null,
            "grid_row": null,
            "grid_template_areas": null,
            "grid_template_columns": null,
            "grid_template_rows": null,
            "height": null,
            "justify_content": null,
            "justify_items": null,
            "left": null,
            "margin": null,
            "max_height": null,
            "max_width": null,
            "min_height": null,
            "min_width": null,
            "object_fit": null,
            "object_position": null,
            "order": null,
            "overflow": null,
            "overflow_x": null,
            "overflow_y": null,
            "padding": null,
            "right": null,
            "top": null,
            "visibility": null,
            "width": null
          }
        },
        "634590f81646411f92ed4538ba91cd8e": {
          "model_module": "@jupyter-widgets/base",
          "model_name": "LayoutModel",
          "model_module_version": "1.2.0",
          "state": {
            "_model_module": "@jupyter-widgets/base",
            "_model_module_version": "1.2.0",
            "_model_name": "LayoutModel",
            "_view_count": null,
            "_view_module": "@jupyter-widgets/base",
            "_view_module_version": "1.2.0",
            "_view_name": "LayoutView",
            "align_content": null,
            "align_items": null,
            "align_self": null,
            "border": null,
            "bottom": null,
            "display": null,
            "flex": null,
            "flex_flow": null,
            "grid_area": null,
            "grid_auto_columns": null,
            "grid_auto_flow": null,
            "grid_auto_rows": null,
            "grid_column": null,
            "grid_gap": null,
            "grid_row": null,
            "grid_template_areas": null,
            "grid_template_columns": null,
            "grid_template_rows": null,
            "height": null,
            "justify_content": null,
            "justify_items": null,
            "left": null,
            "margin": null,
            "max_height": null,
            "max_width": null,
            "min_height": null,
            "min_width": null,
            "object_fit": null,
            "object_position": null,
            "order": null,
            "overflow": null,
            "overflow_x": null,
            "overflow_y": null,
            "padding": null,
            "right": null,
            "top": null,
            "visibility": null,
            "width": "270px"
          }
        },
        "7f3985a6308f4b1eaf9e55ecdf316775": {
          "model_module": "@jupyter-widgets/base",
          "model_name": "LayoutModel",
          "model_module_version": "1.2.0",
          "state": {
            "_model_module": "@jupyter-widgets/base",
            "_model_module_version": "1.2.0",
            "_model_name": "LayoutModel",
            "_view_count": null,
            "_view_module": "@jupyter-widgets/base",
            "_view_module_version": "1.2.0",
            "_view_name": "LayoutView",
            "align_content": null,
            "align_items": null,
            "align_self": null,
            "border": null,
            "bottom": null,
            "display": null,
            "flex": null,
            "flex_flow": null,
            "grid_area": null,
            "grid_auto_columns": null,
            "grid_auto_flow": null,
            "grid_auto_rows": null,
            "grid_column": null,
            "grid_gap": null,
            "grid_row": null,
            "grid_template_areas": null,
            "grid_template_columns": null,
            "grid_template_rows": null,
            "height": "28px",
            "justify_content": null,
            "justify_items": null,
            "left": null,
            "margin": null,
            "max_height": null,
            "max_width": null,
            "min_height": null,
            "min_width": null,
            "object_fit": null,
            "object_position": null,
            "order": null,
            "overflow": null,
            "overflow_x": null,
            "overflow_y": null,
            "padding": "0px 0px 0px 4px",
            "right": null,
            "top": null,
            "visibility": null,
            "width": "28px"
          }
        },
        "fb3e0bad39ce4678af614c28c0ea19ae": {
          "model_module": "@jupyter-widgets/controls",
          "model_name": "DescriptionStyleModel",
          "model_module_version": "1.5.0",
          "state": {
            "_model_module": "@jupyter-widgets/controls",
            "_model_module_version": "1.5.0",
            "_model_name": "DescriptionStyleModel",
            "_view_count": null,
            "_view_module": "@jupyter-widgets/base",
            "_view_module_version": "1.2.0",
            "_view_name": "StyleView",
            "description_width": ""
          }
        },
        "4959dad473ef4452941f495c10e0f7fb": {
          "model_module": "@jupyter-widgets/base",
          "model_name": "LayoutModel",
          "model_module_version": "1.2.0",
          "state": {
            "_model_module": "@jupyter-widgets/base",
            "_model_module_version": "1.2.0",
            "_model_name": "LayoutModel",
            "_view_count": null,
            "_view_module": "@jupyter-widgets/base",
            "_view_module_version": "1.2.0",
            "_view_name": "LayoutView",
            "align_content": null,
            "align_items": null,
            "align_self": null,
            "border": null,
            "bottom": null,
            "display": null,
            "flex": null,
            "flex_flow": null,
            "grid_area": null,
            "grid_auto_columns": null,
            "grid_auto_flow": null,
            "grid_auto_rows": null,
            "grid_column": null,
            "grid_gap": null,
            "grid_row": null,
            "grid_template_areas": null,
            "grid_template_columns": null,
            "grid_template_rows": null,
            "height": "28px",
            "justify_content": null,
            "justify_items": null,
            "left": null,
            "margin": null,
            "max_height": null,
            "max_width": null,
            "min_height": null,
            "min_width": null,
            "object_fit": null,
            "object_position": null,
            "order": null,
            "overflow": null,
            "overflow_x": null,
            "overflow_y": null,
            "padding": "0px 0px 0px 4px",
            "right": null,
            "top": null,
            "visibility": null,
            "width": "28px"
          }
        },
        "a3520c2d2a204d7a93fd51509cc218ea": {
          "model_module": "@jupyter-widgets/controls",
          "model_name": "DescriptionStyleModel",
          "model_module_version": "1.5.0",
          "state": {
            "_model_module": "@jupyter-widgets/controls",
            "_model_module_version": "1.5.0",
            "_model_name": "DescriptionStyleModel",
            "_view_count": null,
            "_view_module": "@jupyter-widgets/base",
            "_view_module_version": "1.2.0",
            "_view_name": "StyleView",
            "description_width": ""
          }
        }
      }
    }
  },
  "cells": [
    {
      "cell_type": "markdown",
      "source": [
        "# GPR retrieval of mangrove traits and uncertainties in Google Earth Engine\n",
        "\n",
        "\n",
        "\n",
        "\n",
        "\n"
      ],
      "metadata": {
        "id": "hhUW_Huk3JJz"
      }
    },
    {
      "cell_type": "markdown",
      "source": [
        "## Environment setup"
      ],
      "metadata": {
        "id": "XKiWyVza5LwG"
      }
    },
    {
      "cell_type": "code",
      "source": [
        "!pip install geemap"
      ],
      "metadata": {
        "id": "2WNDwDiK3XgJ"
      },
      "execution_count": null,
      "outputs": []
    },
    {
      "cell_type": "code",
      "source": [
        "import geemap\n",
        "import ee"
      ],
      "metadata": {
        "id": "flyHUVLpVrMD"
      },
      "execution_count": null,
      "outputs": []
    },
    {
      "cell_type": "code",
      "metadata": {
        "id": "wcnFEOKIvwba",
        "colab": {
          "base_uri": "https://localhost:8080/"
        },
        "outputId": "1d32ef09-38f4-493c-cdfd-3f1d68e0c348"
      },
      "source": [
        "# Trigger the authentication flow.\n",
        "ee.Authenticate()\n",
        "# Initialize the library.\n",
        "ee.Initialize()"
      ],
      "execution_count": null,
      "outputs": [
        {
          "output_type": "stream",
          "name": "stdout",
          "text": [
            "To authorize access needed by Earth Engine, open the following URL in a web browser and follow the instructions. If the web browser does not start automatically, please manually browse the URL below.\n",
            "\n",
            "    https://code.earthengine.google.com/client-auth?scopes=https%3A//www.googleapis.com/auth/earthengine%20https%3A//www.googleapis.com/auth/devstorage.full_control&request_id=DjCYgp5ONAZGe40gnc7eQ_LH2LmyOa3yLpCdAddAqs0&tc=7JxmcfcqzcVRe1R3kNbXd0gQi6-K2SPx8xfgL7omtUs&cc=U34KBZUkxkNhcBT-XAp7REb8_LMbzolqHYs5WlOX7Oo\n",
            "\n",
            "The authorization workflow will generate a code, which you should paste in the box below.\n",
            "Enter verification code: 4/1AfJohXl9lSxcfpiq3bI2yEkuHw9PPA8T136A-g2ojwygFDCveN3SOWxlr4A\n",
            "\n",
            "Successfully saved authorization token.\n"
          ]
        }
      ]
    },
    {
      "cell_type": "markdown",
      "metadata": {
        "id": "l6mVy3PnWhZj"
      },
      "source": [
        "## Model import"
      ]
    },
    {
      "cell_type": "code",
      "source": [
        "!git clone -l -s https://github.com/thangbomhn87/GEE_Mangrove_Traits_Uncertainity_Mapping.git\n",
        "%cd GEE_Mangrove_Traits_Uncertainity_Mapping/GPR_Parameters\n",
        "\n",
        "import overall_model_gee_LAI\n",
        "import overall_model_gee_Cab\n",
        "import overall_model_gee_Cm\n",
        "import overall_model_gee_Cw"
      ],
      "metadata": {
        "colab": {
          "base_uri": "https://localhost:8080/"
        },
        "id": "Cy9qsVKkLprs",
        "outputId": "55807bb0-2253-4b73-cce9-738ac92749c1"
      },
      "execution_count": null,
      "outputs": [
        {
          "output_type": "stream",
          "name": "stdout",
          "text": [
            "Cloning into 'GEE_Mangrove_Traits_Uncertainity_Mapping'...\n",
            "warning: --local is ignored\n",
            "remote: Enumerating objects: 38, done.\u001b[K\n",
            "remote: Counting objects: 100% (38/38), done.\u001b[K\n",
            "remote: Compressing objects: 100% (33/33), done.\u001b[K\n",
            "remote: Total 38 (delta 11), reused 0 (delta 0), pack-reused 0\u001b[K\n",
            "Receiving objects: 100% (38/38), 403.88 KiB | 2.09 MiB/s, done.\n",
            "Resolving deltas: 100% (11/11), done.\n",
            "/content/GEE_Mangrove_Traits_Uncertainity_Mapping/GPR_Parameters\n"
          ]
        }
      ]
    },
    {
      "cell_type": "code",
      "metadata": {
        "id": "9_enhfcmUmlE"
      },
      "source": [
        "# Possible values: 'Cab', 'Cm', 'Cw', 'LAI'\n",
        "cropTrait = 'Cab'\n",
        "# Possible models: 'overall_model_gee_LAI', 'overall_model_gee_Cab', 'overall_model_gee_Cw', 'overall_model_gee_Cm'\n",
        "uncModel = overall_model_gee_Cab.models[cropTrait]"
      ],
      "execution_count": null,
      "outputs": []
    },
    {
      "cell_type": "markdown",
      "metadata": {
        "id": "jD9Tvb0BiLrM"
      },
      "source": [
        "## Functions"
      ]
    },
    {
      "cell_type": "code",
      "metadata": {
        "id": "6Cf1rQb6iEN9"
      },
      "source": [
        "# Function to mask the clouds in S2\n",
        "def maskS2cloud_and_water(image):\n",
        "  not_cloud_shadows = image.select('SCL').neq(3);\n",
        "  not_water = image.select('SCL').neq(6);\n",
        "  not_cloud_low = image.select('SCL').neq(7);\n",
        "  not_cloud_medium = image.select('SCL').neq(8);\n",
        "  not_cloud_high = image.select('SCL').neq(9);\n",
        "  not_cirrus = image.select('SCL').neq(10);\n",
        "  not_ice = image.select('SCL').neq(11);\n",
        "\n",
        "  qa = image.select('QA60');\n",
        "  cloudBitMask = 1 << 10;\n",
        "  cirrusBitMask = 1 << 11;\n",
        "  mask = (qa.bitwiseAnd(cloudBitMask).eq(0).And(qa.bitwiseAnd(cirrusBitMask).eq(0)).And(not_cloud_shadows)\n",
        "    .And(not_water).And(not_cloud_low).And(not_cloud_medium).And(not_cloud_high).And(not_cirrus).And(not_ice))\n",
        "  return image.updateMask(mask).divide(10000).copyProperties(qa).set('system:time_start', qa.get('system:time_start'))\n",
        "\n",
        "# Auxiliar function for mapping : (1..n) -> (B1..Bn)\n",
        "def band_names(element):\n",
        "  bandName = ee.String('B').cat(ee.Number(element).int().format())\n",
        "  return bandName\n",
        "\n",
        "# Crop trait GPR mean prediction\n",
        "def veg_index_GPR(image_orig):\n",
        "  # Create List of Bands of Dimension n (Xtrain[n,n])\n",
        "  XTrain_dim = uncModel['X_train'].length().get([0]).getInfo();\n",
        "  band_sequence   = (ee.List.sequence(1, XTrain_dim).map(band_names));\n",
        "  # Create a list of band names for flattening operation\n",
        "  im_norm_ell2D_hypell = image_orig.subtract(ee.Image(uncModel['mx'])).divide(ee.Image(uncModel['sx'])).multiply(ee.Image(uncModel['hyp_ell'])).toArray().toArray(1);\n",
        "  im_norm_ell2D = image_orig.subtract(ee.Image(uncModel['mx'])).divide(ee.Image(uncModel['sx'])).toArray().toArray(1);\n",
        "  PtTPt  = im_norm_ell2D_hypell.matrixTranspose().matrixMultiply(im_norm_ell2D).arrayProject([0]).multiply(-0.5);\n",
        "  PtTDX  = ee.Image(uncModel['X_train']).matrixMultiply(im_norm_ell2D_hypell).arrayProject([0]).arrayFlatten([band_sequence]);\n",
        "  arg1   = PtTPt.exp().multiply(uncModel['hyp_sig']);\n",
        "  k_star = PtTDX.subtract(ee.Image(uncModel['XDX_pre_calc']).multiply(0.5)).exp().toArray();\n",
        "  mean_pred = k_star.arrayDotProduct(ee.Image(uncModel['alpha_coefficients']).toArray()).multiply(arg1);\n",
        "  mean_pred = mean_pred.toArray(1).arrayProject([0]).arrayFlatten([[uncModel['veg_index']]]);\n",
        "  mean_pred = mean_pred.add(uncModel['mean_model']);\n",
        "  image_orig = image_orig.addBands(mean_pred)\n",
        "  return image_orig.select(uncModel['veg_index'])\n",
        "\n",
        "# Uncertainty retrieval\n",
        "def get_GPR_uncertainty(image_orig):\n",
        "  # Create List of Bands of Dimension n (Xtrain[n,n])\n",
        "  XTrain_dim = uncModel['X_train'].length().get([0]).getInfo()\n",
        "  band_sequence   = (ee.List.sequence(1, XTrain_dim).map(band_names))\n",
        "  # Create a list of band names for flattening operation\n",
        "  im_norm_ell2D_hypell = image_orig.subtract(ee.Image(uncModel['mx'])).divide(ee.Image(uncModel['sx'])).multiply(ee.Image(uncModel['hyp_ell'])).toArray().toArray(1)\n",
        "  im_norm_ell2D = image_orig.subtract(ee.Image(uncModel['mx'])).divide(ee.Image(uncModel['sx'])).toArray().toArray(1)\n",
        "  PtTPt  = im_norm_ell2D_hypell.matrixTranspose().matrixMultiply(im_norm_ell2D).arrayProject([0]).multiply(-0.5)\n",
        "  PtTDX  = ee.Image(uncModel['X_train']).matrixMultiply(im_norm_ell2D_hypell).arrayProject([0]).arrayFlatten([band_sequence])\n",
        "  arg1   = PtTPt.exp().multiply(uncModel['hyp_sig']);\n",
        "  k_star = PtTDX.subtract(ee.Image(uncModel['XDX_pre_calc']).multiply(0.5)).exp().multiply(arg1).toArray()\n",
        "\n",
        "  variance_vector = ee.Image(uncModel['Linv_pre_calc']).matrixMultiply(k_star.toArray(0).toArray(1)).arrayProject([0])\n",
        "  variance = ee.Image(uncModel['hyp_sig_unc']).toArray().subtract(variance_vector.arrayDotProduct(variance_vector))\n",
        "  variance = variance.toArray(1).arrayProject([0]).arrayFlatten([[uncModel['veg_index']+'_unc']])\n",
        "  image_orig = image_orig.addBands(variance)\n",
        "  return image_orig.select(uncModel['veg_index']+'_unc').abs().sqrt()"
      ],
      "execution_count": null,
      "outputs": []
    },
    {
      "cell_type": "markdown",
      "source": [
        "## Area of interest parameters"
      ],
      "metadata": {
        "id": "D3Vwedss7iDj"
      }
    },
    {
      "cell_type": "code",
      "source": [
        "polygon = ee.Geometry.Polygon(\n",
        "  [[[104.94710610605645,8.605965246171419],\n",
        "    [104.94710610605645,8.669099010946878],\n",
        "    [104.76445840097833,8.669099010946878],\n",
        "    [104.76445840097833,8.605965246171419]]])\n",
        "\n",
        "studyArea = ee.FeatureCollection('projects/ee-ngabinh1987/assets/DiaPhan_VQG_DatMui')"
      ],
      "metadata": {
        "id": "yDOhZz1y7sPP"
      },
      "execution_count": null,
      "outputs": []
    },
    {
      "cell_type": "markdown",
      "metadata": {
        "id": "AkfoJP1odvT5"
      },
      "source": [
        "## Mangrove Vegetation Index (MVI)"
      ]
    },
    {
      "cell_type": "code",
      "source": [
        "annual_collection  = (ee.ImageCollection('COPERNICUS/S2_SR_HARMONIZED')\n",
        "  .filterBounds(polygon)\n",
        "  .filterDate('2019-01-01', '2022-12-31')\n",
        "  .map(maskS2cloud_and_water)\n",
        "  .select(['B3', 'B8', 'B11']))\n",
        "\n",
        "mean_annual_image = annual_collection.median().clip(studyArea);\n",
        "\n",
        "MVI = mean_annual_image.expression('(b(\"B8\") - b(\"B3\"))/(b(\"B11\") - b(\"B3\"))');\n",
        "\n",
        "def classify_mangrove(img):\n",
        "  band = img.select('B8')\n",
        "  mangrove = band.gt(4.5).rename('mangrove')\n",
        "  mangrove = mangrove.updateMask(mangrove)\n",
        "  return img.addBands(mangrove)\n",
        "\n",
        "MVI_classify = classify_mangrove(MVI);\n",
        "\n",
        "def clip_StudyArea(image):return image.clip(studyArea)\n",
        "def clip_MVI(image):return image.updateMask(MVI_classify.select('mangrove'))"
      ],
      "metadata": {
        "id": "jYs6a51kKBts"
      },
      "execution_count": null,
      "outputs": []
    },
    {
      "cell_type": "markdown",
      "source": [
        "## Traits, Uncertainty"
      ],
      "metadata": {
        "id": "Hk4LHhSWVPWq"
      }
    },
    {
      "cell_type": "code",
      "metadata": {
        "id": "FIYid7EWdv1q"
      },
      "source": [
        "# https://nsidc.org/data/user-resources/help-center/day-year-doy-calendar\n",
        "Date_Range = ee.Filter.dayOfYear(91, 120);\n",
        "Year_Range = ee.Filter.calendarRange(2019, 2023,'year');\n",
        "\n",
        "# Image Collection\n",
        "img_col = (ee.ImageCollection('COPERNICUS/S2_SR_HARMONIZED')\n",
        "  .filterBounds(polygon)\n",
        "  .filter(Date_Range)\n",
        "  .filter(Year_Range)\n",
        "  .map(maskS2cloud_and_water)\n",
        "  .select(['B2', 'B3', 'B4', 'B5', 'B6', 'B7', 'B8', 'B8A', 'B11', 'B12'])\n",
        "  .map(clip_StudyArea)\n",
        "  .map(clip_MVI));\n",
        "\n",
        "# Predicted mean trait\n",
        "trait = img_col.map(veg_index_GPR).mean().copyProperties(\n",
        "  source = img_col.first(),\n",
        "  properties = ['system:time_start']\n",
        "  );\n",
        "\n",
        "# Absolute uncertainty retrieval (SD)\n",
        "SD = img_col.map(get_GPR_uncertainty).mean().copyProperties(\n",
        "  source = img_col.first(),\n",
        "  properties = ['system:time_start']\n",
        "  );\n",
        "\n",
        "# Convert to image\n",
        "imageTrait = ee.Image(trait)\n",
        "imageSD = ee.Image(SD)"
      ],
      "execution_count": null,
      "outputs": []
    },
    {
      "cell_type": "markdown",
      "source": [
        "## Export images to Google Earth Engine Asset"
      ],
      "metadata": {
        "id": "MeSWk7Ur9gBb"
      }
    },
    {
      "cell_type": "code",
      "source": [
        "# In order to visualize the image in this notebook avoiding memory problems,\n",
        "# the image has to be exported to the asset section.\n",
        "\n",
        "# GEE user name\n",
        "geeUser = 'ngabinh1987'\n",
        "\n",
        "# Asset name\n",
        "assetName_trait = 'Cab_Apr_Mean_2019_2023'\n",
        "assetName_uncertainty = 'Cab_Apr_Mean_Unc_2019_2023'\n",
        "\n",
        "assetId_trait = 'users/' + geeUser + '/' + assetName_trait\n",
        "assetId_uncertainty = 'users/' + geeUser + '/' + assetName_uncertainty\n",
        "\n",
        "task_config1 = {\n",
        "    'image': imageTrait,\n",
        "    'description': 'Cab_Apr_Mean_2019_2023',\n",
        "    'assetId': assetId_trait,\n",
        "    'region': studyArea.geometry(),\n",
        "    'scale': 10,\n",
        "    'crs' : 'EPSG:4326'\n",
        "}\n",
        "task1 = ee.batch.Export.image.toAsset(**task_config1)\n",
        "task1.start()\n",
        "\n",
        "task_config2 = {\n",
        "    'image': imageSD,\n",
        "    'description': 'Cab_Apr_Mean_Unc_2019_2023',\n",
        "    'assetId': assetId_uncertainty,\n",
        "    'region': studyArea.geometry(),\n",
        "    'scale': 10,\n",
        "    'crs' : 'EPSG:4326'\n",
        "}\n",
        "task2 = ee.batch.Export.image.toAsset(**task_config2)\n",
        "task2.start()"
      ],
      "metadata": {
        "id": "ek_h0Eze_z3h"
      },
      "execution_count": null,
      "outputs": []
    },
    {
      "cell_type": "markdown",
      "source": [
        "### Check the status of the export task"
      ],
      "metadata": {
        "id": "EhtdC1wLCM4r"
      }
    },
    {
      "cell_type": "code",
      "source": [
        "# To visualize the image, the status must be \"COMPLETED\"\n",
        "desc1 = task1.status()['description']\n",
        "state1 = task1.status()['state']\n",
        "\n",
        "desc2 = task2.status()['description']\n",
        "state2 = task2.status()['state']\n",
        "\n",
        "print('The status of the task {} is: {}'.format(desc1,state1))\n",
        "print('The status of the task {} is: {}'.format(desc2,state2))"
      ],
      "metadata": {
        "id": "o3manky8CXBU",
        "colab": {
          "base_uri": "https://localhost:8080/"
        },
        "outputId": "da095b51-6b0c-4114-e381-603d4313ec41"
      },
      "execution_count": 33,
      "outputs": [
        {
          "output_type": "stream",
          "name": "stdout",
          "text": [
            "The status of the task Cab_Apr_Mean_2019_2023 is: COMPLETED\n",
            "The status of the task Cab_Apr_Mean_Unc_2019_2023 is: COMPLETED\n"
          ]
        }
      ]
    },
    {
      "cell_type": "markdown",
      "source": [
        "## Visualization"
      ],
      "metadata": {
        "id": "6JmvVLQl83mZ"
      }
    },
    {
      "cell_type": "markdown",
      "source": [
        "### Visualization parameters"
      ],
      "metadata": {
        "id": "KoUX8nqH9Cby"
      }
    },
    {
      "cell_type": "code",
      "source": [
        "Uncertainty_palette = ['#305FCF', '#919CCC', '#E7E8C3', '#F0BC8B', '#D66C51', '#C44539']\n",
        "Trait_palette = ['#FFFF80', '#BEF75C', '#38E009', '#36A880', '#225D99', '#0C1078']\n",
        "\n",
        "vis_params_trait = {\n",
        "    'min': 50,\n",
        "    'max': 70,\n",
        "    'palette': Trait_palette\n",
        "}\n",
        "\n",
        "vis_params_uncertainty = {\n",
        "    'min': 5,\n",
        "    'max': 20,\n",
        "    'palette': Uncertainty_palette\n",
        "}"
      ],
      "metadata": {
        "id": "IyVcKIEC87n8"
      },
      "execution_count": null,
      "outputs": []
    },
    {
      "cell_type": "markdown",
      "source": [
        "### Visualization through geemap"
      ],
      "metadata": {
        "id": "wp_mS4FV9JiS"
      }
    },
    {
      "cell_type": "code",
      "source": [
        "image = ee.Image(assetId_trait)\n",
        "\n",
        "Map = geemap.Map()\n",
        "Map.add_basemap('SATELLITE')\n",
        "Map.addLayer(image, vis_params_trait, 'Trait')\n",
        "Map.add_colorbar(vis_params_trait, label = 'Trait', layer_name = 'Trait', position = 'topright')\n",
        "Map.centerObject(studyArea)\n",
        "Map"
      ],
      "metadata": {
        "id": "Js_lBTDb7kyb",
        "colab": {
          "base_uri": "https://localhost:8080/",
          "height": 621,
          "referenced_widgets": [
            "b92bd24420b84dc6b87b9bd7efb977d9",
            "73d8a3d9510245fa8465e0abf50dfa4e",
            "377cb88956a441ee8cbfbc15c50971f1",
            "c7d4764eab0e4c7c93e0986ab8941549",
            "1f43b0b628ca4694926a8538b32ccf7d",
            "f8ab027050bb46a090f6e1ee91213623",
            "e77d2c4640804fd0a249939f630d4216",
            "99022c81416c4f4b8666bb6ae64847ef",
            "92fc177ada654495a2048bef1361bcfc",
            "33eaab9a29a34569bd1f299fa4e9236d",
            "7829b53ec21445198a18f4ed170ca991",
            "56abf36cc32245a09930e0ca22437bfb",
            "6b63cc0ae6b944029b65fe94e49e82c5",
            "211ba0c5ab5846bb85a37c26184571cb",
            "903848094852417c9b1683c1cf9a6605",
            "8946fc9bc15741c68156f5df941af3a6",
            "fc28eb8e87da4f6db10c36697b4eac4a",
            "b90c539b0f59495da156a26be310e3f4",
            "a7f90ad8f97f4d7faea5fa64b10210c1",
            "f9809cc02e344cd9ade07449581903f5",
            "3ed6b2d02f034ca5b02efd5b3a861379",
            "fe2a1f5df3cd4ea294395560cfd7d30f",
            "73f575d1e4344c0ea679b0a947b27a7a",
            "43438bafaccc4dda964e62446761d848",
            "8f8f33df33154424bf0487e5d7a1326c",
            "a061d33fed2e40fc864a41f23a12ed3e",
            "d5b28a394ebf478aae2c50aa6cf9c04d",
            "a6add1d8f5a04450a366ad84a3b52f2c",
            "c3e5fad377a74495a5039510a51463e8"
          ]
        },
        "outputId": "98c04732-e010-464a-9783-d65b8f2b9817"
      },
      "execution_count": null,
      "outputs": [
        {
          "output_type": "display_data",
          "data": {
            "text/plain": [
              "Map(center=[20, 0], controls=(WidgetControl(options=['position', 'transparent_bg'], widget=HBox(children=(Togg…"
            ],
            "application/vnd.jupyter.widget-view+json": {
              "version_major": 2,
              "version_minor": 0,
              "model_id": "b92bd24420b84dc6b87b9bd7efb977d9"
            }
          },
          "metadata": {
            "application/vnd.jupyter.widget-view+json": {
              "colab": {
                "custom_widget_manager": {
                  "url": "https://ssl.gstatic.com/colaboratory-static/widgets/colab-cdn-widget-manager/b3e629b1971e1542/manager.min.js"
                }
              }
            }
          }
        }
      ]
    },
    {
      "cell_type": "markdown",
      "source": [
        "### Visualization uncertainty through geemap"
      ],
      "metadata": {
        "id": "rxEL670ky2Xq"
      }
    },
    {
      "cell_type": "code",
      "source": [
        "image_unc = ee.Image(assetId_uncertainty)\n",
        "\n",
        "Map = geemap.Map()\n",
        "Map.add_basemap('SATELLITE')\n",
        "Map.addLayer(image_unc, vis_params_uncertainty, 'uncertainty')\n",
        "Map.add_colorbar(vis_params_uncertainty, label = 'uncertainty', layer_name = 'uncertainty', position = 'topright')\n",
        "Map.centerObject(studyArea)\n",
        "Map"
      ],
      "metadata": {
        "colab": {
          "base_uri": "https://localhost:8080/",
          "height": 621,
          "referenced_widgets": [
            "bd62785e9efc467b98ae3ffe5c11401f",
            "462ef1c1de8a421b803399e5e693f379",
            "64435ea9cae64966adc6141827619936",
            "531ee789a7ee487f9bb37e308d7da1bb",
            "191bc0af4f4043ff8acc217c1697af7a",
            "efa805c30f204822bc4822c360976181",
            "710ba808bd2f4865a763951b2ee5a8cd",
            "98d59182f86b4138b3ad15fe37c157ce",
            "8ac7be7f0f3a4c219fad3e3ebf4af05a",
            "c51383444bee4025baefaa011b561d03",
            "b0b7bd1c654a4e19ade2ecd0748b9307",
            "ae8ce1fecaec4c959c42150004de84cd",
            "00d883c015f941a1bdffc8f0e20b7219",
            "4741115627954db5bbf780ae98ad66c7",
            "8395cecf42d84400821d86311765124c",
            "17b72f19b5284d7abe7b3c33565b4f9b",
            "b974c384468642a688a01572d9911cae",
            "d6fc02c09c224e019e3a18e6f4ac84b9",
            "47ab3d702d614c86acfb1abaa996c819",
            "8b0c3209c6cd43d58b960f0118df86b3",
            "bd7736998ab540dcbdd96b8ad3d63d19",
            "f919ff79e0064a8eaf31bc93b4690968",
            "a6c7aa7f1b074de78bd9bf9f13609168",
            "b86c07e240c24b12a19887f69f0ee333",
            "634590f81646411f92ed4538ba91cd8e",
            "7f3985a6308f4b1eaf9e55ecdf316775",
            "fb3e0bad39ce4678af614c28c0ea19ae",
            "4959dad473ef4452941f495c10e0f7fb",
            "a3520c2d2a204d7a93fd51509cc218ea"
          ]
        },
        "id": "W-b7dgBsy5xw",
        "outputId": "7d91e816-04e4-486e-dff3-1031456d30bb"
      },
      "execution_count": 30,
      "outputs": [
        {
          "output_type": "display_data",
          "data": {
            "text/plain": [
              "Map(center=[20, 0], controls=(WidgetControl(options=['position', 'transparent_bg'], widget=HBox(children=(Togg…"
            ],
            "application/vnd.jupyter.widget-view+json": {
              "version_major": 2,
              "version_minor": 0,
              "model_id": "bd62785e9efc467b98ae3ffe5c11401f"
            }
          },
          "metadata": {
            "application/vnd.jupyter.widget-view+json": {
              "colab": {
                "custom_widget_manager": {
                  "url": "https://ssl.gstatic.com/colaboratory-static/widgets/colab-cdn-widget-manager/b3e629b1971e1542/manager.min.js"
                }
              }
            }
          }
        }
      ]
    },
    {
      "cell_type": "markdown",
      "source": [
        "## References"
      ],
      "metadata": {
        "id": "7_jHpUP9HY5r"
      }
    },
    {
      "cell_type": "markdown",
      "source": [
        "Wu, Q., (2020). geemap: A Python package for interactive mapping with Google Earth Engine. The Journal of Open Source Software, 5(51), 2305. https://doi.org/10.21105/joss.02305"
      ],
      "metadata": {
        "id": "ZKgq9hf1Hl9K"
      }
    }
  ]
}