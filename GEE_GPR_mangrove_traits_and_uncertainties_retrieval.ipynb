{
  "nbformat": 4,
  "nbformat_minor": 0,
  "metadata": {
    "colab": {
      "provenance": [],
      "include_colab_link": true
    },
    "kernelspec": {
      "name": "python3",
      "display_name": "Python 3"
    },
    "language_info": {
      "name": "python"
    },
    "widgets": {
      "application/vnd.jupyter.widget-state+json": {
        "222725538ea34fdeadd0e2e8a142ea23": {
          "model_module": "jupyter-leaflet",
          "model_name": "LeafletMapModel",
          "model_module_version": "^0.18",
          "state": {
            "_dom_classes": [],
            "_model_module": "jupyter-leaflet",
            "_model_module_version": "^0.18",
            "_model_name": "LeafletMapModel",
            "_view_count": null,
            "_view_module": "jupyter-leaflet",
            "_view_module_version": "^0.18",
            "_view_name": "LeafletMapView",
            "bottom": 249814,
            "bounce_at_zoom_limits": true,
            "box_zoom": true,
            "center": [
              8.639246468107427,
              104.86401340901274
            ],
            "close_popup_on_click": true,
            "controls": [
              "IPY_MODEL_ec67b9472cf64861b3506ee276b27c9f",
              "IPY_MODEL_8ecc77f713d74c08ac41a3438b999dab",
              "IPY_MODEL_3f5dc65aaaab4ce9bf0ead0ad5085331",
              "IPY_MODEL_bfaef2c182ff4fbeb128f1eb7e6d8c1b",
              "IPY_MODEL_80eb3c0fb8b04af2b0f063651905c028",
              "IPY_MODEL_cd10c96aa6ac4fea8f2693c611fe6e07",
              "IPY_MODEL_068b490263ab422980d22790be615b11",
              "IPY_MODEL_60f4ff2a52264cb2ab51ec3d5e2b25f3",
              "IPY_MODEL_d94923083cb04bdc8099517bda5f842b"
            ],
            "crs": {
              "name": "EPSG3857",
              "custom": false
            },
            "default_style": "IPY_MODEL_aa4eaa43d21b4050bab25ae5a1905211",
            "double_click_zoom": true,
            "dragging": true,
            "dragging_style": "IPY_MODEL_4404d19cf43c4c97a79817baf615a7d3",
            "east": 105.29983520507814,
            "fullscreen": false,
            "inertia": true,
            "inertia_deceleration": 3000,
            "inertia_max_speed": 1500,
            "interpolation": "bilinear",
            "keyboard": true,
            "keyboard_pan_offset": 80,
            "keyboard_zoom_offset": 1,
            "layers": [
              "IPY_MODEL_855cf12c625547488182cda4c69913bc",
              "IPY_MODEL_19b8b9e071cb4d48bc03af3e9987382e",
              "IPY_MODEL_f6fba10df1294afdbac6bcd7acb2537a"
            ],
            "layout": "IPY_MODEL_e030b41d7df0457c9253200dd7777fe0",
            "left": 414228,
            "max_zoom": 24,
            "min_zoom": null,
            "modisdate": "2024-06-15",
            "north": 8.843008090380774,
            "options": [
              "bounce_at_zoom_limits",
              "box_zoom",
              "center",
              "close_popup_on_click",
              "double_click_zoom",
              "dragging",
              "fullscreen",
              "inertia",
              "inertia_deceleration",
              "inertia_max_speed",
              "interpolation",
              "keyboard",
              "keyboard_pan_offset",
              "keyboard_zoom_offset",
              "max_zoom",
              "min_zoom",
              "prefer_canvas",
              "scroll_wheel_zoom",
              "tap",
              "tap_tolerance",
              "touch_zoom",
              "world_copy_jump",
              "zoom",
              "zoom_animation_threshold",
              "zoom_delta",
              "zoom_snap"
            ],
            "panes": {},
            "prefer_canvas": false,
            "right": 415498,
            "scroll_wheel_zoom": true,
            "south": 8.435696320349095,
            "style": "IPY_MODEL_08997404bf59487fb76407e2e7fc9983",
            "tap": true,
            "tap_tolerance": 15,
            "top": 249214,
            "touch_zoom": true,
            "west": 104.42779541015626,
            "window_url": "https://b8ui6rxmnyh-496ff2e9c6d22116-0-colab.googleusercontent.com/outputframe.html?vrz=colab_20240613-060113_RC00_642933896",
            "world_copy_jump": false,
            "zoom": 11,
            "zoom_animation_threshold": 4,
            "zoom_delta": 1,
            "zoom_snap": 1
          }
        },
        "ec67b9472cf64861b3506ee276b27c9f": {
          "model_module": "jupyter-leaflet",
          "model_name": "LeafletWidgetControlModel",
          "model_module_version": "^0.18",
          "state": {
            "_model_module": "jupyter-leaflet",
            "_model_module_version": "^0.18",
            "_model_name": "LeafletWidgetControlModel",
            "_view_count": null,
            "_view_module": "jupyter-leaflet",
            "_view_module_version": "^0.18",
            "_view_name": "LeafletWidgetControlView",
            "max_height": null,
            "max_width": null,
            "min_height": null,
            "min_width": null,
            "options": [
              "position",
              "transparent_bg"
            ],
            "position": "topleft",
            "transparent_bg": false,
            "widget": "IPY_MODEL_e7a0c9a7d79646a48c261dbc0f294d74"
          }
        },
        "8ecc77f713d74c08ac41a3438b999dab": {
          "model_module": "jupyter-leaflet",
          "model_name": "LeafletZoomControlModel",
          "model_module_version": "^0.18",
          "state": {
            "_model_module": "jupyter-leaflet",
            "_model_module_version": "^0.18",
            "_model_name": "LeafletZoomControlModel",
            "_view_count": null,
            "_view_module": "jupyter-leaflet",
            "_view_module_version": "^0.18",
            "_view_name": "LeafletZoomControlView",
            "options": [
              "position",
              "zoom_in_text",
              "zoom_in_title",
              "zoom_out_text",
              "zoom_out_title"
            ],
            "position": "topleft",
            "zoom_in_text": "+",
            "zoom_in_title": "Zoom in",
            "zoom_out_text": "-",
            "zoom_out_title": "Zoom out"
          }
        },
        "3f5dc65aaaab4ce9bf0ead0ad5085331": {
          "model_module": "jupyter-leaflet",
          "model_name": "LeafletFullScreenControlModel",
          "model_module_version": "^0.18",
          "state": {
            "_model_module": "jupyter-leaflet",
            "_model_module_version": "^0.18",
            "_model_name": "LeafletFullScreenControlModel",
            "_view_count": null,
            "_view_module": "jupyter-leaflet",
            "_view_module_version": "^0.18",
            "_view_name": "LeafletFullScreenControlView",
            "options": [
              "position"
            ],
            "position": "topleft"
          }
        },
        "bfaef2c182ff4fbeb128f1eb7e6d8c1b": {
          "model_module": "jupyter-leaflet",
          "model_name": "LeafletDrawControlModel",
          "model_module_version": "^0.18",
          "state": {
            "_model_module": "jupyter-leaflet",
            "_model_module_version": "^0.18",
            "_model_name": "LeafletDrawControlModel",
            "_view_count": null,
            "_view_module": "jupyter-leaflet",
            "_view_module_version": "^0.18",
            "_view_name": "LeafletDrawControlView",
            "circle": {},
            "circlemarker": {},
            "data": [],
            "edit": true,
            "marker": {
              "shapeOptions": {
                "color": "#3388ff"
              }
            },
            "options": [
              "position"
            ],
            "polygon": {
              "shapeOptions": {}
            },
            "polyline": {
              "shapeOptions": {}
            },
            "position": "topleft",
            "rectangle": {
              "shapeOptions": {
                "color": "#3388ff"
              }
            },
            "remove": true
          }
        },
        "80eb3c0fb8b04af2b0f063651905c028": {
          "model_module": "jupyter-leaflet",
          "model_name": "LeafletScaleControlModel",
          "model_module_version": "^0.18",
          "state": {
            "_model_module": "jupyter-leaflet",
            "_model_module_version": "^0.18",
            "_model_name": "LeafletScaleControlModel",
            "_view_count": null,
            "_view_module": "jupyter-leaflet",
            "_view_module_version": "^0.18",
            "_view_name": "LeafletScaleControlView",
            "imperial": true,
            "max_width": 100,
            "metric": true,
            "options": [
              "imperial",
              "max_width",
              "metric",
              "position",
              "update_when_idle"
            ],
            "position": "bottomleft",
            "update_when_idle": false
          }
        },
        "cd10c96aa6ac4fea8f2693c611fe6e07": {
          "model_module": "jupyter-leaflet",
          "model_name": "LeafletMeasureControlModel",
          "model_module_version": "^0.18",
          "state": {
            "_custom_units": {},
            "_model_module": "jupyter-leaflet",
            "_model_module_version": "^0.18",
            "_model_name": "LeafletMeasureControlModel",
            "_view_count": null,
            "_view_module": "jupyter-leaflet",
            "_view_module_version": "^0.18",
            "_view_name": "LeafletMeasureControlView",
            "active_color": "orange",
            "capture_z_index": 10000,
            "completed_color": "#C8F2BE",
            "options": [
              "active_color",
              "capture_z_index",
              "completed_color",
              "popup_options",
              "position",
              "primary_area_unit",
              "primary_length_unit",
              "secondary_area_unit",
              "secondary_length_unit"
            ],
            "popup_options": {
              "className": "leaflet-measure-resultpopup",
              "autoPanPadding": [
                10,
                10
              ]
            },
            "position": "bottomleft",
            "primary_area_unit": "acres",
            "primary_length_unit": "kilometers",
            "secondary_area_unit": null,
            "secondary_length_unit": null
          }
        },
        "068b490263ab422980d22790be615b11": {
          "model_module": "jupyter-leaflet",
          "model_name": "LeafletWidgetControlModel",
          "model_module_version": "^0.18",
          "state": {
            "_model_module": "jupyter-leaflet",
            "_model_module_version": "^0.18",
            "_model_name": "LeafletWidgetControlModel",
            "_view_count": null,
            "_view_module": "jupyter-leaflet",
            "_view_module_version": "^0.18",
            "_view_name": "LeafletWidgetControlView",
            "max_height": null,
            "max_width": null,
            "min_height": null,
            "min_width": null,
            "options": [
              "position",
              "transparent_bg"
            ],
            "position": "topright",
            "transparent_bg": false,
            "widget": "IPY_MODEL_063e303357f54ded92912c9c7313017d"
          }
        },
        "60f4ff2a52264cb2ab51ec3d5e2b25f3": {
          "model_module": "jupyter-leaflet",
          "model_name": "LeafletAttributionControlModel",
          "model_module_version": "^0.18",
          "state": {
            "_model_module": "jupyter-leaflet",
            "_model_module_version": "^0.18",
            "_model_name": "LeafletAttributionControlModel",
            "_view_count": null,
            "_view_module": "jupyter-leaflet",
            "_view_module_version": "^0.18",
            "_view_name": "LeafletAttributionControlView",
            "options": [
              "position",
              "prefix"
            ],
            "position": "bottomright",
            "prefix": "ipyleaflet"
          }
        },
        "d94923083cb04bdc8099517bda5f842b": {
          "model_module": "jupyter-leaflet",
          "model_name": "LeafletWidgetControlModel",
          "model_module_version": "^0.18",
          "state": {
            "_model_module": "jupyter-leaflet",
            "_model_module_version": "^0.18",
            "_model_name": "LeafletWidgetControlModel",
            "_view_count": null,
            "_view_module": "jupyter-leaflet",
            "_view_module_version": "^0.18",
            "_view_name": "LeafletWidgetControlView",
            "max_height": null,
            "max_width": null,
            "min_height": null,
            "min_width": null,
            "options": [
              "position",
              "transparent_bg"
            ],
            "position": "topright",
            "transparent_bg": false,
            "widget": "IPY_MODEL_c8ab008c3f2d4595a4a60c63613b871a"
          }
        },
        "aa4eaa43d21b4050bab25ae5a1905211": {
          "model_module": "jupyter-leaflet",
          "model_name": "LeafletMapStyleModel",
          "model_module_version": "^0.18",
          "state": {
            "_model_module": "jupyter-leaflet",
            "_model_module_version": "^0.18",
            "_model_name": "LeafletMapStyleModel",
            "_view_count": null,
            "_view_module": "@jupyter-widgets/base",
            "_view_module_version": "1.2.0",
            "_view_name": "StyleView",
            "cursor": "grab"
          }
        },
        "4404d19cf43c4c97a79817baf615a7d3": {
          "model_module": "jupyter-leaflet",
          "model_name": "LeafletMapStyleModel",
          "model_module_version": "^0.18",
          "state": {
            "_model_module": "jupyter-leaflet",
            "_model_module_version": "^0.18",
            "_model_name": "LeafletMapStyleModel",
            "_view_count": null,
            "_view_module": "@jupyter-widgets/base",
            "_view_module_version": "1.2.0",
            "_view_name": "StyleView",
            "cursor": "move"
          }
        },
        "855cf12c625547488182cda4c69913bc": {
          "model_module": "jupyter-leaflet",
          "model_name": "LeafletTileLayerModel",
          "model_module_version": "^0.18",
          "state": {
            "_model_module": "jupyter-leaflet",
            "_model_module_version": "^0.18",
            "_model_name": "LeafletTileLayerModel",
            "_view_count": null,
            "_view_module": "jupyter-leaflet",
            "_view_module_version": "^0.18",
            "_view_name": "LeafletTileLayerView",
            "attribution": "&copy; <a href=\"https://www.openstreetmap.org/copyright\">OpenStreetMap</a> contributors",
            "base": true,
            "bottom": true,
            "bounds": null,
            "detect_retina": false,
            "loading": false,
            "max_native_zoom": null,
            "max_zoom": 19,
            "min_native_zoom": null,
            "min_zoom": 1,
            "name": "OpenStreetMap.Mapnik",
            "no_wrap": false,
            "opacity": 1,
            "options": [
              "attribution",
              "bounds",
              "detect_retina",
              "max_native_zoom",
              "max_zoom",
              "min_native_zoom",
              "min_zoom",
              "no_wrap",
              "tile_size",
              "tms",
              "zoom_offset"
            ],
            "pane": "",
            "popup": null,
            "popup_max_height": null,
            "popup_max_width": 300,
            "popup_min_width": 50,
            "show_loading": false,
            "subitems": [],
            "tile_size": 256,
            "tms": false,
            "url": "https://tile.openstreetmap.org/{z}/{x}/{y}.png",
            "visible": true,
            "zoom_offset": 0
          }
        },
        "19b8b9e071cb4d48bc03af3e9987382e": {
          "model_module": "jupyter-leaflet",
          "model_name": "LeafletTileLayerModel",
          "model_module_version": "^0.18",
          "state": {
            "_model_module": "jupyter-leaflet",
            "_model_module_version": "^0.18",
            "_model_name": "LeafletTileLayerModel",
            "_view_count": null,
            "_view_module": "jupyter-leaflet",
            "_view_module_version": "^0.18",
            "_view_name": "LeafletTileLayerView",
            "attribution": "Esri",
            "base": false,
            "bottom": true,
            "bounds": null,
            "detect_retina": false,
            "loading": false,
            "max_native_zoom": null,
            "max_zoom": 24,
            "min_native_zoom": null,
            "min_zoom": 0,
            "name": "Esri.WorldImagery",
            "no_wrap": false,
            "opacity": 1,
            "options": [
              "attribution",
              "bounds",
              "detect_retina",
              "max_native_zoom",
              "max_zoom",
              "min_native_zoom",
              "min_zoom",
              "no_wrap",
              "tile_size",
              "tms",
              "zoom_offset"
            ],
            "pane": "",
            "popup": null,
            "popup_max_height": null,
            "popup_max_width": 300,
            "popup_min_width": 50,
            "show_loading": false,
            "subitems": [],
            "tile_size": 256,
            "tms": false,
            "url": "https://server.arcgisonline.com/ArcGIS/rest/services/World_Imagery/MapServer/tile/{z}/{y}/{x}",
            "visible": true,
            "zoom_offset": 0
          }
        },
        "f6fba10df1294afdbac6bcd7acb2537a": {
          "model_module": "jupyter-leaflet",
          "model_name": "LeafletTileLayerModel",
          "model_module_version": "^0.18",
          "state": {
            "_model_module": "jupyter-leaflet",
            "_model_module_version": "^0.18",
            "_model_name": "LeafletTileLayerModel",
            "_view_count": null,
            "_view_module": "jupyter-leaflet",
            "_view_module_version": "^0.18",
            "_view_name": "LeafletTileLayerView",
            "attribution": "Google Earth Engine",
            "base": false,
            "bottom": true,
            "bounds": null,
            "detect_retina": false,
            "loading": false,
            "max_native_zoom": null,
            "max_zoom": 24,
            "min_native_zoom": null,
            "min_zoom": 0,
            "name": "Trait",
            "no_wrap": false,
            "opacity": 1,
            "options": [
              "attribution",
              "bounds",
              "detect_retina",
              "max_native_zoom",
              "max_zoom",
              "min_native_zoom",
              "min_zoom",
              "no_wrap",
              "tile_size",
              "tms",
              "zoom_offset"
            ],
            "pane": "",
            "popup": null,
            "popup_max_height": null,
            "popup_max_width": 300,
            "popup_min_width": 50,
            "show_loading": false,
            "subitems": [],
            "tile_size": 256,
            "tms": false,
            "url": "https://earthengine.googleapis.com/v1/projects/ee-ngabinh1987/maps/4404bbcc64813e4642ffc576715d5e6e-dd74c728d171983e966d4c7210557532/tiles/{z}/{x}/{y}",
            "visible": true,
            "zoom_offset": 0
          }
        },
        "e030b41d7df0457c9253200dd7777fe0": {
          "model_module": "@jupyter-widgets/base",
          "model_name": "LayoutModel",
          "model_module_version": "1.2.0",
          "state": {
            "_model_module": "@jupyter-widgets/base",
            "_model_module_version": "1.2.0",
            "_model_name": "LayoutModel",
            "_view_count": null,
            "_view_module": "@jupyter-widgets/base",
            "_view_module_version": "1.2.0",
            "_view_name": "LayoutView",
            "align_content": null,
            "align_items": null,
            "align_self": null,
            "border": null,
            "bottom": null,
            "display": null,
            "flex": null,
            "flex_flow": null,
            "grid_area": null,
            "grid_auto_columns": null,
            "grid_auto_flow": null,
            "grid_auto_rows": null,
            "grid_column": null,
            "grid_gap": null,
            "grid_row": null,
            "grid_template_areas": null,
            "grid_template_columns": null,
            "grid_template_rows": null,
            "height": "600px",
            "justify_content": null,
            "justify_items": null,
            "left": null,
            "margin": null,
            "max_height": null,
            "max_width": null,
            "min_height": null,
            "min_width": null,
            "object_fit": null,
            "object_position": null,
            "order": null,
            "overflow": null,
            "overflow_x": null,
            "overflow_y": null,
            "padding": null,
            "right": null,
            "top": null,
            "visibility": null,
            "width": null
          }
        },
        "08997404bf59487fb76407e2e7fc9983": {
          "model_module": "jupyter-leaflet",
          "model_name": "LeafletMapStyleModel",
          "model_module_version": "^0.18",
          "state": {
            "_model_module": "jupyter-leaflet",
            "_model_module_version": "^0.18",
            "_model_name": "LeafletMapStyleModel",
            "_view_count": null,
            "_view_module": "@jupyter-widgets/base",
            "_view_module_version": "1.2.0",
            "_view_name": "StyleView",
            "cursor": "grab"
          }
        },
        "e7a0c9a7d79646a48c261dbc0f294d74": {
          "model_module": "@jupyter-widgets/controls",
          "model_name": "HBoxModel",
          "model_module_version": "1.5.0",
          "state": {
            "_dom_classes": [
              "geemap-colab"
            ],
            "_model_module": "@jupyter-widgets/controls",
            "_model_module_version": "1.5.0",
            "_model_name": "HBoxModel",
            "_view_count": null,
            "_view_module": "@jupyter-widgets/controls",
            "_view_module_version": "1.5.0",
            "_view_name": "HBoxView",
            "box_style": "",
            "children": [
              "IPY_MODEL_8937a511bd5840cb923c6045127f4349"
            ],
            "layout": "IPY_MODEL_71069cbecde841de9acfd8e80b29638a"
          }
        },
        "063e303357f54ded92912c9c7313017d": {
          "model_module": "@jupyter-widgets/controls",
          "model_name": "VBoxModel",
          "model_module_version": "1.5.0",
          "state": {
            "_dom_classes": [
              "geemap-colab"
            ],
            "_model_module": "@jupyter-widgets/controls",
            "_model_module_version": "1.5.0",
            "_model_name": "VBoxModel",
            "_view_count": null,
            "_view_module": "@jupyter-widgets/controls",
            "_view_module_version": "1.5.0",
            "_view_name": "VBoxView",
            "box_style": "",
            "children": [
              "IPY_MODEL_77a432b0f30f4daeb82713afd91b140a"
            ],
            "layout": "IPY_MODEL_1a822e96b4734723af4d3c9a7c348863"
          }
        },
        "c8ab008c3f2d4595a4a60c63613b871a": {
          "model_module": "@jupyter-widgets/output",
          "model_name": "OutputModel",
          "model_module_version": "1.0.0",
          "state": {
            "_dom_classes": [
              "geemap-colab"
            ],
            "_model_module": "@jupyter-widgets/output",
            "_model_module_version": "1.0.0",
            "_model_name": "OutputModel",
            "_view_count": null,
            "_view_module": "@jupyter-widgets/output",
            "_view_module_version": "1.0.0",
            "_view_name": "OutputView",
            "layout": "IPY_MODEL_4a145a6fc918417fa4c42a03b5beff7a",
            "msg_id": "",
            "outputs": [
              {
                "output_type": "display_data",
                "data": {
                  "text/plain": "<Figure size 300x30 with 1 Axes>",
                  "image/png": "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\n"
                },
                "metadata": {}
              }
            ]
          }
        },
        "8937a511bd5840cb923c6045127f4349": {
          "model_module": "@jupyter-widgets/controls",
          "model_name": "ToggleButtonModel",
          "model_module_version": "1.5.0",
          "state": {
            "_dom_classes": [],
            "_model_module": "@jupyter-widgets/controls",
            "_model_module_version": "1.5.0",
            "_model_name": "ToggleButtonModel",
            "_view_count": null,
            "_view_module": "@jupyter-widgets/controls",
            "_view_module_version": "1.5.0",
            "_view_name": "ToggleButtonView",
            "button_style": "",
            "description": "",
            "description_tooltip": null,
            "disabled": false,
            "icon": "globe",
            "layout": "IPY_MODEL_058d353ae4f44088badf124716b1a909",
            "style": "IPY_MODEL_0660d6ed1d3f4b67ac47537156ce424f",
            "tooltip": "Search location/data",
            "value": false
          }
        },
        "71069cbecde841de9acfd8e80b29638a": {
          "model_module": "@jupyter-widgets/base",
          "model_name": "LayoutModel",
          "model_module_version": "1.2.0",
          "state": {
            "_model_module": "@jupyter-widgets/base",
            "_model_module_version": "1.2.0",
            "_model_name": "LayoutModel",
            "_view_count": null,
            "_view_module": "@jupyter-widgets/base",
            "_view_module_version": "1.2.0",
            "_view_name": "LayoutView",
            "align_content": null,
            "align_items": null,
            "align_self": null,
            "border": null,
            "bottom": null,
            "display": null,
            "flex": null,
            "flex_flow": null,
            "grid_area": null,
            "grid_auto_columns": null,
            "grid_auto_flow": null,
            "grid_auto_rows": null,
            "grid_column": null,
            "grid_gap": null,
            "grid_row": null,
            "grid_template_areas": null,
            "grid_template_columns": null,
            "grid_template_rows": null,
            "height": null,
            "justify_content": null,
            "justify_items": null,
            "left": null,
            "margin": null,
            "max_height": null,
            "max_width": null,
            "min_height": null,
            "min_width": null,
            "object_fit": null,
            "object_position": null,
            "order": null,
            "overflow": null,
            "overflow_x": null,
            "overflow_y": null,
            "padding": null,
            "right": null,
            "top": null,
            "visibility": null,
            "width": null
          }
        },
        "77a432b0f30f4daeb82713afd91b140a": {
          "model_module": "@jupyter-widgets/controls",
          "model_name": "ToggleButtonModel",
          "model_module_version": "1.5.0",
          "state": {
            "_dom_classes": [],
            "_model_module": "@jupyter-widgets/controls",
            "_model_module_version": "1.5.0",
            "_model_name": "ToggleButtonModel",
            "_view_count": null,
            "_view_module": "@jupyter-widgets/controls",
            "_view_module_version": "1.5.0",
            "_view_name": "ToggleButtonView",
            "button_style": "",
            "description": "",
            "description_tooltip": null,
            "disabled": false,
            "icon": "wrench",
            "layout": "IPY_MODEL_be5c029acb49425394f8df106562bed9",
            "style": "IPY_MODEL_0b00162a956f4c0283879530d9b5e0d6",
            "tooltip": "Toolbar",
            "value": false
          }
        },
        "1a822e96b4734723af4d3c9a7c348863": {
          "model_module": "@jupyter-widgets/base",
          "model_name": "LayoutModel",
          "model_module_version": "1.2.0",
          "state": {
            "_model_module": "@jupyter-widgets/base",
            "_model_module_version": "1.2.0",
            "_model_name": "LayoutModel",
            "_view_count": null,
            "_view_module": "@jupyter-widgets/base",
            "_view_module_version": "1.2.0",
            "_view_name": "LayoutView",
            "align_content": null,
            "align_items": null,
            "align_self": null,
            "border": null,
            "bottom": null,
            "display": null,
            "flex": null,
            "flex_flow": null,
            "grid_area": null,
            "grid_auto_columns": null,
            "grid_auto_flow": null,
            "grid_auto_rows": null,
            "grid_column": null,
            "grid_gap": null,
            "grid_row": null,
            "grid_template_areas": null,
            "grid_template_columns": null,
            "grid_template_rows": null,
            "height": null,
            "justify_content": null,
            "justify_items": null,
            "left": null,
            "margin": null,
            "max_height": null,
            "max_width": null,
            "min_height": null,
            "min_width": null,
            "object_fit": null,
            "object_position": null,
            "order": null,
            "overflow": null,
            "overflow_x": null,
            "overflow_y": null,
            "padding": null,
            "right": null,
            "top": null,
            "visibility": null,
            "width": null
          }
        },
        "4a145a6fc918417fa4c42a03b5beff7a": {
          "model_module": "@jupyter-widgets/base",
          "model_name": "LayoutModel",
          "model_module_version": "1.2.0",
          "state": {
            "_model_module": "@jupyter-widgets/base",
            "_model_module_version": "1.2.0",
            "_model_name": "LayoutModel",
            "_view_count": null,
            "_view_module": "@jupyter-widgets/base",
            "_view_module_version": "1.2.0",
            "_view_name": "LayoutView",
            "align_content": null,
            "align_items": null,
            "align_self": null,
            "border": null,
            "bottom": null,
            "display": null,
            "flex": null,
            "flex_flow": null,
            "grid_area": null,
            "grid_auto_columns": null,
            "grid_auto_flow": null,
            "grid_auto_rows": null,
            "grid_column": null,
            "grid_gap": null,
            "grid_row": null,
            "grid_template_areas": null,
            "grid_template_columns": null,
            "grid_template_rows": null,
            "height": null,
            "justify_content": null,
            "justify_items": null,
            "left": null,
            "margin": null,
            "max_height": null,
            "max_width": null,
            "min_height": null,
            "min_width": null,
            "object_fit": null,
            "object_position": null,
            "order": null,
            "overflow": null,
            "overflow_x": null,
            "overflow_y": null,
            "padding": null,
            "right": null,
            "top": null,
            "visibility": null,
            "width": "270px"
          }
        },
        "058d353ae4f44088badf124716b1a909": {
          "model_module": "@jupyter-widgets/base",
          "model_name": "LayoutModel",
          "model_module_version": "1.2.0",
          "state": {
            "_model_module": "@jupyter-widgets/base",
            "_model_module_version": "1.2.0",
            "_model_name": "LayoutModel",
            "_view_count": null,
            "_view_module": "@jupyter-widgets/base",
            "_view_module_version": "1.2.0",
            "_view_name": "LayoutView",
            "align_content": null,
            "align_items": null,
            "align_self": null,
            "border": null,
            "bottom": null,
            "display": null,
            "flex": null,
            "flex_flow": null,
            "grid_area": null,
            "grid_auto_columns": null,
            "grid_auto_flow": null,
            "grid_auto_rows": null,
            "grid_column": null,
            "grid_gap": null,
            "grid_row": null,
            "grid_template_areas": null,
            "grid_template_columns": null,
            "grid_template_rows": null,
            "height": "28px",
            "justify_content": null,
            "justify_items": null,
            "left": null,
            "margin": null,
            "max_height": null,
            "max_width": null,
            "min_height": null,
            "min_width": null,
            "object_fit": null,
            "object_position": null,
            "order": null,
            "overflow": null,
            "overflow_x": null,
            "overflow_y": null,
            "padding": "0px 0px 0px 4px",
            "right": null,
            "top": null,
            "visibility": null,
            "width": "28px"
          }
        },
        "0660d6ed1d3f4b67ac47537156ce424f": {
          "model_module": "@jupyter-widgets/controls",
          "model_name": "DescriptionStyleModel",
          "model_module_version": "1.5.0",
          "state": {
            "_model_module": "@jupyter-widgets/controls",
            "_model_module_version": "1.5.0",
            "_model_name": "DescriptionStyleModel",
            "_view_count": null,
            "_view_module": "@jupyter-widgets/base",
            "_view_module_version": "1.2.0",
            "_view_name": "StyleView",
            "description_width": ""
          }
        },
        "be5c029acb49425394f8df106562bed9": {
          "model_module": "@jupyter-widgets/base",
          "model_name": "LayoutModel",
          "model_module_version": "1.2.0",
          "state": {
            "_model_module": "@jupyter-widgets/base",
            "_model_module_version": "1.2.0",
            "_model_name": "LayoutModel",
            "_view_count": null,
            "_view_module": "@jupyter-widgets/base",
            "_view_module_version": "1.2.0",
            "_view_name": "LayoutView",
            "align_content": null,
            "align_items": null,
            "align_self": null,
            "border": null,
            "bottom": null,
            "display": null,
            "flex": null,
            "flex_flow": null,
            "grid_area": null,
            "grid_auto_columns": null,
            "grid_auto_flow": null,
            "grid_auto_rows": null,
            "grid_column": null,
            "grid_gap": null,
            "grid_row": null,
            "grid_template_areas": null,
            "grid_template_columns": null,
            "grid_template_rows": null,
            "height": "28px",
            "justify_content": null,
            "justify_items": null,
            "left": null,
            "margin": null,
            "max_height": null,
            "max_width": null,
            "min_height": null,
            "min_width": null,
            "object_fit": null,
            "object_position": null,
            "order": null,
            "overflow": null,
            "overflow_x": null,
            "overflow_y": null,
            "padding": "0px 0px 0px 4px",
            "right": null,
            "top": null,
            "visibility": null,
            "width": "28px"
          }
        },
        "0b00162a956f4c0283879530d9b5e0d6": {
          "model_module": "@jupyter-widgets/controls",
          "model_name": "DescriptionStyleModel",
          "model_module_version": "1.5.0",
          "state": {
            "_model_module": "@jupyter-widgets/controls",
            "_model_module_version": "1.5.0",
            "_model_name": "DescriptionStyleModel",
            "_view_count": null,
            "_view_module": "@jupyter-widgets/base",
            "_view_module_version": "1.2.0",
            "_view_name": "StyleView",
            "description_width": ""
          }
        },
        "109d675f50ee4951991cd10d74399326": {
          "model_module": "jupyter-leaflet",
          "model_name": "LeafletMapModel",
          "model_module_version": "^0.18",
          "state": {
            "_dom_classes": [],
            "_model_module": "jupyter-leaflet",
            "_model_module_version": "^0.18",
            "_model_name": "LeafletMapModel",
            "_view_count": null,
            "_view_module": "jupyter-leaflet",
            "_view_module_version": "^0.18",
            "_view_name": "LeafletMapView",
            "bottom": 249814,
            "bounce_at_zoom_limits": true,
            "box_zoom": true,
            "center": [
              8.639246468107354,
              104.86401340901276
            ],
            "close_popup_on_click": true,
            "controls": [
              "IPY_MODEL_064339a00c7948ce96683c9afc32c279",
              "IPY_MODEL_54ecc12ac7fd4780bf404c482daa535f",
              "IPY_MODEL_ea3450ea74c140a9ad108bb2c8d7e0d7",
              "IPY_MODEL_d3d21c3e20c64658b1c011ba1beefa73",
              "IPY_MODEL_1f9eb3ca1edd40e29f272d24d08c4341",
              "IPY_MODEL_2d135c7355864f02bd4f658fcd801bcd",
              "IPY_MODEL_0101bc2abf674e9cacf2da7e61dc67b1",
              "IPY_MODEL_72b2c5a2a7914e438ec88a0c6fd9067b",
              "IPY_MODEL_a89261b6e641402890a6b57cddafcf56"
            ],
            "crs": {
              "name": "EPSG3857",
              "custom": false
            },
            "default_style": "IPY_MODEL_b3787b72087a4f82ab4e47a2b86c58df",
            "double_click_zoom": true,
            "dragging": true,
            "dragging_style": "IPY_MODEL_c407fe32ba174be1af7a8ed253243805",
            "east": 105.29983520507814,
            "fullscreen": false,
            "inertia": true,
            "inertia_deceleration": 3000,
            "inertia_max_speed": 1500,
            "interpolation": "bilinear",
            "keyboard": true,
            "keyboard_pan_offset": 80,
            "keyboard_zoom_offset": 1,
            "layers": [
              "IPY_MODEL_7b51702eb5f2439590bc939d5367c830",
              "IPY_MODEL_2ffabddcf5004b688cc7fc7675575b87",
              "IPY_MODEL_e41761f716084436848a71bcce852dca"
            ],
            "layout": "IPY_MODEL_9f9612c5f941485cb776a96c7b302a8b",
            "left": 414228,
            "max_zoom": 24,
            "min_zoom": null,
            "modisdate": "2024-06-15",
            "north": 8.843008090380774,
            "options": [
              "bounce_at_zoom_limits",
              "box_zoom",
              "center",
              "close_popup_on_click",
              "double_click_zoom",
              "dragging",
              "fullscreen",
              "inertia",
              "inertia_deceleration",
              "inertia_max_speed",
              "interpolation",
              "keyboard",
              "keyboard_pan_offset",
              "keyboard_zoom_offset",
              "max_zoom",
              "min_zoom",
              "prefer_canvas",
              "scroll_wheel_zoom",
              "tap",
              "tap_tolerance",
              "touch_zoom",
              "world_copy_jump",
              "zoom",
              "zoom_animation_threshold",
              "zoom_delta",
              "zoom_snap"
            ],
            "panes": {},
            "prefer_canvas": false,
            "right": 415498,
            "scroll_wheel_zoom": true,
            "south": 8.435696320349095,
            "style": "IPY_MODEL_b43d6eb23fc3455aa2b30b437ba7c036",
            "tap": true,
            "tap_tolerance": 15,
            "top": 249214,
            "touch_zoom": true,
            "west": 104.42779541015626,
            "window_url": "https://b8ui6rxmnyh-496ff2e9c6d22116-0-colab.googleusercontent.com/outputframe.html?vrz=colab_20240613-060113_RC00_642933896",
            "world_copy_jump": false,
            "zoom": 11,
            "zoom_animation_threshold": 4,
            "zoom_delta": 1,
            "zoom_snap": 1
          }
        },
        "064339a00c7948ce96683c9afc32c279": {
          "model_module": "jupyter-leaflet",
          "model_name": "LeafletWidgetControlModel",
          "model_module_version": "^0.18",
          "state": {
            "_model_module": "jupyter-leaflet",
            "_model_module_version": "^0.18",
            "_model_name": "LeafletWidgetControlModel",
            "_view_count": null,
            "_view_module": "jupyter-leaflet",
            "_view_module_version": "^0.18",
            "_view_name": "LeafletWidgetControlView",
            "max_height": null,
            "max_width": null,
            "min_height": null,
            "min_width": null,
            "options": [
              "position",
              "transparent_bg"
            ],
            "position": "topleft",
            "transparent_bg": false,
            "widget": "IPY_MODEL_cbf9cd38283a4a6d9b86773b223de920"
          }
        },
        "54ecc12ac7fd4780bf404c482daa535f": {
          "model_module": "jupyter-leaflet",
          "model_name": "LeafletZoomControlModel",
          "model_module_version": "^0.18",
          "state": {
            "_model_module": "jupyter-leaflet",
            "_model_module_version": "^0.18",
            "_model_name": "LeafletZoomControlModel",
            "_view_count": null,
            "_view_module": "jupyter-leaflet",
            "_view_module_version": "^0.18",
            "_view_name": "LeafletZoomControlView",
            "options": [
              "position",
              "zoom_in_text",
              "zoom_in_title",
              "zoom_out_text",
              "zoom_out_title"
            ],
            "position": "topleft",
            "zoom_in_text": "+",
            "zoom_in_title": "Zoom in",
            "zoom_out_text": "-",
            "zoom_out_title": "Zoom out"
          }
        },
        "ea3450ea74c140a9ad108bb2c8d7e0d7": {
          "model_module": "jupyter-leaflet",
          "model_name": "LeafletFullScreenControlModel",
          "model_module_version": "^0.18",
          "state": {
            "_model_module": "jupyter-leaflet",
            "_model_module_version": "^0.18",
            "_model_name": "LeafletFullScreenControlModel",
            "_view_count": null,
            "_view_module": "jupyter-leaflet",
            "_view_module_version": "^0.18",
            "_view_name": "LeafletFullScreenControlView",
            "options": [
              "position"
            ],
            "position": "topleft"
          }
        },
        "d3d21c3e20c64658b1c011ba1beefa73": {
          "model_module": "jupyter-leaflet",
          "model_name": "LeafletDrawControlModel",
          "model_module_version": "^0.18",
          "state": {
            "_model_module": "jupyter-leaflet",
            "_model_module_version": "^0.18",
            "_model_name": "LeafletDrawControlModel",
            "_view_count": null,
            "_view_module": "jupyter-leaflet",
            "_view_module_version": "^0.18",
            "_view_name": "LeafletDrawControlView",
            "circle": {},
            "circlemarker": {},
            "data": [],
            "edit": true,
            "marker": {
              "shapeOptions": {
                "color": "#3388ff"
              }
            },
            "options": [
              "position"
            ],
            "polygon": {
              "shapeOptions": {}
            },
            "polyline": {
              "shapeOptions": {}
            },
            "position": "topleft",
            "rectangle": {
              "shapeOptions": {
                "color": "#3388ff"
              }
            },
            "remove": true
          }
        },
        "1f9eb3ca1edd40e29f272d24d08c4341": {
          "model_module": "jupyter-leaflet",
          "model_name": "LeafletScaleControlModel",
          "model_module_version": "^0.18",
          "state": {
            "_model_module": "jupyter-leaflet",
            "_model_module_version": "^0.18",
            "_model_name": "LeafletScaleControlModel",
            "_view_count": null,
            "_view_module": "jupyter-leaflet",
            "_view_module_version": "^0.18",
            "_view_name": "LeafletScaleControlView",
            "imperial": true,
            "max_width": 100,
            "metric": true,
            "options": [
              "imperial",
              "max_width",
              "metric",
              "position",
              "update_when_idle"
            ],
            "position": "bottomleft",
            "update_when_idle": false
          }
        },
        "2d135c7355864f02bd4f658fcd801bcd": {
          "model_module": "jupyter-leaflet",
          "model_name": "LeafletMeasureControlModel",
          "model_module_version": "^0.18",
          "state": {
            "_custom_units": {},
            "_model_module": "jupyter-leaflet",
            "_model_module_version": "^0.18",
            "_model_name": "LeafletMeasureControlModel",
            "_view_count": null,
            "_view_module": "jupyter-leaflet",
            "_view_module_version": "^0.18",
            "_view_name": "LeafletMeasureControlView",
            "active_color": "orange",
            "capture_z_index": 10000,
            "completed_color": "#C8F2BE",
            "options": [
              "active_color",
              "capture_z_index",
              "completed_color",
              "popup_options",
              "position",
              "primary_area_unit",
              "primary_length_unit",
              "secondary_area_unit",
              "secondary_length_unit"
            ],
            "popup_options": {
              "className": "leaflet-measure-resultpopup",
              "autoPanPadding": [
                10,
                10
              ]
            },
            "position": "bottomleft",
            "primary_area_unit": "acres",
            "primary_length_unit": "kilometers",
            "secondary_area_unit": null,
            "secondary_length_unit": null
          }
        },
        "0101bc2abf674e9cacf2da7e61dc67b1": {
          "model_module": "jupyter-leaflet",
          "model_name": "LeafletWidgetControlModel",
          "model_module_version": "^0.18",
          "state": {
            "_model_module": "jupyter-leaflet",
            "_model_module_version": "^0.18",
            "_model_name": "LeafletWidgetControlModel",
            "_view_count": null,
            "_view_module": "jupyter-leaflet",
            "_view_module_version": "^0.18",
            "_view_name": "LeafletWidgetControlView",
            "max_height": null,
            "max_width": null,
            "min_height": null,
            "min_width": null,
            "options": [
              "position",
              "transparent_bg"
            ],
            "position": "topright",
            "transparent_bg": false,
            "widget": "IPY_MODEL_21c2f1826e8e478394e0814468adc445"
          }
        },
        "72b2c5a2a7914e438ec88a0c6fd9067b": {
          "model_module": "jupyter-leaflet",
          "model_name": "LeafletAttributionControlModel",
          "model_module_version": "^0.18",
          "state": {
            "_model_module": "jupyter-leaflet",
            "_model_module_version": "^0.18",
            "_model_name": "LeafletAttributionControlModel",
            "_view_count": null,
            "_view_module": "jupyter-leaflet",
            "_view_module_version": "^0.18",
            "_view_name": "LeafletAttributionControlView",
            "options": [
              "position",
              "prefix"
            ],
            "position": "bottomright",
            "prefix": "ipyleaflet"
          }
        },
        "a89261b6e641402890a6b57cddafcf56": {
          "model_module": "jupyter-leaflet",
          "model_name": "LeafletWidgetControlModel",
          "model_module_version": "^0.18",
          "state": {
            "_model_module": "jupyter-leaflet",
            "_model_module_version": "^0.18",
            "_model_name": "LeafletWidgetControlModel",
            "_view_count": null,
            "_view_module": "jupyter-leaflet",
            "_view_module_version": "^0.18",
            "_view_name": "LeafletWidgetControlView",
            "max_height": null,
            "max_width": null,
            "min_height": null,
            "min_width": null,
            "options": [
              "position",
              "transparent_bg"
            ],
            "position": "topright",
            "transparent_bg": false,
            "widget": "IPY_MODEL_a11a17303fae4accac6a607754703b03"
          }
        },
        "b3787b72087a4f82ab4e47a2b86c58df": {
          "model_module": "jupyter-leaflet",
          "model_name": "LeafletMapStyleModel",
          "model_module_version": "^0.18",
          "state": {
            "_model_module": "jupyter-leaflet",
            "_model_module_version": "^0.18",
            "_model_name": "LeafletMapStyleModel",
            "_view_count": null,
            "_view_module": "@jupyter-widgets/base",
            "_view_module_version": "1.2.0",
            "_view_name": "StyleView",
            "cursor": "grab"
          }
        },
        "c407fe32ba174be1af7a8ed253243805": {
          "model_module": "jupyter-leaflet",
          "model_name": "LeafletMapStyleModel",
          "model_module_version": "^0.18",
          "state": {
            "_model_module": "jupyter-leaflet",
            "_model_module_version": "^0.18",
            "_model_name": "LeafletMapStyleModel",
            "_view_count": null,
            "_view_module": "@jupyter-widgets/base",
            "_view_module_version": "1.2.0",
            "_view_name": "StyleView",
            "cursor": "move"
          }
        },
        "7b51702eb5f2439590bc939d5367c830": {
          "model_module": "jupyter-leaflet",
          "model_name": "LeafletTileLayerModel",
          "model_module_version": "^0.18",
          "state": {
            "_model_module": "jupyter-leaflet",
            "_model_module_version": "^0.18",
            "_model_name": "LeafletTileLayerModel",
            "_view_count": null,
            "_view_module": "jupyter-leaflet",
            "_view_module_version": "^0.18",
            "_view_name": "LeafletTileLayerView",
            "attribution": "&copy; <a href=\"https://www.openstreetmap.org/copyright\">OpenStreetMap</a> contributors",
            "base": true,
            "bottom": true,
            "bounds": null,
            "detect_retina": false,
            "loading": false,
            "max_native_zoom": null,
            "max_zoom": 19,
            "min_native_zoom": null,
            "min_zoom": 1,
            "name": "OpenStreetMap.Mapnik",
            "no_wrap": false,
            "opacity": 1,
            "options": [
              "attribution",
              "bounds",
              "detect_retina",
              "max_native_zoom",
              "max_zoom",
              "min_native_zoom",
              "min_zoom",
              "no_wrap",
              "tile_size",
              "tms",
              "zoom_offset"
            ],
            "pane": "",
            "popup": null,
            "popup_max_height": null,
            "popup_max_width": 300,
            "popup_min_width": 50,
            "show_loading": false,
            "subitems": [],
            "tile_size": 256,
            "tms": false,
            "url": "https://tile.openstreetmap.org/{z}/{x}/{y}.png",
            "visible": true,
            "zoom_offset": 0
          }
        },
        "2ffabddcf5004b688cc7fc7675575b87": {
          "model_module": "jupyter-leaflet",
          "model_name": "LeafletTileLayerModel",
          "model_module_version": "^0.18",
          "state": {
            "_model_module": "jupyter-leaflet",
            "_model_module_version": "^0.18",
            "_model_name": "LeafletTileLayerModel",
            "_view_count": null,
            "_view_module": "jupyter-leaflet",
            "_view_module_version": "^0.18",
            "_view_name": "LeafletTileLayerView",
            "attribution": "Esri",
            "base": false,
            "bottom": true,
            "bounds": null,
            "detect_retina": false,
            "loading": false,
            "max_native_zoom": null,
            "max_zoom": 24,
            "min_native_zoom": null,
            "min_zoom": 0,
            "name": "Esri.WorldImagery",
            "no_wrap": false,
            "opacity": 1,
            "options": [
              "attribution",
              "bounds",
              "detect_retina",
              "max_native_zoom",
              "max_zoom",
              "min_native_zoom",
              "min_zoom",
              "no_wrap",
              "tile_size",
              "tms",
              "zoom_offset"
            ],
            "pane": "",
            "popup": null,
            "popup_max_height": null,
            "popup_max_width": 300,
            "popup_min_width": 50,
            "show_loading": false,
            "subitems": [],
            "tile_size": 256,
            "tms": false,
            "url": "https://server.arcgisonline.com/ArcGIS/rest/services/World_Imagery/MapServer/tile/{z}/{y}/{x}",
            "visible": true,
            "zoom_offset": 0
          }
        },
        "e41761f716084436848a71bcce852dca": {
          "model_module": "jupyter-leaflet",
          "model_name": "LeafletTileLayerModel",
          "model_module_version": "^0.18",
          "state": {
            "_model_module": "jupyter-leaflet",
            "_model_module_version": "^0.18",
            "_model_name": "LeafletTileLayerModel",
            "_view_count": null,
            "_view_module": "jupyter-leaflet",
            "_view_module_version": "^0.18",
            "_view_name": "LeafletTileLayerView",
            "attribution": "Google Earth Engine",
            "base": false,
            "bottom": true,
            "bounds": null,
            "detect_retina": false,
            "loading": false,
            "max_native_zoom": null,
            "max_zoom": 24,
            "min_native_zoom": null,
            "min_zoom": 0,
            "name": "uncertainty",
            "no_wrap": false,
            "opacity": 1,
            "options": [
              "attribution",
              "bounds",
              "detect_retina",
              "max_native_zoom",
              "max_zoom",
              "min_native_zoom",
              "min_zoom",
              "no_wrap",
              "tile_size",
              "tms",
              "zoom_offset"
            ],
            "pane": "",
            "popup": null,
            "popup_max_height": null,
            "popup_max_width": 300,
            "popup_min_width": 50,
            "show_loading": false,
            "subitems": [],
            "tile_size": 256,
            "tms": false,
            "url": "https://earthengine.googleapis.com/v1/projects/ee-ngabinh1987/maps/a8cf934206ba2ccecffed0412156be34-58771cefbfbb6f95179c7319e2691fe6/tiles/{z}/{x}/{y}",
            "visible": true,
            "zoom_offset": 0
          }
        },
        "9f9612c5f941485cb776a96c7b302a8b": {
          "model_module": "@jupyter-widgets/base",
          "model_name": "LayoutModel",
          "model_module_version": "1.2.0",
          "state": {
            "_model_module": "@jupyter-widgets/base",
            "_model_module_version": "1.2.0",
            "_model_name": "LayoutModel",
            "_view_count": null,
            "_view_module": "@jupyter-widgets/base",
            "_view_module_version": "1.2.0",
            "_view_name": "LayoutView",
            "align_content": null,
            "align_items": null,
            "align_self": null,
            "border": null,
            "bottom": null,
            "display": null,
            "flex": null,
            "flex_flow": null,
            "grid_area": null,
            "grid_auto_columns": null,
            "grid_auto_flow": null,
            "grid_auto_rows": null,
            "grid_column": null,
            "grid_gap": null,
            "grid_row": null,
            "grid_template_areas": null,
            "grid_template_columns": null,
            "grid_template_rows": null,
            "height": "600px",
            "justify_content": null,
            "justify_items": null,
            "left": null,
            "margin": null,
            "max_height": null,
            "max_width": null,
            "min_height": null,
            "min_width": null,
            "object_fit": null,
            "object_position": null,
            "order": null,
            "overflow": null,
            "overflow_x": null,
            "overflow_y": null,
            "padding": null,
            "right": null,
            "top": null,
            "visibility": null,
            "width": null
          }
        },
        "b43d6eb23fc3455aa2b30b437ba7c036": {
          "model_module": "jupyter-leaflet",
          "model_name": "LeafletMapStyleModel",
          "model_module_version": "^0.18",
          "state": {
            "_model_module": "jupyter-leaflet",
            "_model_module_version": "^0.18",
            "_model_name": "LeafletMapStyleModel",
            "_view_count": null,
            "_view_module": "@jupyter-widgets/base",
            "_view_module_version": "1.2.0",
            "_view_name": "StyleView",
            "cursor": "grab"
          }
        },
        "cbf9cd38283a4a6d9b86773b223de920": {
          "model_module": "@jupyter-widgets/controls",
          "model_name": "HBoxModel",
          "model_module_version": "1.5.0",
          "state": {
            "_dom_classes": [
              "geemap-colab"
            ],
            "_model_module": "@jupyter-widgets/controls",
            "_model_module_version": "1.5.0",
            "_model_name": "HBoxModel",
            "_view_count": null,
            "_view_module": "@jupyter-widgets/controls",
            "_view_module_version": "1.5.0",
            "_view_name": "HBoxView",
            "box_style": "",
            "children": [
              "IPY_MODEL_710c2b98bcb14e6dbf8e332617709fb8"
            ],
            "layout": "IPY_MODEL_eee5439ee50a411c85b12e18648f8e60"
          }
        },
        "21c2f1826e8e478394e0814468adc445": {
          "model_module": "@jupyter-widgets/controls",
          "model_name": "VBoxModel",
          "model_module_version": "1.5.0",
          "state": {
            "_dom_classes": [
              "geemap-colab"
            ],
            "_model_module": "@jupyter-widgets/controls",
            "_model_module_version": "1.5.0",
            "_model_name": "VBoxModel",
            "_view_count": null,
            "_view_module": "@jupyter-widgets/controls",
            "_view_module_version": "1.5.0",
            "_view_name": "VBoxView",
            "box_style": "",
            "children": [
              "IPY_MODEL_5710af6218d24b33ac3a8e181ef89792"
            ],
            "layout": "IPY_MODEL_8938e9be786d46f0ab072169c0ba9271"
          }
        },
        "a11a17303fae4accac6a607754703b03": {
          "model_module": "@jupyter-widgets/output",
          "model_name": "OutputModel",
          "model_module_version": "1.0.0",
          "state": {
            "_dom_classes": [
              "geemap-colab"
            ],
            "_model_module": "@jupyter-widgets/output",
            "_model_module_version": "1.0.0",
            "_model_name": "OutputModel",
            "_view_count": null,
            "_view_module": "@jupyter-widgets/output",
            "_view_module_version": "1.0.0",
            "_view_name": "OutputView",
            "layout": "IPY_MODEL_cd307d814bb3448486d9d851c7d18761",
            "msg_id": "",
            "outputs": [
              {
                "output_type": "display_data",
                "data": {
                  "text/plain": "<Figure size 300x30 with 1 Axes>",
                  "image/png": "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\n"
                },
                "metadata": {}
              }
            ]
          }
        },
        "710c2b98bcb14e6dbf8e332617709fb8": {
          "model_module": "@jupyter-widgets/controls",
          "model_name": "ToggleButtonModel",
          "model_module_version": "1.5.0",
          "state": {
            "_dom_classes": [],
            "_model_module": "@jupyter-widgets/controls",
            "_model_module_version": "1.5.0",
            "_model_name": "ToggleButtonModel",
            "_view_count": null,
            "_view_module": "@jupyter-widgets/controls",
            "_view_module_version": "1.5.0",
            "_view_name": "ToggleButtonView",
            "button_style": "",
            "description": "",
            "description_tooltip": null,
            "disabled": false,
            "icon": "globe",
            "layout": "IPY_MODEL_ebe0bb35da8c4b3e926eca5af431c364",
            "style": "IPY_MODEL_1e945c070a954d32a0b2e0ea25e1f977",
            "tooltip": "Search location/data",
            "value": false
          }
        },
        "eee5439ee50a411c85b12e18648f8e60": {
          "model_module": "@jupyter-widgets/base",
          "model_name": "LayoutModel",
          "model_module_version": "1.2.0",
          "state": {
            "_model_module": "@jupyter-widgets/base",
            "_model_module_version": "1.2.0",
            "_model_name": "LayoutModel",
            "_view_count": null,
            "_view_module": "@jupyter-widgets/base",
            "_view_module_version": "1.2.0",
            "_view_name": "LayoutView",
            "align_content": null,
            "align_items": null,
            "align_self": null,
            "border": null,
            "bottom": null,
            "display": null,
            "flex": null,
            "flex_flow": null,
            "grid_area": null,
            "grid_auto_columns": null,
            "grid_auto_flow": null,
            "grid_auto_rows": null,
            "grid_column": null,
            "grid_gap": null,
            "grid_row": null,
            "grid_template_areas": null,
            "grid_template_columns": null,
            "grid_template_rows": null,
            "height": null,
            "justify_content": null,
            "justify_items": null,
            "left": null,
            "margin": null,
            "max_height": null,
            "max_width": null,
            "min_height": null,
            "min_width": null,
            "object_fit": null,
            "object_position": null,
            "order": null,
            "overflow": null,
            "overflow_x": null,
            "overflow_y": null,
            "padding": null,
            "right": null,
            "top": null,
            "visibility": null,
            "width": null
          }
        },
        "5710af6218d24b33ac3a8e181ef89792": {
          "model_module": "@jupyter-widgets/controls",
          "model_name": "ToggleButtonModel",
          "model_module_version": "1.5.0",
          "state": {
            "_dom_classes": [],
            "_model_module": "@jupyter-widgets/controls",
            "_model_module_version": "1.5.0",
            "_model_name": "ToggleButtonModel",
            "_view_count": null,
            "_view_module": "@jupyter-widgets/controls",
            "_view_module_version": "1.5.0",
            "_view_name": "ToggleButtonView",
            "button_style": "",
            "description": "",
            "description_tooltip": null,
            "disabled": false,
            "icon": "wrench",
            "layout": "IPY_MODEL_c59e7b5c850e4bab8a03b47ac466a84c",
            "style": "IPY_MODEL_2abbd3ab7de44c5dba5fa52baf790451",
            "tooltip": "Toolbar",
            "value": false
          }
        },
        "8938e9be786d46f0ab072169c0ba9271": {
          "model_module": "@jupyter-widgets/base",
          "model_name": "LayoutModel",
          "model_module_version": "1.2.0",
          "state": {
            "_model_module": "@jupyter-widgets/base",
            "_model_module_version": "1.2.0",
            "_model_name": "LayoutModel",
            "_view_count": null,
            "_view_module": "@jupyter-widgets/base",
            "_view_module_version": "1.2.0",
            "_view_name": "LayoutView",
            "align_content": null,
            "align_items": null,
            "align_self": null,
            "border": null,
            "bottom": null,
            "display": null,
            "flex": null,
            "flex_flow": null,
            "grid_area": null,
            "grid_auto_columns": null,
            "grid_auto_flow": null,
            "grid_auto_rows": null,
            "grid_column": null,
            "grid_gap": null,
            "grid_row": null,
            "grid_template_areas": null,
            "grid_template_columns": null,
            "grid_template_rows": null,
            "height": null,
            "justify_content": null,
            "justify_items": null,
            "left": null,
            "margin": null,
            "max_height": null,
            "max_width": null,
            "min_height": null,
            "min_width": null,
            "object_fit": null,
            "object_position": null,
            "order": null,
            "overflow": null,
            "overflow_x": null,
            "overflow_y": null,
            "padding": null,
            "right": null,
            "top": null,
            "visibility": null,
            "width": null
          }
        },
        "cd307d814bb3448486d9d851c7d18761": {
          "model_module": "@jupyter-widgets/base",
          "model_name": "LayoutModel",
          "model_module_version": "1.2.0",
          "state": {
            "_model_module": "@jupyter-widgets/base",
            "_model_module_version": "1.2.0",
            "_model_name": "LayoutModel",
            "_view_count": null,
            "_view_module": "@jupyter-widgets/base",
            "_view_module_version": "1.2.0",
            "_view_name": "LayoutView",
            "align_content": null,
            "align_items": null,
            "align_self": null,
            "border": null,
            "bottom": null,
            "display": null,
            "flex": null,
            "flex_flow": null,
            "grid_area": null,
            "grid_auto_columns": null,
            "grid_auto_flow": null,
            "grid_auto_rows": null,
            "grid_column": null,
            "grid_gap": null,
            "grid_row": null,
            "grid_template_areas": null,
            "grid_template_columns": null,
            "grid_template_rows": null,
            "height": null,
            "justify_content": null,
            "justify_items": null,
            "left": null,
            "margin": null,
            "max_height": null,
            "max_width": null,
            "min_height": null,
            "min_width": null,
            "object_fit": null,
            "object_position": null,
            "order": null,
            "overflow": null,
            "overflow_x": null,
            "overflow_y": null,
            "padding": null,
            "right": null,
            "top": null,
            "visibility": null,
            "width": "270px"
          }
        },
        "ebe0bb35da8c4b3e926eca5af431c364": {
          "model_module": "@jupyter-widgets/base",
          "model_name": "LayoutModel",
          "model_module_version": "1.2.0",
          "state": {
            "_model_module": "@jupyter-widgets/base",
            "_model_module_version": "1.2.0",
            "_model_name": "LayoutModel",
            "_view_count": null,
            "_view_module": "@jupyter-widgets/base",
            "_view_module_version": "1.2.0",
            "_view_name": "LayoutView",
            "align_content": null,
            "align_items": null,
            "align_self": null,
            "border": null,
            "bottom": null,
            "display": null,
            "flex": null,
            "flex_flow": null,
            "grid_area": null,
            "grid_auto_columns": null,
            "grid_auto_flow": null,
            "grid_auto_rows": null,
            "grid_column": null,
            "grid_gap": null,
            "grid_row": null,
            "grid_template_areas": null,
            "grid_template_columns": null,
            "grid_template_rows": null,
            "height": "28px",
            "justify_content": null,
            "justify_items": null,
            "left": null,
            "margin": null,
            "max_height": null,
            "max_width": null,
            "min_height": null,
            "min_width": null,
            "object_fit": null,
            "object_position": null,
            "order": null,
            "overflow": null,
            "overflow_x": null,
            "overflow_y": null,
            "padding": "0px 0px 0px 4px",
            "right": null,
            "top": null,
            "visibility": null,
            "width": "28px"
          }
        },
        "1e945c070a954d32a0b2e0ea25e1f977": {
          "model_module": "@jupyter-widgets/controls",
          "model_name": "DescriptionStyleModel",
          "model_module_version": "1.5.0",
          "state": {
            "_model_module": "@jupyter-widgets/controls",
            "_model_module_version": "1.5.0",
            "_model_name": "DescriptionStyleModel",
            "_view_count": null,
            "_view_module": "@jupyter-widgets/base",
            "_view_module_version": "1.2.0",
            "_view_name": "StyleView",
            "description_width": ""
          }
        },
        "c59e7b5c850e4bab8a03b47ac466a84c": {
          "model_module": "@jupyter-widgets/base",
          "model_name": "LayoutModel",
          "model_module_version": "1.2.0",
          "state": {
            "_model_module": "@jupyter-widgets/base",
            "_model_module_version": "1.2.0",
            "_model_name": "LayoutModel",
            "_view_count": null,
            "_view_module": "@jupyter-widgets/base",
            "_view_module_version": "1.2.0",
            "_view_name": "LayoutView",
            "align_content": null,
            "align_items": null,
            "align_self": null,
            "border": null,
            "bottom": null,
            "display": null,
            "flex": null,
            "flex_flow": null,
            "grid_area": null,
            "grid_auto_columns": null,
            "grid_auto_flow": null,
            "grid_auto_rows": null,
            "grid_column": null,
            "grid_gap": null,
            "grid_row": null,
            "grid_template_areas": null,
            "grid_template_columns": null,
            "grid_template_rows": null,
            "height": "28px",
            "justify_content": null,
            "justify_items": null,
            "left": null,
            "margin": null,
            "max_height": null,
            "max_width": null,
            "min_height": null,
            "min_width": null,
            "object_fit": null,
            "object_position": null,
            "order": null,
            "overflow": null,
            "overflow_x": null,
            "overflow_y": null,
            "padding": "0px 0px 0px 4px",
            "right": null,
            "top": null,
            "visibility": null,
            "width": "28px"
          }
        },
        "2abbd3ab7de44c5dba5fa52baf790451": {
          "model_module": "@jupyter-widgets/controls",
          "model_name": "DescriptionStyleModel",
          "model_module_version": "1.5.0",
          "state": {
            "_model_module": "@jupyter-widgets/controls",
            "_model_module_version": "1.5.0",
            "_model_name": "DescriptionStyleModel",
            "_view_count": null,
            "_view_module": "@jupyter-widgets/base",
            "_view_module_version": "1.2.0",
            "_view_name": "StyleView",
            "description_width": ""
          }
        }
      }
    }
  },
  "cells": [
    {
      "cell_type": "markdown",
      "metadata": {
        "id": "view-in-github",
        "colab_type": "text"
      },
      "source": [
        "<a href=\"https://colab.research.google.com/github/thangbomhn87/GEE_Mangrove/blob/main/GEE_GPR_mangrove_traits_and_uncertainties_retrieval.ipynb\" target=\"_parent\"><img src=\"https://colab.research.google.com/assets/colab-badge.svg\" alt=\"Open In Colab\"/></a>"
      ]
    },
    {
      "cell_type": "markdown",
      "source": [
        "# GPR retrieval of mangrove traits and uncertainties in Google Earth Engine\n",
        "\n",
        "\n",
        "\n",
        "\n",
        "\n"
      ],
      "metadata": {
        "id": "hhUW_Huk3JJz"
      }
    },
    {
      "cell_type": "markdown",
      "source": [
        "## Environment setup"
      ],
      "metadata": {
        "id": "XKiWyVza5LwG"
      }
    },
    {
      "cell_type": "code",
      "source": [
        "!pip install geemap"
      ],
      "metadata": {
        "id": "2WNDwDiK3XgJ",
        "colab": {
          "base_uri": "https://localhost:8080/"
        },
        "collapsed": true,
        "outputId": "71c514f8-633c-49b1-a32d-5b63d76e299a"
      },
      "execution_count": 1,
      "outputs": [
        {
          "output_type": "stream",
          "name": "stdout",
          "text": [
            "Requirement already satisfied: geemap in /usr/local/lib/python3.10/dist-packages (0.32.1)\n",
            "Requirement already satisfied: bqplot in /usr/local/lib/python3.10/dist-packages (from geemap) (0.12.43)\n",
            "Requirement already satisfied: colour in /usr/local/lib/python3.10/dist-packages (from geemap) (0.1.5)\n",
            "Requirement already satisfied: earthengine-api>=0.1.347 in /usr/local/lib/python3.10/dist-packages (from geemap) (0.1.406)\n",
            "Requirement already satisfied: eerepr>=0.0.4 in /usr/local/lib/python3.10/dist-packages (from geemap) (0.0.4)\n",
            "Requirement already satisfied: folium>=0.13.0 in /usr/local/lib/python3.10/dist-packages (from geemap) (0.14.0)\n",
            "Requirement already satisfied: geocoder in /usr/local/lib/python3.10/dist-packages (from geemap) (1.38.1)\n",
            "Requirement already satisfied: ipyevents in /usr/local/lib/python3.10/dist-packages (from geemap) (2.0.2)\n",
            "Requirement already satisfied: ipyfilechooser>=0.6.0 in /usr/local/lib/python3.10/dist-packages (from geemap) (0.6.0)\n",
            "Requirement already satisfied: ipyleaflet==0.18.2 in /usr/local/lib/python3.10/dist-packages (from geemap) (0.18.2)\n",
            "Requirement already satisfied: ipytree in /usr/local/lib/python3.10/dist-packages (from geemap) (0.2.2)\n",
            "Requirement already satisfied: matplotlib in /usr/local/lib/python3.10/dist-packages (from geemap) (3.7.1)\n",
            "Requirement already satisfied: numpy in /usr/local/lib/python3.10/dist-packages (from geemap) (1.25.2)\n",
            "Requirement already satisfied: pandas in /usr/local/lib/python3.10/dist-packages (from geemap) (2.0.3)\n",
            "Requirement already satisfied: plotly in /usr/local/lib/python3.10/dist-packages (from geemap) (5.15.0)\n",
            "Requirement already satisfied: pyperclip in /usr/local/lib/python3.10/dist-packages (from geemap) (1.8.2)\n",
            "Requirement already satisfied: pyshp>=2.1.3 in /usr/local/lib/python3.10/dist-packages (from geemap) (2.3.1)\n",
            "Requirement already satisfied: python-box in /usr/local/lib/python3.10/dist-packages (from geemap) (7.1.1)\n",
            "Requirement already satisfied: scooby in /usr/local/lib/python3.10/dist-packages (from geemap) (0.10.0)\n",
            "Requirement already satisfied: ipywidgets<9,>=7.6.0 in /usr/local/lib/python3.10/dist-packages (from ipyleaflet==0.18.2->geemap) (7.7.1)\n",
            "Requirement already satisfied: traittypes<3,>=0.2.1 in /usr/local/lib/python3.10/dist-packages (from ipyleaflet==0.18.2->geemap) (0.2.1)\n",
            "Requirement already satisfied: xyzservices>=2021.8.1 in /usr/local/lib/python3.10/dist-packages (from ipyleaflet==0.18.2->geemap) (2024.6.0)\n",
            "Requirement already satisfied: branca>=0.5.0 in /usr/local/lib/python3.10/dist-packages (from ipyleaflet==0.18.2->geemap) (0.7.2)\n",
            "Requirement already satisfied: google-cloud-storage in /usr/local/lib/python3.10/dist-packages (from earthengine-api>=0.1.347->geemap) (2.8.0)\n",
            "Requirement already satisfied: google-api-python-client>=1.12.1 in /usr/local/lib/python3.10/dist-packages (from earthengine-api>=0.1.347->geemap) (2.84.0)\n",
            "Requirement already satisfied: google-auth>=1.4.1 in /usr/local/lib/python3.10/dist-packages (from earthengine-api>=0.1.347->geemap) (2.27.0)\n",
            "Requirement already satisfied: google-auth-httplib2>=0.0.3 in /usr/local/lib/python3.10/dist-packages (from earthengine-api>=0.1.347->geemap) (0.1.1)\n",
            "Requirement already satisfied: httplib2<1dev,>=0.9.2 in /usr/local/lib/python3.10/dist-packages (from earthengine-api>=0.1.347->geemap) (0.22.0)\n",
            "Requirement already satisfied: requests in /usr/local/lib/python3.10/dist-packages (from earthengine-api>=0.1.347->geemap) (2.31.0)\n",
            "Requirement already satisfied: jinja2>=2.9 in /usr/local/lib/python3.10/dist-packages (from folium>=0.13.0->geemap) (3.1.4)\n",
            "Requirement already satisfied: traitlets>=4.3.0 in /usr/local/lib/python3.10/dist-packages (from bqplot->geemap) (5.7.1)\n",
            "Requirement already satisfied: python-dateutil>=2.8.2 in /usr/local/lib/python3.10/dist-packages (from pandas->geemap) (2.8.2)\n",
            "Requirement already satisfied: pytz>=2020.1 in /usr/local/lib/python3.10/dist-packages (from pandas->geemap) (2023.4)\n",
            "Requirement already satisfied: tzdata>=2022.1 in /usr/local/lib/python3.10/dist-packages (from pandas->geemap) (2024.1)\n",
            "Requirement already satisfied: click in /usr/local/lib/python3.10/dist-packages (from geocoder->geemap) (8.1.7)\n",
            "Requirement already satisfied: future in /usr/local/lib/python3.10/dist-packages (from geocoder->geemap) (0.18.3)\n",
            "Requirement already satisfied: ratelim in /usr/local/lib/python3.10/dist-packages (from geocoder->geemap) (0.1.6)\n",
            "Requirement already satisfied: six in /usr/local/lib/python3.10/dist-packages (from geocoder->geemap) (1.16.0)\n",
            "Requirement already satisfied: contourpy>=1.0.1 in /usr/local/lib/python3.10/dist-packages (from matplotlib->geemap) (1.2.1)\n",
            "Requirement already satisfied: cycler>=0.10 in /usr/local/lib/python3.10/dist-packages (from matplotlib->geemap) (0.12.1)\n",
            "Requirement already satisfied: fonttools>=4.22.0 in /usr/local/lib/python3.10/dist-packages (from matplotlib->geemap) (4.53.0)\n",
            "Requirement already satisfied: kiwisolver>=1.0.1 in /usr/local/lib/python3.10/dist-packages (from matplotlib->geemap) (1.4.5)\n",
            "Requirement already satisfied: packaging>=20.0 in /usr/local/lib/python3.10/dist-packages (from matplotlib->geemap) (24.1)\n",
            "Requirement already satisfied: pillow>=6.2.0 in /usr/local/lib/python3.10/dist-packages (from matplotlib->geemap) (9.4.0)\n",
            "Requirement already satisfied: pyparsing>=2.3.1 in /usr/local/lib/python3.10/dist-packages (from matplotlib->geemap) (3.1.2)\n",
            "Requirement already satisfied: tenacity>=6.2.0 in /usr/local/lib/python3.10/dist-packages (from plotly->geemap) (8.3.0)\n",
            "Requirement already satisfied: google-api-core!=2.0.*,!=2.1.*,!=2.2.*,!=2.3.0,<3.0.0dev,>=1.31.5 in /usr/local/lib/python3.10/dist-packages (from google-api-python-client>=1.12.1->earthengine-api>=0.1.347->geemap) (2.11.1)\n",
            "Requirement already satisfied: uritemplate<5,>=3.0.1 in /usr/local/lib/python3.10/dist-packages (from google-api-python-client>=1.12.1->earthengine-api>=0.1.347->geemap) (4.1.1)\n",
            "Requirement already satisfied: cachetools<6.0,>=2.0.0 in /usr/local/lib/python3.10/dist-packages (from google-auth>=1.4.1->earthengine-api>=0.1.347->geemap) (5.3.3)\n",
            "Requirement already satisfied: pyasn1-modules>=0.2.1 in /usr/local/lib/python3.10/dist-packages (from google-auth>=1.4.1->earthengine-api>=0.1.347->geemap) (0.4.0)\n",
            "Requirement already satisfied: rsa<5,>=3.1.4 in /usr/local/lib/python3.10/dist-packages (from google-auth>=1.4.1->earthengine-api>=0.1.347->geemap) (4.9)\n",
            "Requirement already satisfied: ipykernel>=4.5.1 in /usr/local/lib/python3.10/dist-packages (from ipywidgets<9,>=7.6.0->ipyleaflet==0.18.2->geemap) (5.5.6)\n",
            "Requirement already satisfied: ipython-genutils~=0.2.0 in /usr/local/lib/python3.10/dist-packages (from ipywidgets<9,>=7.6.0->ipyleaflet==0.18.2->geemap) (0.2.0)\n",
            "Requirement already satisfied: widgetsnbextension~=3.6.0 in /usr/local/lib/python3.10/dist-packages (from ipywidgets<9,>=7.6.0->ipyleaflet==0.18.2->geemap) (3.6.6)\n",
            "Requirement already satisfied: ipython>=4.0.0 in /usr/local/lib/python3.10/dist-packages (from ipywidgets<9,>=7.6.0->ipyleaflet==0.18.2->geemap) (7.34.0)\n",
            "Requirement already satisfied: jupyterlab-widgets>=1.0.0 in /usr/local/lib/python3.10/dist-packages (from ipywidgets<9,>=7.6.0->ipyleaflet==0.18.2->geemap) (3.0.11)\n",
            "Requirement already satisfied: MarkupSafe>=2.0 in /usr/local/lib/python3.10/dist-packages (from jinja2>=2.9->folium>=0.13.0->geemap) (2.1.5)\n",
            "Requirement already satisfied: google-cloud-core<3.0dev,>=2.3.0 in /usr/local/lib/python3.10/dist-packages (from google-cloud-storage->earthengine-api>=0.1.347->geemap) (2.3.3)\n",
            "Requirement already satisfied: google-resumable-media>=2.3.2 in /usr/local/lib/python3.10/dist-packages (from google-cloud-storage->earthengine-api>=0.1.347->geemap) (2.7.0)\n",
            "Requirement already satisfied: charset-normalizer<4,>=2 in /usr/local/lib/python3.10/dist-packages (from requests->earthengine-api>=0.1.347->geemap) (3.3.2)\n",
            "Requirement already satisfied: idna<4,>=2.5 in /usr/local/lib/python3.10/dist-packages (from requests->earthengine-api>=0.1.347->geemap) (3.7)\n",
            "Requirement already satisfied: urllib3<3,>=1.21.1 in /usr/local/lib/python3.10/dist-packages (from requests->earthengine-api>=0.1.347->geemap) (2.0.7)\n",
            "Requirement already satisfied: certifi>=2017.4.17 in /usr/local/lib/python3.10/dist-packages (from requests->earthengine-api>=0.1.347->geemap) (2024.6.2)\n",
            "Requirement already satisfied: decorator in /usr/local/lib/python3.10/dist-packages (from ratelim->geocoder->geemap) (4.4.2)\n",
            "Requirement already satisfied: googleapis-common-protos<2.0.dev0,>=1.56.2 in /usr/local/lib/python3.10/dist-packages (from google-api-core!=2.0.*,!=2.1.*,!=2.2.*,!=2.3.0,<3.0.0dev,>=1.31.5->google-api-python-client>=1.12.1->earthengine-api>=0.1.347->geemap) (1.63.1)\n",
            "Requirement already satisfied: protobuf!=3.20.0,!=3.20.1,!=4.21.0,!=4.21.1,!=4.21.2,!=4.21.3,!=4.21.4,!=4.21.5,<5.0.0.dev0,>=3.19.5 in /usr/local/lib/python3.10/dist-packages (from google-api-core!=2.0.*,!=2.1.*,!=2.2.*,!=2.3.0,<3.0.0dev,>=1.31.5->google-api-python-client>=1.12.1->earthengine-api>=0.1.347->geemap) (3.20.3)\n",
            "Requirement already satisfied: google-crc32c<2.0dev,>=1.0 in /usr/local/lib/python3.10/dist-packages (from google-resumable-media>=2.3.2->google-cloud-storage->earthengine-api>=0.1.347->geemap) (1.5.0)\n",
            "Requirement already satisfied: jupyter-client in /usr/local/lib/python3.10/dist-packages (from ipykernel>=4.5.1->ipywidgets<9,>=7.6.0->ipyleaflet==0.18.2->geemap) (6.1.12)\n",
            "Requirement already satisfied: tornado>=4.2 in /usr/local/lib/python3.10/dist-packages (from ipykernel>=4.5.1->ipywidgets<9,>=7.6.0->ipyleaflet==0.18.2->geemap) (6.3.3)\n",
            "Requirement already satisfied: setuptools>=18.5 in /usr/local/lib/python3.10/dist-packages (from ipython>=4.0.0->ipywidgets<9,>=7.6.0->ipyleaflet==0.18.2->geemap) (67.7.2)\n",
            "Requirement already satisfied: jedi>=0.16 in /usr/local/lib/python3.10/dist-packages (from ipython>=4.0.0->ipywidgets<9,>=7.6.0->ipyleaflet==0.18.2->geemap) (0.19.1)\n",
            "Requirement already satisfied: pickleshare in /usr/local/lib/python3.10/dist-packages (from ipython>=4.0.0->ipywidgets<9,>=7.6.0->ipyleaflet==0.18.2->geemap) (0.7.5)\n",
            "Requirement already satisfied: prompt-toolkit!=3.0.0,!=3.0.1,<3.1.0,>=2.0.0 in /usr/local/lib/python3.10/dist-packages (from ipython>=4.0.0->ipywidgets<9,>=7.6.0->ipyleaflet==0.18.2->geemap) (3.0.47)\n",
            "Requirement already satisfied: pygments in /usr/local/lib/python3.10/dist-packages (from ipython>=4.0.0->ipywidgets<9,>=7.6.0->ipyleaflet==0.18.2->geemap) (2.16.1)\n",
            "Requirement already satisfied: backcall in /usr/local/lib/python3.10/dist-packages (from ipython>=4.0.0->ipywidgets<9,>=7.6.0->ipyleaflet==0.18.2->geemap) (0.2.0)\n",
            "Requirement already satisfied: matplotlib-inline in /usr/local/lib/python3.10/dist-packages (from ipython>=4.0.0->ipywidgets<9,>=7.6.0->ipyleaflet==0.18.2->geemap) (0.1.7)\n",
            "Requirement already satisfied: pexpect>4.3 in /usr/local/lib/python3.10/dist-packages (from ipython>=4.0.0->ipywidgets<9,>=7.6.0->ipyleaflet==0.18.2->geemap) (4.9.0)\n",
            "Requirement already satisfied: pyasn1<0.7.0,>=0.4.6 in /usr/local/lib/python3.10/dist-packages (from pyasn1-modules>=0.2.1->google-auth>=1.4.1->earthengine-api>=0.1.347->geemap) (0.6.0)\n",
            "Requirement already satisfied: notebook>=4.4.1 in /usr/local/lib/python3.10/dist-packages (from widgetsnbextension~=3.6.0->ipywidgets<9,>=7.6.0->ipyleaflet==0.18.2->geemap) (6.5.5)\n",
            "Requirement already satisfied: parso<0.9.0,>=0.8.3 in /usr/local/lib/python3.10/dist-packages (from jedi>=0.16->ipython>=4.0.0->ipywidgets<9,>=7.6.0->ipyleaflet==0.18.2->geemap) (0.8.4)\n",
            "Requirement already satisfied: pyzmq<25,>=17 in /usr/local/lib/python3.10/dist-packages (from notebook>=4.4.1->widgetsnbextension~=3.6.0->ipywidgets<9,>=7.6.0->ipyleaflet==0.18.2->geemap) (24.0.1)\n",
            "Requirement already satisfied: argon2-cffi in /usr/local/lib/python3.10/dist-packages (from notebook>=4.4.1->widgetsnbextension~=3.6.0->ipywidgets<9,>=7.6.0->ipyleaflet==0.18.2->geemap) (23.1.0)\n",
            "Requirement already satisfied: jupyter-core>=4.6.1 in /usr/local/lib/python3.10/dist-packages (from notebook>=4.4.1->widgetsnbextension~=3.6.0->ipywidgets<9,>=7.6.0->ipyleaflet==0.18.2->geemap) (5.7.2)\n",
            "Requirement already satisfied: nbformat in /usr/local/lib/python3.10/dist-packages (from notebook>=4.4.1->widgetsnbextension~=3.6.0->ipywidgets<9,>=7.6.0->ipyleaflet==0.18.2->geemap) (5.10.4)\n",
            "Requirement already satisfied: nbconvert>=5 in /usr/local/lib/python3.10/dist-packages (from notebook>=4.4.1->widgetsnbextension~=3.6.0->ipywidgets<9,>=7.6.0->ipyleaflet==0.18.2->geemap) (6.5.4)\n",
            "Requirement already satisfied: nest-asyncio>=1.5 in /usr/local/lib/python3.10/dist-packages (from notebook>=4.4.1->widgetsnbextension~=3.6.0->ipywidgets<9,>=7.6.0->ipyleaflet==0.18.2->geemap) (1.6.0)\n",
            "Requirement already satisfied: Send2Trash>=1.8.0 in /usr/local/lib/python3.10/dist-packages (from notebook>=4.4.1->widgetsnbextension~=3.6.0->ipywidgets<9,>=7.6.0->ipyleaflet==0.18.2->geemap) (1.8.3)\n",
            "Requirement already satisfied: terminado>=0.8.3 in /usr/local/lib/python3.10/dist-packages (from notebook>=4.4.1->widgetsnbextension~=3.6.0->ipywidgets<9,>=7.6.0->ipyleaflet==0.18.2->geemap) (0.18.1)\n",
            "Requirement already satisfied: prometheus-client in /usr/local/lib/python3.10/dist-packages (from notebook>=4.4.1->widgetsnbextension~=3.6.0->ipywidgets<9,>=7.6.0->ipyleaflet==0.18.2->geemap) (0.20.0)\n",
            "Requirement already satisfied: nbclassic>=0.4.7 in /usr/local/lib/python3.10/dist-packages (from notebook>=4.4.1->widgetsnbextension~=3.6.0->ipywidgets<9,>=7.6.0->ipyleaflet==0.18.2->geemap) (1.1.0)\n",
            "Requirement already satisfied: ptyprocess>=0.5 in /usr/local/lib/python3.10/dist-packages (from pexpect>4.3->ipython>=4.0.0->ipywidgets<9,>=7.6.0->ipyleaflet==0.18.2->geemap) (0.7.0)\n",
            "Requirement already satisfied: wcwidth in /usr/local/lib/python3.10/dist-packages (from prompt-toolkit!=3.0.0,!=3.0.1,<3.1.0,>=2.0.0->ipython>=4.0.0->ipywidgets<9,>=7.6.0->ipyleaflet==0.18.2->geemap) (0.2.13)\n",
            "Requirement already satisfied: platformdirs>=2.5 in /usr/local/lib/python3.10/dist-packages (from jupyter-core>=4.6.1->notebook>=4.4.1->widgetsnbextension~=3.6.0->ipywidgets<9,>=7.6.0->ipyleaflet==0.18.2->geemap) (4.2.2)\n",
            "Requirement already satisfied: notebook-shim>=0.2.3 in /usr/local/lib/python3.10/dist-packages (from nbclassic>=0.4.7->notebook>=4.4.1->widgetsnbextension~=3.6.0->ipywidgets<9,>=7.6.0->ipyleaflet==0.18.2->geemap) (0.2.4)\n",
            "Requirement already satisfied: lxml in /usr/local/lib/python3.10/dist-packages (from nbconvert>=5->notebook>=4.4.1->widgetsnbextension~=3.6.0->ipywidgets<9,>=7.6.0->ipyleaflet==0.18.2->geemap) (4.9.4)\n",
            "Requirement already satisfied: beautifulsoup4 in /usr/local/lib/python3.10/dist-packages (from nbconvert>=5->notebook>=4.4.1->widgetsnbextension~=3.6.0->ipywidgets<9,>=7.6.0->ipyleaflet==0.18.2->geemap) (4.12.3)\n",
            "Requirement already satisfied: bleach in /usr/local/lib/python3.10/dist-packages (from nbconvert>=5->notebook>=4.4.1->widgetsnbextension~=3.6.0->ipywidgets<9,>=7.6.0->ipyleaflet==0.18.2->geemap) (6.1.0)\n",
            "Requirement already satisfied: defusedxml in /usr/local/lib/python3.10/dist-packages (from nbconvert>=5->notebook>=4.4.1->widgetsnbextension~=3.6.0->ipywidgets<9,>=7.6.0->ipyleaflet==0.18.2->geemap) (0.7.1)\n",
            "Requirement already satisfied: entrypoints>=0.2.2 in /usr/local/lib/python3.10/dist-packages (from nbconvert>=5->notebook>=4.4.1->widgetsnbextension~=3.6.0->ipywidgets<9,>=7.6.0->ipyleaflet==0.18.2->geemap) (0.4)\n",
            "Requirement already satisfied: jupyterlab-pygments in /usr/local/lib/python3.10/dist-packages (from nbconvert>=5->notebook>=4.4.1->widgetsnbextension~=3.6.0->ipywidgets<9,>=7.6.0->ipyleaflet==0.18.2->geemap) (0.3.0)\n",
            "Requirement already satisfied: mistune<2,>=0.8.1 in /usr/local/lib/python3.10/dist-packages (from nbconvert>=5->notebook>=4.4.1->widgetsnbextension~=3.6.0->ipywidgets<9,>=7.6.0->ipyleaflet==0.18.2->geemap) (0.8.4)\n",
            "Requirement already satisfied: nbclient>=0.5.0 in /usr/local/lib/python3.10/dist-packages (from nbconvert>=5->notebook>=4.4.1->widgetsnbextension~=3.6.0->ipywidgets<9,>=7.6.0->ipyleaflet==0.18.2->geemap) (0.10.0)\n",
            "Requirement already satisfied: pandocfilters>=1.4.1 in /usr/local/lib/python3.10/dist-packages (from nbconvert>=5->notebook>=4.4.1->widgetsnbextension~=3.6.0->ipywidgets<9,>=7.6.0->ipyleaflet==0.18.2->geemap) (1.5.1)\n",
            "Requirement already satisfied: tinycss2 in /usr/local/lib/python3.10/dist-packages (from nbconvert>=5->notebook>=4.4.1->widgetsnbextension~=3.6.0->ipywidgets<9,>=7.6.0->ipyleaflet==0.18.2->geemap) (1.3.0)\n",
            "Requirement already satisfied: fastjsonschema>=2.15 in /usr/local/lib/python3.10/dist-packages (from nbformat->notebook>=4.4.1->widgetsnbextension~=3.6.0->ipywidgets<9,>=7.6.0->ipyleaflet==0.18.2->geemap) (2.19.1)\n",
            "Requirement already satisfied: jsonschema>=2.6 in /usr/local/lib/python3.10/dist-packages (from nbformat->notebook>=4.4.1->widgetsnbextension~=3.6.0->ipywidgets<9,>=7.6.0->ipyleaflet==0.18.2->geemap) (4.19.2)\n",
            "Requirement already satisfied: argon2-cffi-bindings in /usr/local/lib/python3.10/dist-packages (from argon2-cffi->notebook>=4.4.1->widgetsnbextension~=3.6.0->ipywidgets<9,>=7.6.0->ipyleaflet==0.18.2->geemap) (21.2.0)\n",
            "Requirement already satisfied: attrs>=22.2.0 in /usr/local/lib/python3.10/dist-packages (from jsonschema>=2.6->nbformat->notebook>=4.4.1->widgetsnbextension~=3.6.0->ipywidgets<9,>=7.6.0->ipyleaflet==0.18.2->geemap) (23.2.0)\n",
            "Requirement already satisfied: jsonschema-specifications>=2023.03.6 in /usr/local/lib/python3.10/dist-packages (from jsonschema>=2.6->nbformat->notebook>=4.4.1->widgetsnbextension~=3.6.0->ipywidgets<9,>=7.6.0->ipyleaflet==0.18.2->geemap) (2023.12.1)\n",
            "Requirement already satisfied: referencing>=0.28.4 in /usr/local/lib/python3.10/dist-packages (from jsonschema>=2.6->nbformat->notebook>=4.4.1->widgetsnbextension~=3.6.0->ipywidgets<9,>=7.6.0->ipyleaflet==0.18.2->geemap) (0.35.1)\n",
            "Requirement already satisfied: rpds-py>=0.7.1 in /usr/local/lib/python3.10/dist-packages (from jsonschema>=2.6->nbformat->notebook>=4.4.1->widgetsnbextension~=3.6.0->ipywidgets<9,>=7.6.0->ipyleaflet==0.18.2->geemap) (0.18.1)\n",
            "Requirement already satisfied: jupyter-server<3,>=1.8 in /usr/local/lib/python3.10/dist-packages (from notebook-shim>=0.2.3->nbclassic>=0.4.7->notebook>=4.4.1->widgetsnbextension~=3.6.0->ipywidgets<9,>=7.6.0->ipyleaflet==0.18.2->geemap) (1.24.0)\n",
            "Requirement already satisfied: cffi>=1.0.1 in /usr/local/lib/python3.10/dist-packages (from argon2-cffi-bindings->argon2-cffi->notebook>=4.4.1->widgetsnbextension~=3.6.0->ipywidgets<9,>=7.6.0->ipyleaflet==0.18.2->geemap) (1.16.0)\n",
            "Requirement already satisfied: soupsieve>1.2 in /usr/local/lib/python3.10/dist-packages (from beautifulsoup4->nbconvert>=5->notebook>=4.4.1->widgetsnbextension~=3.6.0->ipywidgets<9,>=7.6.0->ipyleaflet==0.18.2->geemap) (2.5)\n",
            "Requirement already satisfied: webencodings in /usr/local/lib/python3.10/dist-packages (from bleach->nbconvert>=5->notebook>=4.4.1->widgetsnbextension~=3.6.0->ipywidgets<9,>=7.6.0->ipyleaflet==0.18.2->geemap) (0.5.1)\n",
            "Requirement already satisfied: pycparser in /usr/local/lib/python3.10/dist-packages (from cffi>=1.0.1->argon2-cffi-bindings->argon2-cffi->notebook>=4.4.1->widgetsnbextension~=3.6.0->ipywidgets<9,>=7.6.0->ipyleaflet==0.18.2->geemap) (2.22)\n",
            "Requirement already satisfied: anyio<4,>=3.1.0 in /usr/local/lib/python3.10/dist-packages (from jupyter-server<3,>=1.8->notebook-shim>=0.2.3->nbclassic>=0.4.7->notebook>=4.4.1->widgetsnbextension~=3.6.0->ipywidgets<9,>=7.6.0->ipyleaflet==0.18.2->geemap) (3.7.1)\n",
            "Requirement already satisfied: websocket-client in /usr/local/lib/python3.10/dist-packages (from jupyter-server<3,>=1.8->notebook-shim>=0.2.3->nbclassic>=0.4.7->notebook>=4.4.1->widgetsnbextension~=3.6.0->ipywidgets<9,>=7.6.0->ipyleaflet==0.18.2->geemap) (1.8.0)\n",
            "Requirement already satisfied: sniffio>=1.1 in /usr/local/lib/python3.10/dist-packages (from anyio<4,>=3.1.0->jupyter-server<3,>=1.8->notebook-shim>=0.2.3->nbclassic>=0.4.7->notebook>=4.4.1->widgetsnbextension~=3.6.0->ipywidgets<9,>=7.6.0->ipyleaflet==0.18.2->geemap) (1.3.1)\n",
            "Requirement already satisfied: exceptiongroup in /usr/local/lib/python3.10/dist-packages (from anyio<4,>=3.1.0->jupyter-server<3,>=1.8->notebook-shim>=0.2.3->nbclassic>=0.4.7->notebook>=4.4.1->widgetsnbextension~=3.6.0->ipywidgets<9,>=7.6.0->ipyleaflet==0.18.2->geemap) (1.2.1)\n"
          ]
        }
      ]
    },
    {
      "cell_type": "code",
      "source": [
        "import geemap\n",
        "import ee"
      ],
      "metadata": {
        "id": "flyHUVLpVrMD"
      },
      "execution_count": 2,
      "outputs": []
    },
    {
      "cell_type": "code",
      "metadata": {
        "id": "wcnFEOKIvwba",
        "colab": {
          "base_uri": "https://localhost:8080/",
          "height": 17
        },
        "outputId": "5f4c60a7-df59-44fb-be80-a0b5296b10d8"
      },
      "source": [
        "# Trigger the authentication flow.\n",
        "ee.Authenticate()\n",
        "# Initialize the library and set your GEE project for authentication\n",
        "ee.Initialize(project='ee-ngabinh1987')"
      ],
      "execution_count": 3,
      "outputs": [
        {
          "output_type": "display_data",
          "data": {
            "text/plain": [
              "<IPython.core.display.HTML object>"
            ],
            "text/html": [
              "\n",
              "            <style>\n",
              "                .geemap-dark {\n",
              "                    --jp-widgets-color: white;\n",
              "                    --jp-widgets-label-color: white;\n",
              "                    --jp-ui-font-color1: white;\n",
              "                    --jp-layout-color2: #454545;\n",
              "                    background-color: #383838;\n",
              "                }\n",
              "\n",
              "                .geemap-dark .jupyter-button {\n",
              "                    --jp-layout-color3: #383838;\n",
              "                }\n",
              "\n",
              "                .geemap-colab {\n",
              "                    background-color: var(--colab-primary-surface-color, white);\n",
              "                }\n",
              "\n",
              "                .geemap-colab .jupyter-button {\n",
              "                    --jp-layout-color3: var(--colab-primary-surface-color, white);\n",
              "                }\n",
              "            </style>\n",
              "            "
            ]
          },
          "metadata": {}
        }
      ]
    },
    {
      "cell_type": "markdown",
      "metadata": {
        "id": "l6mVy3PnWhZj"
      },
      "source": [
        "## Model import"
      ]
    },
    {
      "cell_type": "code",
      "source": [
        "!git clone -l -s https://github.com/thangbomhn87/GEE_Mangrove_Traits_Uncertainity_Mapping.git\n",
        "%cd GEE_Mangrove_Traits_Uncertainity_Mapping/GPR_Parameters\n",
        "\n",
        "import overall_model_gee_LAI\n",
        "import overall_model_gee_Cab\n",
        "import overall_model_gee_Cm\n",
        "import overall_model_gee_Cw"
      ],
      "metadata": {
        "id": "Cy9qsVKkLprs",
        "colab": {
          "base_uri": "https://localhost:8080/",
          "height": 52
        },
        "outputId": "be4ef2dc-cff0-45e1-df3c-e0b70f4ccc85"
      },
      "execution_count": 4,
      "outputs": [
        {
          "output_type": "display_data",
          "data": {
            "text/plain": [
              "<IPython.core.display.HTML object>"
            ],
            "text/html": [
              "\n",
              "            <style>\n",
              "                .geemap-dark {\n",
              "                    --jp-widgets-color: white;\n",
              "                    --jp-widgets-label-color: white;\n",
              "                    --jp-ui-font-color1: white;\n",
              "                    --jp-layout-color2: #454545;\n",
              "                    background-color: #383838;\n",
              "                }\n",
              "\n",
              "                .geemap-dark .jupyter-button {\n",
              "                    --jp-layout-color3: #383838;\n",
              "                }\n",
              "\n",
              "                .geemap-colab {\n",
              "                    background-color: var(--colab-primary-surface-color, white);\n",
              "                }\n",
              "\n",
              "                .geemap-colab .jupyter-button {\n",
              "                    --jp-layout-color3: var(--colab-primary-surface-color, white);\n",
              "                }\n",
              "            </style>\n",
              "            "
            ]
          },
          "metadata": {}
        },
        {
          "output_type": "stream",
          "name": "stdout",
          "text": [
            "fatal: destination path 'GEE_Mangrove_Traits_Uncertainity_Mapping' already exists and is not an empty directory.\n",
            "/content/GEE_Mangrove_Traits_Uncertainity_Mapping/GPR_Parameters\n"
          ]
        }
      ]
    },
    {
      "cell_type": "code",
      "metadata": {
        "id": "9_enhfcmUmlE",
        "colab": {
          "base_uri": "https://localhost:8080/",
          "height": 17
        },
        "outputId": "f7408100-54ff-4ff5-f404-2fb5bd48bd49"
      },
      "source": [
        "# Possible values: 'Cab', 'Cm', 'Cw', 'LAI'\n",
        "mangroveTrait = 'Cab'\n",
        "# Possible models: 'overall_model_gee_LAI', 'overall_model_gee_Cab', 'overall_model_gee_Cw', 'overall_model_gee_Cm'\n",
        "uncModel = overall_model_gee_Cab.models[mangroveTrait]"
      ],
      "execution_count": 5,
      "outputs": [
        {
          "output_type": "display_data",
          "data": {
            "text/plain": [
              "<IPython.core.display.HTML object>"
            ],
            "text/html": [
              "\n",
              "            <style>\n",
              "                .geemap-dark {\n",
              "                    --jp-widgets-color: white;\n",
              "                    --jp-widgets-label-color: white;\n",
              "                    --jp-ui-font-color1: white;\n",
              "                    --jp-layout-color2: #454545;\n",
              "                    background-color: #383838;\n",
              "                }\n",
              "\n",
              "                .geemap-dark .jupyter-button {\n",
              "                    --jp-layout-color3: #383838;\n",
              "                }\n",
              "\n",
              "                .geemap-colab {\n",
              "                    background-color: var(--colab-primary-surface-color, white);\n",
              "                }\n",
              "\n",
              "                .geemap-colab .jupyter-button {\n",
              "                    --jp-layout-color3: var(--colab-primary-surface-color, white);\n",
              "                }\n",
              "            </style>\n",
              "            "
            ]
          },
          "metadata": {}
        }
      ]
    },
    {
      "cell_type": "markdown",
      "metadata": {
        "id": "jD9Tvb0BiLrM"
      },
      "source": [
        "## Functions"
      ]
    },
    {
      "cell_type": "code",
      "metadata": {
        "id": "6Cf1rQb6iEN9",
        "colab": {
          "base_uri": "https://localhost:8080/",
          "height": 17
        },
        "outputId": "644d2e4b-5cf5-4f25-8cd5-d7b9eba84fa9"
      },
      "source": [
        "# Function to mask the clouds in S2\n",
        "def maskS2cloud_and_water(image):\n",
        "  not_cloud_shadows = image.select('SCL').neq(3);\n",
        "  not_water = image.select('SCL').neq(6);\n",
        "  not_cloud_low = image.select('SCL').neq(7);\n",
        "  not_cloud_medium = image.select('SCL').neq(8);\n",
        "  not_cloud_high = image.select('SCL').neq(9);\n",
        "  not_cirrus = image.select('SCL').neq(10);\n",
        "  not_ice = image.select('SCL').neq(11);\n",
        "\n",
        "  qa = image.select('QA60');\n",
        "  cloudBitMask = 1 << 10;\n",
        "  cirrusBitMask = 1 << 11;\n",
        "  mask = (qa.bitwiseAnd(cloudBitMask).eq(0).And(qa.bitwiseAnd(cirrusBitMask).eq(0)).And(not_cloud_shadows)\n",
        "    .And(not_water).And(not_cloud_low).And(not_cloud_medium).And(not_cloud_high).And(not_cirrus).And(not_ice))\n",
        "  return image.updateMask(mask).divide(10000).copyProperties(qa).set('system:time_start', qa.get('system:time_start'))\n",
        "\n",
        "# Auxiliar function for mapping : (1..n) -> (B1..Bn)\n",
        "def band_names(element):\n",
        "  bandName = ee.String('B').cat(ee.Number(element).int().format())\n",
        "  return bandName\n",
        "\n",
        "# Crop trait GPR mean prediction\n",
        "def veg_index_GPR(image_orig):\n",
        "  # Create List of Bands of Dimension n (Xtrain[n,n])\n",
        "  XTrain_dim = uncModel['X_train'].length().get([0]).getInfo();\n",
        "  band_sequence   = (ee.List.sequence(1, XTrain_dim).map(band_names));\n",
        "  # Create a list of band names for flattening operation\n",
        "  im_norm_ell2D_hypell = image_orig.subtract(ee.Image(uncModel['mx'])).divide(ee.Image(uncModel['sx'])).multiply(ee.Image(uncModel['hyp_ell'])).toArray().toArray(1);\n",
        "  im_norm_ell2D = image_orig.subtract(ee.Image(uncModel['mx'])).divide(ee.Image(uncModel['sx'])).toArray().toArray(1);\n",
        "  PtTPt  = im_norm_ell2D_hypell.matrixTranspose().matrixMultiply(im_norm_ell2D).arrayProject([0]).multiply(-0.5);\n",
        "  PtTDX  = ee.Image(uncModel['X_train']).matrixMultiply(im_norm_ell2D_hypell).arrayProject([0]).arrayFlatten([band_sequence]);\n",
        "  arg1   = PtTPt.exp().multiply(uncModel['hyp_sig']);\n",
        "  k_star = PtTDX.subtract(ee.Image(uncModel['XDX_pre_calc']).multiply(0.5)).exp().toArray();\n",
        "  mean_pred = k_star.arrayDotProduct(ee.Image(uncModel['alpha_coefficients']).toArray()).multiply(arg1);\n",
        "  mean_pred = mean_pred.toArray(1).arrayProject([0]).arrayFlatten([[uncModel['veg_index']]]);\n",
        "  mean_pred = mean_pred.add(uncModel['mean_model']);\n",
        "  image_orig = image_orig.addBands(mean_pred)\n",
        "  return image_orig.select(uncModel['veg_index'])\n",
        "\n",
        "# Uncertainty retrieval\n",
        "def get_GPR_uncertainty(image_orig):\n",
        "  # Create List of Bands of Dimension n (Xtrain[n,n])\n",
        "  XTrain_dim = uncModel['X_train'].length().get([0]).getInfo()\n",
        "  band_sequence   = (ee.List.sequence(1, XTrain_dim).map(band_names))\n",
        "  # Create a list of band names for flattening operation\n",
        "  im_norm_ell2D_hypell = image_orig.subtract(ee.Image(uncModel['mx'])).divide(ee.Image(uncModel['sx'])).multiply(ee.Image(uncModel['hyp_ell'])).toArray().toArray(1)\n",
        "  im_norm_ell2D = image_orig.subtract(ee.Image(uncModel['mx'])).divide(ee.Image(uncModel['sx'])).toArray().toArray(1)\n",
        "  PtTPt  = im_norm_ell2D_hypell.matrixTranspose().matrixMultiply(im_norm_ell2D).arrayProject([0]).multiply(-0.5)\n",
        "  PtTDX  = ee.Image(uncModel['X_train']).matrixMultiply(im_norm_ell2D_hypell).arrayProject([0]).arrayFlatten([band_sequence])\n",
        "  arg1   = PtTPt.exp().multiply(uncModel['hyp_sig']);\n",
        "  k_star = PtTDX.subtract(ee.Image(uncModel['XDX_pre_calc']).multiply(0.5)).exp().multiply(arg1).toArray()\n",
        "\n",
        "  variance_vector = ee.Image(uncModel['Linv_pre_calc']).matrixMultiply(k_star.toArray(0).toArray(1)).arrayProject([0])\n",
        "  variance = ee.Image(uncModel['hyp_sig_unc']).toArray().subtract(variance_vector.arrayDotProduct(variance_vector))\n",
        "  variance = variance.toArray(1).arrayProject([0]).arrayFlatten([[uncModel['veg_index']+'_unc']])\n",
        "  image_orig = image_orig.addBands(variance)\n",
        "  return image_orig.select(uncModel['veg_index']+'_unc').abs().sqrt()"
      ],
      "execution_count": 6,
      "outputs": [
        {
          "output_type": "display_data",
          "data": {
            "text/plain": [
              "<IPython.core.display.HTML object>"
            ],
            "text/html": [
              "\n",
              "            <style>\n",
              "                .geemap-dark {\n",
              "                    --jp-widgets-color: white;\n",
              "                    --jp-widgets-label-color: white;\n",
              "                    --jp-ui-font-color1: white;\n",
              "                    --jp-layout-color2: #454545;\n",
              "                    background-color: #383838;\n",
              "                }\n",
              "\n",
              "                .geemap-dark .jupyter-button {\n",
              "                    --jp-layout-color3: #383838;\n",
              "                }\n",
              "\n",
              "                .geemap-colab {\n",
              "                    background-color: var(--colab-primary-surface-color, white);\n",
              "                }\n",
              "\n",
              "                .geemap-colab .jupyter-button {\n",
              "                    --jp-layout-color3: var(--colab-primary-surface-color, white);\n",
              "                }\n",
              "            </style>\n",
              "            "
            ]
          },
          "metadata": {}
        }
      ]
    },
    {
      "cell_type": "markdown",
      "source": [
        "## Area of interest parameters"
      ],
      "metadata": {
        "id": "D3Vwedss7iDj"
      }
    },
    {
      "cell_type": "code",
      "source": [
        "#Set the Area of Interest.\n",
        "#The example here focuses on the mangrove forest in Mui Ca Mau National Park Vietnam as a small area to visualize directly in the Colab notebook\n",
        "#For larger areas, results should be exported to GEE assets or local computers to avoid memory problems\n",
        "\n",
        "polygon = ee.Geometry.Polygon(\n",
        "  [[[104.94710610605645,8.605965246171419],\n",
        "  [104.94710610605645,8.669099010946878],\n",
        "  [104.76445840097833,8.669099010946878],\n",
        "  [104.76445840097833,8.605965246171419]]])\n",
        "\n",
        "studyArea = ee.FeatureCollection('projects/ee-ngabinh1987/assets/DiaPhan_VQG_DatMui')"
      ],
      "metadata": {
        "id": "yDOhZz1y7sPP",
        "colab": {
          "base_uri": "https://localhost:8080/",
          "height": 17
        },
        "outputId": "bd4ff9b2-a648-4d97-8b76-4c02d6bc7738"
      },
      "execution_count": 7,
      "outputs": [
        {
          "output_type": "display_data",
          "data": {
            "text/plain": [
              "<IPython.core.display.HTML object>"
            ],
            "text/html": [
              "\n",
              "            <style>\n",
              "                .geemap-dark {\n",
              "                    --jp-widgets-color: white;\n",
              "                    --jp-widgets-label-color: white;\n",
              "                    --jp-ui-font-color1: white;\n",
              "                    --jp-layout-color2: #454545;\n",
              "                    background-color: #383838;\n",
              "                }\n",
              "\n",
              "                .geemap-dark .jupyter-button {\n",
              "                    --jp-layout-color3: #383838;\n",
              "                }\n",
              "\n",
              "                .geemap-colab {\n",
              "                    background-color: var(--colab-primary-surface-color, white);\n",
              "                }\n",
              "\n",
              "                .geemap-colab .jupyter-button {\n",
              "                    --jp-layout-color3: var(--colab-primary-surface-color, white);\n",
              "                }\n",
              "            </style>\n",
              "            "
            ]
          },
          "metadata": {}
        }
      ]
    },
    {
      "cell_type": "markdown",
      "metadata": {
        "id": "AkfoJP1odvT5"
      },
      "source": [
        "## Mangrove Vegetation Index (MVI)"
      ]
    },
    {
      "cell_type": "code",
      "source": [
        "# Using mangrove vegetation index (MVI) to mask the non-mangrove pixel\n",
        "annual_collection  = (ee.ImageCollection('COPERNICUS/S2_SR_HARMONIZED')\n",
        "  .filterBounds(polygon)\n",
        "  .filterDate('2019-01-01', '2022-12-31')\n",
        "  .map(maskS2cloud_and_water)\n",
        "  .select(['B3', 'B8', 'B11']))\n",
        "\n",
        "mean_annual_image = annual_collection.median().clip(studyArea);\n",
        "\n",
        "MVI = mean_annual_image.expression('(b(\"B8\") - b(\"B3\"))/(b(\"B11\") - b(\"B3\"))');\n",
        "\n",
        "def classify_mangrove(img):\n",
        "  band = img.select('B8')\n",
        "  mangrove = band.gt(4.5).rename('mangrove')\n",
        "  mangrove = mangrove.updateMask(mangrove)\n",
        "  return img.addBands(mangrove)\n",
        "\n",
        "MVI_classify = classify_mangrove(MVI);\n",
        "\n",
        "def clip_StudyArea(image):return image.clip(studyArea)\n",
        "def clip_MVI(image):return image.updateMask(MVI_classify.select('mangrove'))"
      ],
      "metadata": {
        "id": "jYs6a51kKBts",
        "colab": {
          "base_uri": "https://localhost:8080/",
          "height": 17
        },
        "outputId": "09dedd40-2b0a-4d60-e08b-c637d2b4780f"
      },
      "execution_count": 8,
      "outputs": [
        {
          "output_type": "display_data",
          "data": {
            "text/plain": [
              "<IPython.core.display.HTML object>"
            ],
            "text/html": [
              "\n",
              "            <style>\n",
              "                .geemap-dark {\n",
              "                    --jp-widgets-color: white;\n",
              "                    --jp-widgets-label-color: white;\n",
              "                    --jp-ui-font-color1: white;\n",
              "                    --jp-layout-color2: #454545;\n",
              "                    background-color: #383838;\n",
              "                }\n",
              "\n",
              "                .geemap-dark .jupyter-button {\n",
              "                    --jp-layout-color3: #383838;\n",
              "                }\n",
              "\n",
              "                .geemap-colab {\n",
              "                    background-color: var(--colab-primary-surface-color, white);\n",
              "                }\n",
              "\n",
              "                .geemap-colab .jupyter-button {\n",
              "                    --jp-layout-color3: var(--colab-primary-surface-color, white);\n",
              "                }\n",
              "            </style>\n",
              "            "
            ]
          },
          "metadata": {}
        }
      ]
    },
    {
      "cell_type": "markdown",
      "source": [
        "## Traits & Uncertainty Estimation"
      ],
      "metadata": {
        "id": "Hk4LHhSWVPWq"
      }
    },
    {
      "cell_type": "code",
      "metadata": {
        "id": "FIYid7EWdv1q",
        "colab": {
          "base_uri": "https://localhost:8080/",
          "height": 17
        },
        "outputId": "b7679cbe-d919-4f4a-bd34-61e78f158fde"
      },
      "source": [
        "# https://nsidc.org/data/user-resources/help-center/day-year-doy-calendar\n",
        "Date_Range = ee.Filter.dayOfYear(91, 120);\n",
        "Year_Range = ee.Filter.calendarRange(2019, 2023,'year');\n",
        "\n",
        "# Image Collection\n",
        "img_col = (ee.ImageCollection('COPERNICUS/S2_SR_HARMONIZED')\n",
        "  .filterBounds(polygon)\n",
        "  .filter(Date_Range)\n",
        "  .filter(Year_Range)\n",
        "  .map(maskS2cloud_and_water)\n",
        "  .select(['B2', 'B3', 'B4', 'B5', 'B6', 'B7', 'B8', 'B8A', 'B11', 'B12'])\n",
        "  .map(clip_StudyArea)\n",
        "  .map(clip_MVI));\n",
        "\n",
        "# Predicted mean trait\n",
        "trait = img_col.map(veg_index_GPR).mean().copyProperties(\n",
        "  source = img_col.first(),\n",
        "  properties = ['system:time_start']\n",
        "  );\n",
        "\n",
        "# Absolute uncertainty retrieval (SD)\n",
        "SD = img_col.map(get_GPR_uncertainty).mean().copyProperties(\n",
        "  source = img_col.first(),\n",
        "  properties = ['system:time_start']\n",
        "  );\n",
        "\n",
        "# Convert to image\n",
        "imageTrait = ee.Image(trait)\n",
        "imageSD = ee.Image(SD)"
      ],
      "execution_count": 10,
      "outputs": [
        {
          "output_type": "display_data",
          "data": {
            "text/plain": [
              "<IPython.core.display.HTML object>"
            ],
            "text/html": [
              "\n",
              "            <style>\n",
              "                .geemap-dark {\n",
              "                    --jp-widgets-color: white;\n",
              "                    --jp-widgets-label-color: white;\n",
              "                    --jp-ui-font-color1: white;\n",
              "                    --jp-layout-color2: #454545;\n",
              "                    background-color: #383838;\n",
              "                }\n",
              "\n",
              "                .geemap-dark .jupyter-button {\n",
              "                    --jp-layout-color3: #383838;\n",
              "                }\n",
              "\n",
              "                .geemap-colab {\n",
              "                    background-color: var(--colab-primary-surface-color, white);\n",
              "                }\n",
              "\n",
              "                .geemap-colab .jupyter-button {\n",
              "                    --jp-layout-color3: var(--colab-primary-surface-color, white);\n",
              "                }\n",
              "            </style>\n",
              "            "
            ]
          },
          "metadata": {}
        }
      ]
    },
    {
      "cell_type": "markdown",
      "source": [
        "## Visualization"
      ],
      "metadata": {
        "id": "6JmvVLQl83mZ"
      }
    },
    {
      "cell_type": "markdown",
      "source": [
        "### Visualization parameters"
      ],
      "metadata": {
        "id": "KoUX8nqH9Cby"
      }
    },
    {
      "cell_type": "code",
      "source": [
        "Uncertainty_palette = ['#305FCF', '#919CCC', '#E7E8C3', '#F0BC8B', '#D66C51', '#C44539']\n",
        "Trait_palette = ['#FFFF80', '#BEF75C', '#38E009', '#36A880', '#225D99', '#0C1078']\n",
        "\n",
        "vis_params_trait = {'min': 50, 'max': 70, 'palette': Trait_palette}\n",
        "vis_params_uncertainty = {'min': 5,'max': 20, 'palette': Uncertainty_palette}"
      ],
      "metadata": {
        "id": "IyVcKIEC87n8",
        "colab": {
          "base_uri": "https://localhost:8080/",
          "height": 17
        },
        "outputId": "658fa026-7e09-4ee9-b2f4-c0d25c25d540"
      },
      "execution_count": 11,
      "outputs": [
        {
          "output_type": "display_data",
          "data": {
            "text/plain": [
              "<IPython.core.display.HTML object>"
            ],
            "text/html": [
              "\n",
              "            <style>\n",
              "                .geemap-dark {\n",
              "                    --jp-widgets-color: white;\n",
              "                    --jp-widgets-label-color: white;\n",
              "                    --jp-ui-font-color1: white;\n",
              "                    --jp-layout-color2: #454545;\n",
              "                    background-color: #383838;\n",
              "                }\n",
              "\n",
              "                .geemap-dark .jupyter-button {\n",
              "                    --jp-layout-color3: #383838;\n",
              "                }\n",
              "\n",
              "                .geemap-colab {\n",
              "                    background-color: var(--colab-primary-surface-color, white);\n",
              "                }\n",
              "\n",
              "                .geemap-colab .jupyter-button {\n",
              "                    --jp-layout-color3: var(--colab-primary-surface-color, white);\n",
              "                }\n",
              "            </style>\n",
              "            "
            ]
          },
          "metadata": {}
        }
      ]
    },
    {
      "cell_type": "markdown",
      "source": [
        "### Visualization through geemap"
      ],
      "metadata": {
        "id": "wp_mS4FV9JiS"
      }
    },
    {
      "cell_type": "code",
      "source": [
        "image = ee.Image(imageTrait)\n",
        "\n",
        "Map = geemap.Map()\n",
        "Map.add_basemap('SATELLITE')\n",
        "Map.addLayer(image, vis_params_trait, 'Trait')\n",
        "Map.add_colorbar(vis_params_trait, label = 'Trait', layer_name = 'Trait', position = 'topright')\n",
        "Map.centerObject(studyArea, 11)\n",
        "Map"
      ],
      "metadata": {
        "id": "Js_lBTDb7kyb",
        "colab": {
          "base_uri": "https://localhost:8080/",
          "height": 621,
          "referenced_widgets": [
            "222725538ea34fdeadd0e2e8a142ea23",
            "ec67b9472cf64861b3506ee276b27c9f",
            "8ecc77f713d74c08ac41a3438b999dab",
            "3f5dc65aaaab4ce9bf0ead0ad5085331",
            "bfaef2c182ff4fbeb128f1eb7e6d8c1b",
            "80eb3c0fb8b04af2b0f063651905c028",
            "cd10c96aa6ac4fea8f2693c611fe6e07",
            "068b490263ab422980d22790be615b11",
            "60f4ff2a52264cb2ab51ec3d5e2b25f3",
            "d94923083cb04bdc8099517bda5f842b",
            "aa4eaa43d21b4050bab25ae5a1905211",
            "4404d19cf43c4c97a79817baf615a7d3",
            "855cf12c625547488182cda4c69913bc",
            "19b8b9e071cb4d48bc03af3e9987382e",
            "f6fba10df1294afdbac6bcd7acb2537a",
            "e030b41d7df0457c9253200dd7777fe0",
            "08997404bf59487fb76407e2e7fc9983",
            "e7a0c9a7d79646a48c261dbc0f294d74",
            "063e303357f54ded92912c9c7313017d",
            "c8ab008c3f2d4595a4a60c63613b871a",
            "8937a511bd5840cb923c6045127f4349",
            "71069cbecde841de9acfd8e80b29638a",
            "77a432b0f30f4daeb82713afd91b140a",
            "1a822e96b4734723af4d3c9a7c348863",
            "4a145a6fc918417fa4c42a03b5beff7a",
            "058d353ae4f44088badf124716b1a909",
            "0660d6ed1d3f4b67ac47537156ce424f",
            "be5c029acb49425394f8df106562bed9",
            "0b00162a956f4c0283879530d9b5e0d6"
          ]
        },
        "outputId": "75d50791-31ab-41c9-d647-cbd7c694a76c"
      },
      "execution_count": 12,
      "outputs": [
        {
          "output_type": "display_data",
          "data": {
            "text/plain": [
              "<IPython.core.display.HTML object>"
            ],
            "text/html": [
              "\n",
              "            <style>\n",
              "                .geemap-dark {\n",
              "                    --jp-widgets-color: white;\n",
              "                    --jp-widgets-label-color: white;\n",
              "                    --jp-ui-font-color1: white;\n",
              "                    --jp-layout-color2: #454545;\n",
              "                    background-color: #383838;\n",
              "                }\n",
              "\n",
              "                .geemap-dark .jupyter-button {\n",
              "                    --jp-layout-color3: #383838;\n",
              "                }\n",
              "\n",
              "                .geemap-colab {\n",
              "                    background-color: var(--colab-primary-surface-color, white);\n",
              "                }\n",
              "\n",
              "                .geemap-colab .jupyter-button {\n",
              "                    --jp-layout-color3: var(--colab-primary-surface-color, white);\n",
              "                }\n",
              "            </style>\n",
              "            "
            ]
          },
          "metadata": {}
        },
        {
          "output_type": "display_data",
          "data": {
            "text/plain": [
              "Map(center=[8.639246468107427, 104.86401340901274], controls=(WidgetControl(options=['position', 'transparent_…"
            ],
            "application/vnd.jupyter.widget-view+json": {
              "version_major": 2,
              "version_minor": 0,
              "model_id": "222725538ea34fdeadd0e2e8a142ea23"
            }
          },
          "metadata": {
            "application/vnd.jupyter.widget-view+json": {
              "colab": {
                "custom_widget_manager": {
                  "url": "https://ssl.gstatic.com/colaboratory-static/widgets/colab-cdn-widget-manager/2b70e893a8ba7c0f/manager.min.js"
                }
              }
            }
          }
        }
      ]
    },
    {
      "cell_type": "markdown",
      "source": [
        "### Visualization uncertainty through geemap"
      ],
      "metadata": {
        "id": "rxEL670ky2Xq"
      }
    },
    {
      "cell_type": "code",
      "source": [
        "image_unc = ee.Image(imageSD)\n",
        "\n",
        "Map = geemap.Map()\n",
        "Map.add_basemap('SATELLITE')\n",
        "Map.addLayer(image_unc, vis_params_uncertainty, 'uncertainty')\n",
        "Map.add_colorbar(vis_params_uncertainty, label = 'uncertainty', layer_name = 'uncertainty', position = 'topright')\n",
        "Map.centerObject(studyArea, 11)\n",
        "Map"
      ],
      "metadata": {
        "colab": {
          "base_uri": "https://localhost:8080/",
          "height": 621,
          "referenced_widgets": [
            "109d675f50ee4951991cd10d74399326",
            "064339a00c7948ce96683c9afc32c279",
            "54ecc12ac7fd4780bf404c482daa535f",
            "ea3450ea74c140a9ad108bb2c8d7e0d7",
            "d3d21c3e20c64658b1c011ba1beefa73",
            "1f9eb3ca1edd40e29f272d24d08c4341",
            "2d135c7355864f02bd4f658fcd801bcd",
            "0101bc2abf674e9cacf2da7e61dc67b1",
            "72b2c5a2a7914e438ec88a0c6fd9067b",
            "a89261b6e641402890a6b57cddafcf56",
            "b3787b72087a4f82ab4e47a2b86c58df",
            "c407fe32ba174be1af7a8ed253243805",
            "7b51702eb5f2439590bc939d5367c830",
            "2ffabddcf5004b688cc7fc7675575b87",
            "e41761f716084436848a71bcce852dca",
            "9f9612c5f941485cb776a96c7b302a8b",
            "b43d6eb23fc3455aa2b30b437ba7c036",
            "cbf9cd38283a4a6d9b86773b223de920",
            "21c2f1826e8e478394e0814468adc445",
            "a11a17303fae4accac6a607754703b03",
            "710c2b98bcb14e6dbf8e332617709fb8",
            "eee5439ee50a411c85b12e18648f8e60",
            "5710af6218d24b33ac3a8e181ef89792",
            "8938e9be786d46f0ab072169c0ba9271",
            "cd307d814bb3448486d9d851c7d18761",
            "ebe0bb35da8c4b3e926eca5af431c364",
            "1e945c070a954d32a0b2e0ea25e1f977",
            "c59e7b5c850e4bab8a03b47ac466a84c",
            "2abbd3ab7de44c5dba5fa52baf790451"
          ]
        },
        "id": "W-b7dgBsy5xw",
        "outputId": "1f2763be-0251-4370-ad31-7b4bd6f5c86f"
      },
      "execution_count": 13,
      "outputs": [
        {
          "output_type": "display_data",
          "data": {
            "text/plain": [
              "<IPython.core.display.HTML object>"
            ],
            "text/html": [
              "\n",
              "            <style>\n",
              "                .geemap-dark {\n",
              "                    --jp-widgets-color: white;\n",
              "                    --jp-widgets-label-color: white;\n",
              "                    --jp-ui-font-color1: white;\n",
              "                    --jp-layout-color2: #454545;\n",
              "                    background-color: #383838;\n",
              "                }\n",
              "\n",
              "                .geemap-dark .jupyter-button {\n",
              "                    --jp-layout-color3: #383838;\n",
              "                }\n",
              "\n",
              "                .geemap-colab {\n",
              "                    background-color: var(--colab-primary-surface-color, white);\n",
              "                }\n",
              "\n",
              "                .geemap-colab .jupyter-button {\n",
              "                    --jp-layout-color3: var(--colab-primary-surface-color, white);\n",
              "                }\n",
              "            </style>\n",
              "            "
            ]
          },
          "metadata": {}
        },
        {
          "output_type": "display_data",
          "data": {
            "text/plain": [
              "Map(center=[8.639246468107354, 104.86401340901276], controls=(WidgetControl(options=['position', 'transparent_…"
            ],
            "application/vnd.jupyter.widget-view+json": {
              "version_major": 2,
              "version_minor": 0,
              "model_id": "109d675f50ee4951991cd10d74399326"
            }
          },
          "metadata": {
            "application/vnd.jupyter.widget-view+json": {
              "colab": {
                "custom_widget_manager": {
                  "url": "https://ssl.gstatic.com/colaboratory-static/widgets/colab-cdn-widget-manager/2b70e893a8ba7c0f/manager.min.js"
                }
              }
            }
          }
        }
      ]
    },
    {
      "cell_type": "markdown",
      "source": [
        "## Export images to Google Earth Engine Asset"
      ],
      "metadata": {
        "id": "MeSWk7Ur9gBb"
      }
    },
    {
      "cell_type": "code",
      "source": [
        "# In order to visualize the image in this notebook avoiding memory problems,\n",
        "# the image should be exported to the GEE asset.\n",
        "\n",
        "# GEE user name\n",
        "geeUser = 'ngabinh1987'\n",
        "\n",
        "# Asset name\n",
        "assetName_trait = 'Cab_Apr_Mean_2019_2023'\n",
        "assetName_uncertainty = 'Cab_Apr_Mean_Unc_2019_2023'\n",
        "\n",
        "assetId_trait = 'users/' + geeUser + '/' + assetName_trait\n",
        "assetId_uncertainty = 'users/' + geeUser + '/' + assetName_uncertainty\n",
        "\n",
        "task_config1 = {\n",
        "    'image': imageTrait,\n",
        "    'description': 'Cab_Apr_Mean_2019_2023',\n",
        "    'assetId': assetId_trait,\n",
        "    'region': studyArea.geometry(),\n",
        "    'scale': 10,\n",
        "    'crs' : 'EPSG:4326'\n",
        "}\n",
        "task1 = ee.batch.Export.image.toAsset(**task_config1)\n",
        "task1.start()\n",
        "\n",
        "task_config2 = {\n",
        "    'image': imageSD,\n",
        "    'description': 'Cab_Apr_Mean_Unc_2019_2023',\n",
        "    'assetId': assetId_uncertainty,\n",
        "    'region': studyArea.geometry(),\n",
        "    'scale': 10,\n",
        "    'crs' : 'EPSG:4326'\n",
        "}\n",
        "task2 = ee.batch.Export.image.toAsset(**task_config2)\n",
        "task2.start()"
      ],
      "metadata": {
        "id": "ek_h0Eze_z3h"
      },
      "execution_count": null,
      "outputs": []
    },
    {
      "cell_type": "markdown",
      "source": [
        "### Check the status of the export task"
      ],
      "metadata": {
        "id": "EhtdC1wLCM4r"
      }
    },
    {
      "cell_type": "code",
      "source": [
        "# To visualize the image, the status must be \"COMPLETED\"\n",
        "desc1 = task1.status()['description']\n",
        "state1 = task1.status()['state']\n",
        "\n",
        "desc2 = task2.status()['description']\n",
        "state2 = task2.status()['state']\n",
        "\n",
        "print('The status of the task {} is: {}'.format(desc1,state1))\n",
        "print('The status of the task {} is: {}'.format(desc2,state2))"
      ],
      "metadata": {
        "id": "o3manky8CXBU",
        "colab": {
          "base_uri": "https://localhost:8080/"
        },
        "outputId": "da095b51-6b0c-4114-e381-603d4313ec41"
      },
      "execution_count": null,
      "outputs": [
        {
          "output_type": "stream",
          "name": "stdout",
          "text": [
            "The status of the task Cab_Apr_Mean_2019_2023 is: COMPLETED\n",
            "The status of the task Cab_Apr_Mean_Unc_2019_2023 is: COMPLETED\n"
          ]
        }
      ]
    },
    {
      "cell_type": "markdown",
      "source": [
        "## References"
      ],
      "metadata": {
        "id": "7_jHpUP9HY5r"
      }
    },
    {
      "cell_type": "markdown",
      "source": [
        "Wu, Q., (2020). geemap: A Python package for interactive mapping with Google Earth Engine. The Journal of Open Source Software, 5(51), 2305. https://doi.org/10.21105/joss.02305"
      ],
      "metadata": {
        "id": "ZKgq9hf1Hl9K"
      }
    }
  ]
}